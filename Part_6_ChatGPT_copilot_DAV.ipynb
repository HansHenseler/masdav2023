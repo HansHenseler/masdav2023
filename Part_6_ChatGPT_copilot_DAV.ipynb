{
  "nbformat": 4,
  "nbformat_minor": 0,
  "metadata": {
    "colab": {
      "provenance": [],
      "toc_visible": true,
      "authorship_tag": "ABX9TyP9rkPYZIzu0SOjJ43IXX2s",
      "include_colab_link": true
    },
    "kernelspec": {
      "name": "python3",
      "display_name": "Python 3"
    },
    "language_info": {
      "name": "python"
    }
  },
  "cells": [
    {
      "cell_type": "markdown",
      "metadata": {
        "id": "view-in-github",
        "colab_type": "text"
      },
      "source": [
        "<a href=\"https://colab.research.google.com/github/HansHenseler/masdav2023/blob/main/Part_6_ChatGPT_copilot_DAV.ipynb\" target=\"_parent\"><img src=\"https://colab.research.google.com/assets/colab-badge.svg\" alt=\"Open In Colab\"/></a>"
      ]
    },
    {
      "cell_type": "markdown",
      "source": [
        "# ChatGPT as a copilot for data analytics and visualization in digital forensics\n",
        "\n",
        "Part 6\n",
        "\n",
        "Master of Advanced Studies in Digital Forensics & Cyber Investigation\n",
        "\n",
        "Data Analytics and Visualization for Digital Forensics\n",
        "\n",
        "(c) Hans Henseler, 2023"
      ],
      "metadata": {
        "id": "k3yZ4IiSJxXb"
      }
    },
    {
      "cell_type": "markdown",
      "source": [
        "\n",
        "# Part 6\n",
        "\n",
        "The following Python code was written with the assistance of ChatGPT 4. The first part generates test data that with a format that is the same as the DirPrint excel file that we used in Part 1. It will help us to test. The second part reorganizes the data and draws a treemap using plotly. After the code the sessions with ChatGPT have been copied that illustrate how ChatGPT assisted us and how we prompted ChatGPT to get the result that we wanted. We could refine the code and actually present Python runtime or syntax errors based on which ChatGPT was able to make corrections (successfully).\n"
      ],
      "metadata": {
        "id": "vOBikc1hOYzA"
      }
    },
    {
      "cell_type": "code",
      "source": [
        "# Install and imports needed for the scripts in 1 and 2\n",
        "\n",
        "!pip install plotly\n",
        "\n",
        "import plotly.express as px\n",
        "import pandas as pd\n",
        "import random\n",
        "from datetime import datetime"
      ],
      "metadata": {
        "id": "BoKZ-qq8WAt0"
      },
      "execution_count": null,
      "outputs": []
    },
    {
      "cell_type": "markdown",
      "source": [
        "## 1 Script to generate test data\n",
        "\n",
        "We want the a csv file with data that is similar to the DirPrint_Filelist - clean.xlsx. This is what that looked like:\n",
        "\n",
        "```\n",
        "Attributes\tCreated\tLastMod\tLastAcc\tSize\tName\tPath\tFolder\tExt\tMd5\n",
        "---A----\t05/01/2021 19:19\t05/01/2021 19:19\t12/08/2021 20:58\t22.639\taksdrvsetup.log\tC:\\Windows\\aksdrvsetup.log\tC:\\Windows\\\tlog\t50D08E904772E94EB4B16817EB5BE4F1\n",
        "#NAAM?\t22/04/2021 19:57\t22/04/2021 19:57\t12/08/2021 20:58\t77.824\tbfsvc.exe\tC:\\Windows\\bfsvc.exe\tC:\\Windows\\\texe\t862251351EC170BB3BD59CB219491811\n",
        "---A----\t18/08/2020 10:52\t18/08/2020 10:54\t12/08/2021 20:58\t3.145.782\tBGInfo.bmp\tC:\\Windows\\BGInfo.bmp\tC:\\Windows\\\tbmp\tEC80E9F3112F716063C273FC1F75F552\n",
        "```"
      ],
      "metadata": {
        "id": "IWyxLx1NU8zb"
      }
    },
    {
      "cell_type": "code",
      "source": [
        "# Function to create a file row\n",
        "def create_file(folder, ext, size):\n",
        "    name = f'file_{random.randint(1, 1000000)}.{ext}'\n",
        "    path = f'{folder}\\\\{name}'\n",
        "    created = datetime.now().strftime(\"%d/%m/%Y %H:%M\")\n",
        "    return ['---A----', created, created, created, size, name, path, folder, ext, '']\n",
        "\n",
        "# File extensions for various types\n",
        "file_types = ['docx', 'xlsx', 'pptx', 'jpg', 'png', 'exe', 'mp4', 'mp3']\n",
        "\n",
        "# Create an empty DataFrame\n",
        "columns = ['Attributes', 'Created', 'LastMod', 'LastAcc', 'Size', 'Name', 'Path', 'Folder', 'Ext', 'Md5']\n",
        "df = pd.DataFrame(columns=columns)\n",
        "\n",
        "# Create root folders\n",
        "for i in range(3):\n",
        "    root_folder = f'C:\\\\Folder_{i}'\n",
        "\n",
        "    # Create subfolders\n",
        "    for j in range(random.randint(5, 15)):\n",
        "        subfolder = f'{root_folder}\\\\Subfolder_{j}'\n",
        "\n",
        "        # Create files in subfolder\n",
        "        for _ in range(random.randint(20, 50)):\n",
        "            ext = random.choice(file_types)\n",
        "            size = random.uniform(5, 500) # Size in KB\n",
        "            file_row = create_file(subfolder, ext, size)\n",
        "            df.loc[len(df)] = file_row\n",
        "\n",
        "        # Create files in the root folder\n",
        "        for _ in range(random.randint(10, 20)):\n",
        "            ext = random.choice(file_types)\n",
        "            size = random.uniform(5, 500) # Size in KB\n",
        "            file_row = create_file(root_folder, ext, size)\n",
        "            df.loc[len(df)] = file_row\n",
        "\n",
        "# Write to CSV\n",
        "df.to_csv('folder_structure.csv', index=False)\n"
      ],
      "metadata": {
        "id": "_BMMOCx1Ugk2"
      },
      "execution_count": null,
      "outputs": []
    },
    {
      "cell_type": "markdown",
      "source": [
        "##2 Presenting the data as a treemap\n"
      ],
      "metadata": {
        "id": "aCMyEG8MVgjq"
      }
    },
    {
      "cell_type": "code",
      "source": [
        "# Read the CSV file created earlier\n",
        "df = pd.read_csv('folder_structure.csv')\n",
        "\n",
        "# This code is for processing the actual xlsx file\n",
        "# file_path = \"DirPrint_Filelist - clean.xlsx\"\n",
        "# df = pd.read_excel(file_path)\n",
        "\n",
        "\n",
        "# Split the 'Path' column into a list\n",
        "df['path_list'] = df['Path'].str.split('\\\\')\n",
        "\n",
        "# Limit to a specific number of levels\n",
        "max_display_levels = 4\n",
        "\n",
        "# Create columns for the limited levels\n",
        "for i in range(max_display_levels):\n",
        "    df[f'level{i}'] = df['path_list'].apply(lambda x: x[i] if i < len(x) else None)\n",
        "\n",
        "# Create a treemap, with size based on 'Size' and color based on 'Ext'\n",
        "fig = px.treemap(df, path=[f'level{i}' for i in range(max_display_levels)], values='Size', color='Ext')\n",
        "\n",
        "# Show the treemap\n",
        "fig.show()\n"
      ],
      "metadata": {
        "colab": {
          "base_uri": "https://localhost:8080/",
          "height": 578
        },
        "id": "HE2Ep4DzPbnu",
        "outputId": "9208c407-870e-42b7-9607-82674513a7c5"
      },
      "execution_count": null,
      "outputs": [
        {
          "output_type": "stream",
          "name": "stdout",
          "text": [
            "Requirement already satisfied: plotly in /usr/local/lib/python3.10/dist-packages (5.13.1)\n",
            "Requirement already satisfied: tenacity>=6.2.0 in /usr/local/lib/python3.10/dist-packages (from plotly) (8.2.2)\n"
          ]
        },
        {
          "output_type": "display_data",
          "data": {
            "text/html": [
              "<html>\n",
              "<head><meta charset=\"utf-8\" /></head>\n",
              "<body>\n",
              "    <div>            <script src=\"https://cdnjs.cloudflare.com/ajax/libs/mathjax/2.7.5/MathJax.js?config=TeX-AMS-MML_SVG\"></script><script type=\"text/javascript\">if (window.MathJax && window.MathJax.Hub && window.MathJax.Hub.Config) {window.MathJax.Hub.Config({SVG: {font: \"STIX-Web\"}});}</script>                <script type=\"text/javascript\">window.PlotlyConfig = {MathJaxConfig: 'local'};</script>\n",
              "        <script src=\"https://cdn.plot.ly/plotly-2.18.2.min.js\"></script>                <div id=\"b68a2ebf-85b2-4653-9fbe-7f2e918d14fd\" class=\"plotly-graph-div\" style=\"height:525px; width:100%;\"></div>            <script type=\"text/javascript\">                                    window.PLOTLYENV=window.PLOTLYENV || {};                                    if (document.getElementById(\"b68a2ebf-85b2-4653-9fbe-7f2e918d14fd\")) {                    Plotly.newPlot(                        \"b68a2ebf-85b2-4653-9fbe-7f2e918d14fd\",                        [{\"branchvalues\":\"total\",\"customdata\":[[\"pptx\"],[\"pptx\"],[\"jpg\"],[\"pptx\"],[\"png\"],[\"pptx\"],[\"png\"],[\"mp4\"],[\"xlsx\"],[\"jpg\"],[\"docx\"],[\"mp3\"],[\"exe\"],[\"png\"],[\"pptx\"],[\"exe\"],[\"docx\"],[\"xlsx\"],[\"png\"],[\"jpg\"],[\"pptx\"],[\"docx\"],[\"mp4\"],[\"pptx\"],[\"xlsx\"],[\"jpg\"],[\"mp3\"],[\"png\"],[\"jpg\"],[\"jpg\"],[\"jpg\"],[\"xlsx\"],[\"png\"],[\"mp4\"],[\"docx\"],[\"mp4\"],[\"xlsx\"],[\"xlsx\"],[\"xlsx\"],[\"docx\"],[\"mp4\"],[\"docx\"],[\"jpg\"],[\"exe\"],[\"png\"],[\"xlsx\"],[\"jpg\"],[\"docx\"],[\"jpg\"],[\"png\"],[\"jpg\"],[\"xlsx\"],[\"mp4\"],[\"mp3\"],[\"exe\"],[\"png\"],[\"mp3\"],[\"jpg\"],[\"docx\"],[\"jpg\"],[\"pptx\"],[\"png\"],[\"xlsx\"],[\"pptx\"],[\"docx\"],[\"docx\"],[\"xlsx\"],[\"pptx\"],[\"jpg\"],[\"mp3\"],[\"docx\"],[\"exe\"],[\"exe\"],[\"pptx\"],[\"exe\"],[\"mp4\"],[\"mp3\"],[\"png\"],[\"mp4\"],[\"pptx\"],[\"pptx\"],[\"exe\"],[\"png\"],[\"xlsx\"],[\"(?)\"],[\"(?)\"],[\"(?)\"],[\"docx\"],[\"mp4\"],[\"mp3\"],[\"png\"],[\"xlsx\"],[\"docx\"],[\"docx\"],[\"mp3\"],[\"xlsx\"],[\"mp4\"],[\"pptx\"],[\"mp3\"],[\"docx\"],[\"mp4\"],[\"docx\"],[\"pptx\"],[\"png\"],[\"docx\"],[\"docx\"],[\"pptx\"],[\"docx\"],[\"mp3\"],[\"exe\"],[\"exe\"],[\"jpg\"],[\"xlsx\"],[\"mp4\"],[\"pptx\"],[\"png\"],[\"mp4\"],[\"mp4\"],[\"xlsx\"],[\"docx\"],[\"docx\"],[\"docx\"],[\"mp3\"],[\"mp4\"],[\"docx\"],[\"jpg\"],[\"mp3\"],[\"jpg\"],[\"pptx\"],[\"xlsx\"],[\"mp3\"],[\"png\"],[\"docx\"],[\"docx\"],[\"exe\"],[\"pptx\"],[\"exe\"],[\"xlsx\"],[\"xlsx\"],[\"png\"],[\"jpg\"],[\"docx\"],[\"exe\"],[\"pptx\"],[\"png\"],[\"docx\"],[\"png\"],[\"pptx\"],[\"mp4\"],[\"xlsx\"],[\"pptx\"],[\"xlsx\"],[\"exe\"],[\"pptx\"],[\"exe\"],[\"mp3\"],[\"xlsx\"],[\"xlsx\"],[\"pptx\"],[\"exe\"],[\"exe\"],[\"docx\"],[\"docx\"],[\"docx\"],[\"mp4\"],[\"png\"],[\"mp4\"],[\"png\"],[\"mp3\"],[\"xlsx\"],[\"png\"],[\"xlsx\"],[\"xlsx\"],[\"pptx\"],[\"pptx\"],[\"mp4\"],[\"mp4\"],[\"exe\"],[\"xlsx\"],[\"mp4\"],[\"exe\"],[\"mp3\"],[\"mp4\"],[\"png\"],[\"jpg\"],[\"exe\"],[\"jpg\"],[\"mp4\"],[\"mp3\"],[\"mp3\"],[\"pptx\"],[\"mp4\"],[\"docx\"],[\"mp3\"],[\"exe\"],[\"mp4\"],[\"jpg\"],[\"mp4\"],[\"mp4\"],[\"jpg\"],[\"mp4\"],[\"docx\"],[\"mp3\"],[\"png\"],[\"exe\"],[\"mp3\"],[\"mp4\"],[\"mp3\"],[\"pptx\"],[\"mp4\"],[\"mp4\"],[\"docx\"],[\"docx\"],[\"mp4\"],[\"xlsx\"],[\"docx\"],[\"docx\"],[\"exe\"],[\"docx\"],[\"png\"],[\"exe\"],[\"mp4\"],[\"mp4\"],[\"pptx\"],[\"png\"],[\"xlsx\"],[\"docx\"],[\"mp4\"],[\"exe\"],[\"docx\"],[\"mp4\"],[\"png\"],[\"png\"],[\"xlsx\"],[\"mp3\"],[\"pptx\"],[\"docx\"],[\"mp4\"],[\"docx\"],[\"xlsx\"],[\"mp3\"],[\"mp3\"],[\"docx\"],[\"png\"],[\"docx\"],[\"docx\"],[\"jpg\"],[\"docx\"],[\"png\"],[\"png\"],[\"mp4\"],[\"exe\"],[\"mp3\"],[\"jpg\"],[\"docx\"],[\"docx\"],[\"exe\"],[\"png\"],[\"xlsx\"],[\"xlsx\"],[\"pptx\"],[\"jpg\"],[\"png\"],[\"exe\"],[\"mp4\"],[\"xlsx\"],[\"png\"],[\"exe\"],[\"mp4\"],[\"xlsx\"],[\"pptx\"],[\"mp3\"],[\"docx\"],[\"exe\"],[\"mp4\"],[\"png\"],[\"mp4\"],[\"docx\"],[\"png\"],[\"exe\"],[\"png\"],[\"docx\"],[\"mp4\"],[\"xlsx\"],[\"xlsx\"],[\"xlsx\"],[\"exe\"],[\"jpg\"],[\"xlsx\"],[\"jpg\"],[\"pptx\"],[\"docx\"],[\"docx\"],[\"mp3\"],[\"jpg\"],[\"xlsx\"],[\"docx\"],[\"jpg\"],[\"exe\"],[\"xlsx\"],[\"pptx\"],[\"pptx\"],[\"pptx\"],[\"docx\"],[\"mp4\"],[\"xlsx\"],[\"pptx\"],[\"mp4\"],[\"jpg\"],[\"png\"],[\"docx\"],[\"docx\"],[\"xlsx\"],[\"pptx\"],[\"mp3\"],[\"exe\"],[\"docx\"],[\"png\"],[\"mp3\"],[\"docx\"],[\"mp3\"],[\"exe\"],[\"xlsx\"],[\"pptx\"],[\"mp3\"],[\"pptx\"],[\"mp3\"],[\"exe\"],[\"exe\"],[\"xlsx\"],[\"png\"],[\"jpg\"],[\"jpg\"],[\"jpg\"],[\"png\"],[\"xlsx\"],[\"exe\"],[\"docx\"],[\"docx\"],[\"png\"],[\"jpg\"],[\"exe\"],[\"(?)\"],[\"(?)\"],[\"jpg\"],[\"jpg\"],[\"(?)\"],[\"(?)\"],[\"mp4\"],[\"(?)\"],[\"exe\"],[\"(?)\"],[\"mp3\"],[\"exe\"],[\"xlsx\"],[\"mp3\"],[\"jpg\"],[\"png\"],[\"jpg\"],[\"mp3\"],[\"exe\"],[\"pptx\"],[\"png\"],[\"exe\"],[\"xlsx\"],[\"exe\"],[\"xlsx\"],[\"docx\"],[\"docx\"],[\"mp3\"],[\"pptx\"],[\"mp4\"],[\"mp4\"],[\"docx\"],[\"mp3\"],[\"jpg\"],[\"xlsx\"],[\"png\"],[\"xlsx\"],[\"jpg\"],[\"mp3\"],[\"pptx\"],[\"png\"],[\"mp3\"],[\"mp3\"],[\"docx\"],[\"docx\"],[\"xlsx\"],[\"xlsx\"],[\"exe\"],[\"xlsx\"],[\"mp3\"],[\"xlsx\"],[\"xlsx\"],[\"(?)\"],[\"xlsx\"],[\"pptx\"],[\"mp4\"],[\"pptx\"],[\"pptx\"],[\"exe\"],[\"docx\"],[\"jpg\"],[\"docx\"],[\"png\"],[\"mp3\"],[\"jpg\"],[\"jpg\"],[\"(?)\"],[\"docx\"],[\"exe\"],[\"mp4\"],[\"xlsx\"],[\"docx\"],[\"mp4\"],[\"docx\"],[\"mp4\"],[\"jpg\"],[\"exe\"],[\"exe\"],[\"pptx\"],[\"xlsx\"],[\"jpg\"],[\"mp4\"],[\"docx\"],[\"exe\"],[\"exe\"],[\"jpg\"],[\"mp3\"],[\"mp4\"],[\"jpg\"],[\"xlsx\"],[\"png\"],[\"jpg\"],[\"xlsx\"],[\"mp3\"],[\"exe\"],[\"xlsx\"],[\"docx\"],[\"pptx\"],[\"xlsx\"],[\"png\"],[\"xlsx\"],[\"mp4\"],[\"pptx\"],[\"png\"],[\"png\"],[\"mp3\"],[\"mp3\"],[\"jpg\"],[\"mp3\"],[\"png\"],[\"pptx\"],[\"mp4\"],[\"png\"],[\"exe\"],[\"jpg\"],[\"docx\"],[\"pptx\"],[\"exe\"],[\"xlsx\"],[\"jpg\"],[\"xlsx\"],[\"xlsx\"],[\"docx\"],[\"docx\"],[\"exe\"],[\"exe\"],[\"pptx\"],[\"mp3\"],[\"jpg\"],[\"mp4\"],[\"pptx\"],[\"mp3\"],[\"mp4\"],[\"mp4\"],[\"mp4\"],[\"mp3\"],[\"exe\"],[\"mp3\"],[\"exe\"],[\"png\"],[\"mp4\"],[\"exe\"],[\"pptx\"],[\"jpg\"],[\"mp3\"],[\"xlsx\"],[\"png\"],[\"jpg\"],[\"mp3\"],[\"docx\"],[\"exe\"],[\"docx\"],[\"png\"],[\"docx\"],[\"jpg\"],[\"mp3\"],[\"jpg\"],[\"mp3\"],[\"mp3\"],[\"docx\"],[\"pptx\"],[\"mp4\"],[\"exe\"],[\"mp4\"],[\"mp4\"],[\"mp4\"],[\"mp3\"],[\"jpg\"],[\"jpg\"],[\"mp3\"],[\"pptx\"],[\"exe\"],[\"exe\"],[\"mp3\"],[\"xlsx\"],[\"mp4\"],[\"png\"],[\"xlsx\"],[\"xlsx\"],[\"exe\"],[\"mp3\"],[\"png\"],[\"exe\"],[\"pptx\"],[\"pptx\"],[\"jpg\"],[\"mp3\"],[\"exe\"],[\"jpg\"],[\"mp4\"],[\"png\"],[\"jpg\"],[\"mp3\"],[\"mp3\"],[\"pptx\"],[\"exe\"],[\"exe\"],[\"png\"],[\"xlsx\"],[\"exe\"],[\"exe\"],[\"pptx\"],[\"docx\"],[\"docx\"],[\"jpg\"],[\"jpg\"],[\"xlsx\"],[\"jpg\"],[\"mp4\"],[\"xlsx\"],[\"mp3\"],[\"docx\"],[\"mp3\"],[\"pptx\"],[\"docx\"],[\"mp3\"],[\"mp3\"],[\"mp4\"],[\"png\"],[\"jpg\"],[\"mp3\"],[\"mp4\"],[\"exe\"],[\"mp3\"],[\"xlsx\"],[\"mp4\"],[\"pptx\"],[\"mp4\"],[\"png\"],[\"exe\"],[\"xlsx\"],[\"exe\"],[\"png\"],[\"xlsx\"],[\"exe\"],[\"docx\"],[\"mp3\"],[\"mp4\"],[\"mp4\"],[\"docx\"],[\"mp3\"],[\"pptx\"],[\"jpg\"],[\"(?)\"],[\"exe\"],[\"jpg\"],[\"mp3\"],[\"(?)\"],[\"mp3\"],[\"mp4\"],[\"(?)\"],[\"pptx\"],[\"(?)\"],[\"(?)\"],[\"exe\"],[\"mp4\"],[\"xlsx\"],[\"xlsx\"],[\"mp3\"],[\"(?)\"],[\"jpg\"],[\"(?)\"],[\"mp3\"],[\"mp3\"],[\"jpg\"],[\"pptx\"],[\"mp4\"],[\"jpg\"],[\"exe\"],[\"png\"],[\"mp4\"],[\"docx\"],[\"xlsx\"],[\"exe\"],[\"mp3\"],[\"jpg\"],[\"jpg\"],[\"exe\"],[\"png\"],[\"xlsx\"],[\"exe\"],[\"jpg\"],[\"png\"],[\"pptx\"],[\"xlsx\"],[\"jpg\"],[\"exe\"],[\"exe\"],[\"xlsx\"],[\"jpg\"],[\"mp3\"],[\"exe\"],[\"png\"],[\"mp3\"],[\"xlsx\"],[\"docx\"],[\"jpg\"],[\"pptx\"],[\"xlsx\"],[\"mp3\"],[\"xlsx\"],[\"png\"],[\"png\"],[\"png\"],[\"mp3\"],[\"exe\"],[\"pptx\"],[\"exe\"],[\"pptx\"],[\"exe\"],[\"exe\"],[\"exe\"],[\"mp3\"],[\"jpg\"],[\"pptx\"],[\"exe\"],[\"xlsx\"],[\"docx\"],[\"pptx\"],[\"exe\"],[\"exe\"],[\"mp3\"],[\"pptx\"],[\"png\"],[\"docx\"],[\"pptx\"],[\"mp4\"],[\"docx\"],[\"jpg\"],[\"pptx\"],[\"jpg\"],[\"docx\"],[\"mp4\"],[\"pptx\"],[\"mp3\"],[\"docx\"],[\"mp4\"],[\"jpg\"],[\"png\"],[\"mp4\"],[\"xlsx\"],[\"xlsx\"],[\"png\"],[\"jpg\"],[\"png\"],[\"png\"],[\"jpg\"],[\"mp3\"],[\"mp4\"],[\"png\"],[\"jpg\"],[\"mp3\"],[\"jpg\"],[\"png\"],[\"png\"],[\"jpg\"],[\"jpg\"],[\"docx\"],[\"docx\"],[\"mp3\"],[\"png\"],[\"mp3\"],[\"png\"],[\"mp4\"],[\"pptx\"],[\"png\"],[\"jpg\"],[\"mp4\"],[\"jpg\"],[\"mp4\"],[\"exe\"],[\"xlsx\"],[\"xlsx\"],[\"pptx\"],[\"docx\"],[\"jpg\"],[\"exe\"],[\"xlsx\"],[\"xlsx\"],[\"pptx\"],[\"exe\"],[\"xlsx\"],[\"docx\"],[\"jpg\"],[\"xlsx\"],[\"png\"],[\"xlsx\"],[\"exe\"],[\"exe\"],[\"docx\"],[\"xlsx\"],[\"mp3\"],[\"docx\"],[\"mp3\"],[\"docx\"],[\"mp4\"],[\"mp3\"],[\"mp3\"],[\"xlsx\"],[\"docx\"],[\"docx\"],[\"docx\"],[\"(?)\"],[\"mp4\"],[\"mp4\"],[\"mp3\"],[\"pptx\"],[\"mp3\"],[\"xlsx\"],[\"mp4\"],[\"xlsx\"],[\"pptx\"],[\"(?)\"],[\"xlsx\"],[\"docx\"],[\"jpg\"],[\"jpg\"],[\"jpg\"],[\"mp4\"],[\"xlsx\"],[\"mp4\"],[\"xlsx\"],[\"jpg\"],[\"png\"],[\"mp3\"],[\"pptx\"],[\"xlsx\"],[\"mp4\"],[\"jpg\"],[\"exe\"],[\"xlsx\"],[\"pptx\"],[\"docx\"],[\"mp3\"],[\"png\"],[\"jpg\"],[\"jpg\"],[\"exe\"],[\"mp4\"],[\"pptx\"],[\"mp4\"],[\"docx\"],[\"mp4\"],[\"xlsx\"],[\"xlsx\"],[\"mp4\"],[\"xlsx\"],[\"mp3\"],[\"docx\"],[\"exe\"],[\"mp4\"],[\"pptx\"],[\"pptx\"],[\"png\"],[\"exe\"],[\"png\"],[\"xlsx\"],[\"xlsx\"],[\"jpg\"],[\"docx\"],[\"exe\"],[\"docx\"],[\"pptx\"],[\"mp3\"],[\"xlsx\"],[\"mp4\"],[\"mp4\"],[\"exe\"],[\"jpg\"],[\"exe\"],[\"jpg\"],[\"jpg\"],[\"xlsx\"],[\"png\"],[\"mp4\"],[\"docx\"],[\"jpg\"],[\"docx\"],[\"mp4\"],[\"mp3\"],[\"xlsx\"],[\"mp4\"],[\"mp4\"],[\"xlsx\"],[\"pptx\"],[\"jpg\"],[\"pptx\"],[\"pptx\"],[\"docx\"],[\"jpg\"],[\"pptx\"],[\"mp3\"],[\"xlsx\"],[\"exe\"],[\"png\"],[\"mp3\"],[\"pptx\"],[\"mp4\"],[\"exe\"],[\"xlsx\"],[\"mp4\"],[\"mp3\"],[\"png\"],[\"mp3\"],[\"jpg\"],[\"png\"],[\"pptx\"],[\"xlsx\"],[\"jpg\"],[\"mp3\"],[\"docx\"],[\"mp3\"],[\"docx\"],[\"mp4\"],[\"png\"],[\"jpg\"],[\"docx\"],[\"pptx\"],[\"jpg\"],[\"mp3\"],[\"jpg\"],[\"jpg\"],[\"pptx\"],[\"xlsx\"],[\"exe\"],[\"mp3\"],[\"mp3\"],[\"xlsx\"],[\"docx\"],[\"docx\"],[\"mp4\"],[\"xlsx\"],[\"jpg\"],[\"mp4\"],[\"exe\"],[\"docx\"],[\"png\"],[\"mp3\"],[\"png\"],[\"xlsx\"],[\"pptx\"],[\"docx\"],[\"pptx\"],[\"xlsx\"],[\"docx\"],[\"(?)\"],[\"pptx\"],[\"mp3\"],[\"(?)\"],[\"mp3\"],[\"pptx\"],[\"jpg\"],[\"mp4\"],[\"png\"],[\"xlsx\"],[\"mp4\"],[\"jpg\"],[\"(?)\"],[\"mp3\"],[\"mp4\"],[\"mp3\"],[\"(?)\"],[\"png\"],[\"xlsx\"],[\"xlsx\"],[\"mp3\"],[\"mp3\"],[\"png\"],[\"pptx\"],[\"xlsx\"],[\"docx\"],[\"jpg\"],[\"mp3\"],[\"mp3\"],[\"mp4\"],[\"pptx\"],[\"mp4\"],[\"exe\"],[\"png\"],[\"exe\"],[\"mp3\"],[\"jpg\"],[\"pptx\"],[\"xlsx\"],[\"jpg\"],[\"docx\"],[\"docx\"],[\"pptx\"],[\"mp3\"],[\"pptx\"],[\"pptx\"],[\"mp4\"],[\"png\"],[\"pptx\"],[\"xlsx\"],[\"mp3\"],[\"mp3\"],[\"exe\"],[\"xlsx\"],[\"docx\"],[\"docx\"],[\"mp4\"],[\"jpg\"],[\"jpg\"],[\"mp4\"],[\"png\"],[\"docx\"],[\"mp3\"],[\"exe\"],[\"docx\"],[\"jpg\"],[\"jpg\"],[\"mp4\"],[\"xlsx\"],[\"mp3\"],[\"jpg\"],[\"png\"],[\"pptx\"],[\"exe\"],[\"docx\"],[\"mp4\"],[\"exe\"],[\"docx\"],[\"xlsx\"],[\"xlsx\"],[\"png\"],[\"jpg\"],[\"exe\"],[\"xlsx\"],[\"docx\"],[\"docx\"],[\"png\"],[\"mp3\"],[\"mp3\"],[\"png\"],[\"png\"],[\"pptx\"],[\"xlsx\"],[\"exe\"],[\"xlsx\"],[\"mp3\"],[\"mp4\"],[\"pptx\"],[\"mp4\"],[\"pptx\"],[\"mp4\"],[\"mp3\"],[\"pptx\"],[\"png\"],[\"mp3\"],[\"pptx\"],[\"xlsx\"],[\"png\"],[\"mp4\"],[\"mp3\"],[\"mp3\"],[\"mp4\"],[\"exe\"],[\"docx\"],[\"png\"],[\"pptx\"],[\"xlsx\"],[\"pptx\"],[\"mp4\"],[\"png\"],[\"exe\"],[\"exe\"],[\"exe\"],[\"png\"],[\"docx\"],[\"mp4\"],[\"mp4\"],[\"xlsx\"],[\"jpg\"],[\"jpg\"],[\"png\"],[\"png\"],[\"docx\"],[\"mp4\"],[\"xlsx\"],[\"jpg\"],[\"mp3\"],[\"xlsx\"],[\"mp4\"],[\"png\"],[\"pptx\"],[\"xlsx\"],[\"mp4\"],[\"jpg\"],[\"png\"],[\"png\"],[\"mp4\"],[\"jpg\"],[\"pptx\"],[\"xlsx\"],[\"pptx\"],[\"exe\"],[\"png\"],[\"exe\"],[\"xlsx\"],[\"xlsx\"],[\"xlsx\"],[\"docx\"],[\"xlsx\"],[\"docx\"],[\"mp4\"],[\"mp4\"],[\"mp3\"],[\"docx\"],[\"exe\"],[\"jpg\"],[\"pptx\"],[\"mp4\"],[\"exe\"],[\"png\"],[\"mp4\"],[\"docx\"],[\"mp4\"],[\"png\"],[\"mp4\"],[\"docx\"],[\"png\"],[\"docx\"],[\"jpg\"],[\"mp3\"],[\"xlsx\"],[\"exe\"],[\"pptx\"],[\"mp4\"],[\"exe\"],[\"exe\"],[\"mp4\"],[\"mp3\"],[\"xlsx\"],[\"jpg\"],[\"png\"],[\"jpg\"],[\"exe\"],[\"docx\"],[\"exe\"],[\"docx\"],[\"docx\"],[\"jpg\"],[\"xlsx\"],[\"jpg\"],[\"exe\"],[\"jpg\"],[\"png\"],[\"jpg\"],[\"jpg\"],[\"pptx\"],[\"docx\"],[\"xlsx\"],[\"exe\"],[\"pptx\"],[\"mp3\"],[\"exe\"],[\"xlsx\"],[\"xlsx\"],[\"mp4\"],[\"jpg\"],[\"xlsx\"],[\"jpg\"],[\"png\"],[\"pptx\"],[\"mp4\"],[\"exe\"],[\"docx\"],[\"mp3\"],[\"png\"],[\"mp3\"],[\"mp4\"],[\"xlsx\"],[\"xlsx\"],[\"png\"],[\"jpg\"],[\"docx\"],[\"png\"],[\"docx\"],[\"jpg\"],[\"docx\"],[\"png\"],[\"pptx\"],[\"exe\"],[\"exe\"],[\"exe\"],[\"docx\"],[\"jpg\"],[\"mp4\"],[\"xlsx\"],[\"xlsx\"],[\"exe\"],[\"xlsx\"],[\"exe\"],[\"exe\"],[\"png\"],[\"mp4\"],[\"pptx\"],[\"exe\"],[\"pptx\"],[\"exe\"],[\"docx\"],[\"jpg\"],[\"xlsx\"],[\"exe\"],[\"pptx\"],[\"exe\"],[\"pptx\"],[\"mp4\"],[\"mp4\"],[\"xlsx\"],[\"mp3\"],[\"mp3\"],[\"mp3\"],[\"pptx\"],[\"jpg\"],[\"docx\"],[\"xlsx\"],[\"docx\"],[\"pptx\"],[\"mp4\"],[\"mp3\"],[\"exe\"],[\"mp3\"],[\"mp3\"],[\"exe\"],[\"xlsx\"],[\"docx\"],[\"mp4\"],[\"mp3\"],[\"mp3\"],[\"jpg\"],[\"png\"],[\"mp3\"],[\"png\"],[\"pptx\"],[\"jpg\"],[\"exe\"],[\"xlsx\"],[\"pptx\"],[\"exe\"],[\"png\"],[\"mp4\"],[\"docx\"],[\"docx\"],[\"exe\"],[\"png\"],[\"mp4\"],[\"(?)\"],[\"mp4\"],[\"exe\"],[\"xlsx\"],[\"jpg\"],[\"jpg\"],[\"xlsx\"],[\"exe\"],[\"docx\"],[\"xlsx\"],[\"mp3\"],[\"docx\"],[\"mp4\"],[\"exe\"],[\"pptx\"],[\"png\"],[\"jpg\"],[\"exe\"],[\"jpg\"],[\"png\"],[\"mp4\"],[\"xlsx\"],[\"mp4\"],[\"exe\"],[\"pptx\"],[\"docx\"],[\"pptx\"],[\"mp4\"],[\"exe\"],[\"png\"],[\"png\"],[\"mp4\"],[\"mp3\"],[\"exe\"],[\"pptx\"],[\"png\"],[\"exe\"],[\"mp3\"],[\"pptx\"],[\"xlsx\"],[\"pptx\"],[\"jpg\"],[\"docx\"],[\"jpg\"],[\"jpg\"],[\"png\"],[\"docx\"],[\"png\"],[\"docx\"],[\"exe\"],[\"docx\"],[\"xlsx\"],[\"jpg\"],[\"jpg\"],[\"exe\"],[\"docx\"],[\"exe\"],[\"mp4\"],[\"xlsx\"],[\"docx\"],[\"mp4\"],[\"pptx\"],[\"png\"],[\"jpg\"],[\"jpg\"],[\"pptx\"],[\"jpg\"],[\"jpg\"],[\"pptx\"],[\"png\"],[\"png\"],[\"mp4\"],[\"xlsx\"],[\"png\"],[\"mp4\"],[\"exe\"],[\"exe\"],[\"exe\"],[\"png\"],[\"mp3\"],[\"docx\"],[\"mp3\"],[\"(?)\"],[\"mp4\"],[\"xlsx\"],[\"exe\"],[\"png\"],[\"xlsx\"],[\"xlsx\"],[\"mp4\"],[\"(?)\"],[\"pptx\"],[\"jpg\"],[\"xlsx\"],[\"(?)\"],[\"mp3\"],[\"(?)\"],[\"mp3\"],[\"exe\"],[\"mp3\"],[\"exe\"],[\"png\"],[\"xlsx\"],[\"pptx\"],[\"pptx\"],[\"exe\"],[\"png\"],[\"mp4\"],[\"png\"],[\"mp4\"],[\"png\"],[\"mp3\"],[\"xlsx\"],[\"jpg\"],[\"mp4\"],[\"exe\"],[\"docx\"],[\"pptx\"],[\"mp3\"],[\"pptx\"],[\"mp3\"],[\"mp4\"],[\"mp3\"],[\"mp3\"],[\"png\"],[\"xlsx\"],[\"xlsx\"],[\"pptx\"],[\"docx\"],[\"jpg\"],[\"png\"],[\"xlsx\"],[\"mp3\"],[\"xlsx\"],[\"mp3\"],[\"mp4\"],[\"xlsx\"],[\"mp3\"],[\"png\"],[\"mp3\"],[\"jpg\"],[\"png\"],[\"png\"],[\"exe\"],[\"mp3\"],[\"mp4\"],[\"mp4\"],[\"exe\"],[\"mp4\"],[\"png\"],[\"pptx\"],[\"xlsx\"],[\"png\"],[\"xlsx\"],[\"pptx\"],[\"docx\"],[\"png\"],[\"png\"],[\"exe\"],[\"jpg\"],[\"pptx\"],[\"jpg\"],[\"jpg\"],[\"png\"],[\"jpg\"],[\"pptx\"],[\"mp4\"],[\"png\"],[\"jpg\"],[\"png\"],[\"xlsx\"],[\"docx\"],[\"xlsx\"],[\"jpg\"],[\"mp3\"],[\"exe\"],[\"pptx\"],[\"exe\"],[\"pptx\"],[\"mp3\"],[\"mp3\"],[\"pptx\"],[\"mp4\"],[\"jpg\"],[\"pptx\"],[\"docx\"],[\"exe\"],[\"jpg\"],[\"mp3\"],[\"pptx\"],[\"docx\"],[\"jpg\"],[\"jpg\"],[\"mp3\"],[\"png\"],[\"pptx\"],[\"mp4\"],[\"pptx\"],[\"jpg\"],[\"jpg\"],[\"docx\"],[\"exe\"],[\"exe\"],[\"mp3\"],[\"docx\"],[\"exe\"],[\"xlsx\"],[\"jpg\"],[\"xlsx\"],[\"jpg\"],[\"jpg\"],[\"docx\"],[\"mp4\"],[\"pptx\"],[\"png\"],[\"mp3\"],[\"docx\"],[\"png\"],[\"mp3\"],[\"mp3\"],[\"exe\"],[\"png\"],[\"xlsx\"],[\"pptx\"],[\"exe\"],[\"png\"],[\"mp4\"],[\"pptx\"],[\"mp4\"],[\"mp4\"],[\"jpg\"],[\"jpg\"],[\"docx\"],[\"xlsx\"],[\"png\"],[\"jpg\"],[\"pptx\"],[\"png\"],[\"pptx\"],[\"xlsx\"],[\"(?)\"],[\"(?)\"],[\"(?)\"],[\"(?)\"]],\"domain\":{\"x\":[0.0,1.0],\"y\":[0.0,1.0]},\"hovertemplate\":\"labels=%{label}<br>Size=%{value}<br>parent=%{parent}<br>id=%{id}<br>Ext=%{customdata[0]}<extra></extra>\",\"ids\":[\"C:/Folder_1/file_951421.pptx\",\"C:/Folder_1/Subfolder_13/file_786226.pptx\",\"C:/Folder_1/Subfolder_2/file_796404.jpg\",\"C:/Folder_1/file_220306.pptx\",\"C:/Folder_1/Subfolder_13/file_251662.png\",\"C:/Folder_0/Subfolder_5/file_802403.pptx\",\"C:/Folder_1/Subfolder_9/file_412812.png\",\"C:/Folder_1/Subfolder_9/file_812980.mp4\",\"C:/Folder_1/Subfolder_11/file_816949.xlsx\",\"C:/Folder_1/Subfolder_5/file_818360.jpg\",\"C:/Folder_1/file_185563.docx\",\"C:/Folder_0/file_249554.mp3\",\"C:/Folder_0/Subfolder_1/file_265847.exe\",\"C:/Folder_2/Subfolder_1/file_400503.png\",\"C:/Folder_2/Subfolder_7/file_821371.pptx\",\"C:/Folder_2/file_1537.exe\",\"C:/Folder_0/file_150225.docx\",\"C:/Folder_2/file_13882.xlsx\",\"C:/Folder_1/Subfolder_4/file_399444.png\",\"C:/Folder_1/Subfolder_9/file_823732.jpg\",\"C:/Folder_2/Subfolder_5/file_396591.pptx\",\"C:/Folder_2/Subfolder_5/file_272263.docx\",\"C:/Folder_1/file_105315.mp4\",\"C:/Folder_0/Subfolder_1/file_820540.pptx\",\"C:/Folder_1/Subfolder_8/file_273813.xlsx\",\"C:/Folder_0/Subfolder_1/file_782184.jpg\",\"C:/Folder_1/Subfolder_4/file_781710.mp3\",\"C:/Folder_1/Subfolder_9/file_466283.png\",\"C:/Folder_2/file_450610.jpg\",\"C:/Folder_2/file_438521.jpg\",\"C:/Folder_2/Subfolder_6/file_708914.jpg\",\"C:/Folder_1/Subfolder_9/file_717945.xlsx\",\"C:/Folder_1/Subfolder_6/file_720043.png\",\"C:/Folder_1/file_406750.mp4\",\"C:/Folder_2/Subfolder_7/file_727128.docx\",\"C:/Folder_2/Subfolder_6/file_735032.mp4\",\"C:/Folder_1/Subfolder_4/file_231384.xlsx\",\"C:/Folder_0/Subfolder_2/file_244932.xlsx\",\"C:/Folder_0/file_367145.xlsx\",\"C:/Folder_2/Subfolder_7/file_446581.docx\",\"C:/Folder_0/Subfolder_4/file_234222.mp4\",\"C:/Folder_1/file_351880.docx\",\"C:/Folder_2/Subfolder_8/file_446159.jpg\",\"C:/Folder_1/Subfolder_8/file_442051.exe\",\"C:/Folder_1/Subfolder_12/file_439425.png\",\"C:/Folder_1/file_308789.xlsx\",\"C:/Folder_1/Subfolder_7/file_759075.jpg\",\"C:/Folder_1/file_298319.docx\",\"C:/Folder_2/Subfolder_6/file_76037.jpg\",\"C:/Folder_1/Subfolder_10/file_452314.png\",\"C:/Folder_2/Subfolder_2/file_277470.jpg\",\"C:/Folder_1/Subfolder_13/file_27751.xlsx\",\"C:/Folder_1/Subfolder_7/file_829645.mp4\",\"C:/Folder_1/Subfolder_13/file_872493.mp3\",\"C:/Folder_0/Subfolder_1/file_883452.exe\",\"C:/Folder_0/Subfolder_3/file_315752.png\",\"C:/Folder_1/Subfolder_10/file_369372.mp3\",\"C:/Folder_2/Subfolder_1/file_321349.jpg\",\"C:/Folder_2/Subfolder_1/file_367350.docx\",\"C:/Folder_2/Subfolder_2/file_887136.jpg\",\"C:/Folder_0/Subfolder_2/file_97560.pptx\",\"C:/Folder_0/Subfolder_0/file_361581.png\",\"C:/Folder_2/Subfolder_8/file_329823.xlsx\",\"C:/Folder_1/Subfolder_0/file_3093.pptx\",\"C:/Folder_2/Subfolder_2/file_960165.docx\",\"C:/Folder_1/Subfolder_6/file_951903.docx\",\"C:/Folder_1/Subfolder_11/file_901275.xlsx\",\"C:/Folder_2/Subfolder_6/file_95027.pptx\",\"C:/Folder_2/Subfolder_0/file_903251.jpg\",\"C:/Folder_2/Subfolder_8/file_357142.mp3\",\"C:/Folder_2/Subfolder_2/file_342668.docx\",\"C:/Folder_1/Subfolder_1/file_926423.exe\",\"C:/Folder_1/Subfolder_1/file_343903.exe\",\"C:/Folder_2/Subfolder_8/file_34523.pptx\",\"C:/Folder_0/Subfolder_2/file_933436.exe\",\"C:/Folder_2/Subfolder_1/file_333697.mp4\",\"C:/Folder_1/Subfolder_6/file_866464.mp3\",\"C:/Folder_1/Subfolder_0/file_307426.png\",\"C:/Folder_1/Subfolder_12/file_988627.mp4\",\"C:/Folder_1/Subfolder_11/file_836303.pptx\",\"C:/Folder_1/Subfolder_4/file_387877.pptx\",\"C:/Folder_1/Subfolder_7/file_3878.exe\",\"C:/Folder_2/Subfolder_4/file_28150.png\",\"C:/Folder_0/Subfolder_4/file_851206.xlsx\",\"C:/Folder_2/Subfolder_4\",\"C:/Folder_1/Subfolder_4\",\"C:/Folder_1/Subfolder_2\",\"C:/Folder_1/Subfolder_7/file_854479.docx\",\"C:/Folder_1/Subfolder_5/file_382434.mp4\",\"C:/Folder_0/Subfolder_0/file_382348.mp3\",\"C:/Folder_1/Subfolder_8/file_290887.png\",\"C:/Folder_0/Subfolder_1/file_998311.xlsx\",\"C:/Folder_2/Subfolder_5/file_998118.docx\",\"C:/Folder_1/Subfolder_4/file_997477.docx\",\"C:/Folder_0/Subfolder_3/file_994989.mp3\",\"C:/Folder_0/Subfolder_3/file_864613.xlsx\",\"C:/Folder_2/Subfolder_0/file_381252.mp4\",\"C:/Folder_1/Subfolder_6/file_37884.pptx\",\"C:/Folder_2/Subfolder_8/file_30284.mp3\",\"C:/Folder_1/Subfolder_11/file_864840.docx\",\"C:/Folder_1/Subfolder_2/file_377377.mp4\",\"C:/Folder_2/Subfolder_2/file_98884.docx\",\"C:/Folder_0/Subfolder_1/file_702788.pptx\",\"C:/Folder_0/file_4575.png\",\"C:/Folder_2/file_370136.docx\",\"C:/Folder_1/file_466698.docx\",\"C:/Folder_0/file_835418.pptx\",\"C:/Folder_1/Subfolder_12/file_577853.docx\",\"C:/Folder_0/file_820074.mp3\",\"C:/Folder_0/file_814237.exe\",\"C:/Folder_0/Subfolder_4/file_527982.exe\",\"C:/Folder_2/file_805641.jpg\",\"C:/Folder_1/Subfolder_5/file_527549.xlsx\",\"C:/Folder_0/Subfolder_3/file_141055.mp4\",\"C:/Folder_1/file_793177.pptx\",\"C:/Folder_0/file_784928.png\",\"C:/Folder_2/Subfolder_8/file_582638.mp4\",\"C:/Folder_1/Subfolder_6/file_148310.mp4\",\"C:/Folder_0/Subfolder_2/file_523390.xlsx\",\"C:/Folder_1/file_752098.docx\",\"C:/Folder_0/Subfolder_4/file_591818.docx\",\"C:/Folder_0/Subfolder_2/file_158523.docx\",\"C:/Folder_2/file_718427.mp3\",\"C:/Folder_1/Subfolder_4/file_602881.mp4\",\"C:/Folder_1/Subfolder_12/file_508367.docx\",\"C:/Folder_1/Subfolder_6/file_609548.jpg\",\"C:/Folder_1/file_680747.mp3\",\"C:/Folder_2/Subfolder_8/file_133979.jpg\",\"C:/Folder_1/file_658093.pptx\",\"C:/Folder_2/file_838116.xlsx\",\"C:/Folder_1/file_846321.mp3\",\"C:/Folder_1/Subfolder_5/file_104083.png\",\"C:/Folder_0/file_932594.docx\",\"C:/Folder_1/file_929502.docx\",\"C:/Folder_0/Subfolder_3/file_549235.exe\",\"C:/Folder_1/Subfolder_2/file_561744.pptx\",\"C:/Folder_2/Subfolder_8/file_547423.exe\",\"C:/Folder_1/Subfolder_8/file_544956.xlsx\",\"C:/Folder_0/Subfolder_4/file_544527.xlsx\",\"C:/Folder_2/file_907459.png\",\"C:/Folder_1/file_900629.jpg\",\"C:/Folder_1/Subfolder_9/file_569188.docx\",\"C:/Folder_0/Subfolder_4/file_53509.exe\",\"C:/Folder_2/Subfolder_5/file_534192.pptx\",\"C:/Folder_1/file_888542.png\",\"C:/Folder_1/file_873295.docx\",\"C:/Folder_2/file_861264.png\",\"C:/Folder_1/Subfolder_5/file_125741.pptx\",\"C:/Folder_1/file_860657.mp4\",\"C:/Folder_0/file_85807.xlsx\",\"C:/Folder_0/file_849424.pptx\",\"C:/Folder_1/Subfolder_7/file_572609.xlsx\",\"C:/Folder_0/file_843906.exe\",\"C:/Folder_2/Subfolder_3/file_621686.pptx\",\"C:/Folder_1/file_746458.exe\",\"C:/Folder_0/Subfolder_1/file_678377.mp3\",\"C:/Folder_1/Subfolder_5/file_653519.xlsx\",\"C:/Folder_2/file_51441.xlsx\",\"C:/Folder_2/Subfolder_3/file_64605.pptx\",\"C:/Folder_2/Subfolder_5/file_654031.exe\",\"C:/Folder_0/Subfolder_4/file_685162.exe\",\"C:/Folder_2/file_532112.docx\",\"C:/Folder_1/Subfolder_3/file_635047.docx\",\"C:/Folder_1/Subfolder_11/file_652686.docx\",\"C:/Folder_2/Subfolder_8/file_679816.mp4\",\"C:/Folder_2/Subfolder_3/file_48616.png\",\"C:/Folder_2/Subfolder_8/file_500051.mp4\",\"C:/Folder_1/Subfolder_2/file_655927.png\",\"C:/Folder_0/Subfolder_0/file_478827.mp3\",\"C:/Folder_2/file_552600.xlsx\",\"C:/Folder_1/Subfolder_6/file_694235.png\",\"C:/Folder_2/Subfolder_1/file_204150.xlsx\",\"C:/Folder_2/Subfolder_0/file_688476.xlsx\",\"C:/Folder_0/Subfolder_2/file_468303.pptx\",\"C:/Folder_1/Subfolder_3/file_657046.pptx\",\"C:/Folder_2/Subfolder_4/file_350107.mp4\",\"C:/Folder_1/Subfolder_10/file_567663.mp4\",\"C:/Folder_2/Subfolder_7/file_539158.exe\",\"C:/Folder_2/Subfolder_2/file_885129.xlsx\",\"C:/Folder_2/Subfolder_3/file_870241.mp4\",\"C:/Folder_0/Subfolder_3/file_883653.exe\",\"C:/Folder_2/Subfolder_1/file_718972.mp3\",\"C:/Folder_2/Subfolder_1/file_684106.mp4\",\"C:/Folder_2/Subfolder_6/file_408814.png\",\"C:/Folder_1/Subfolder_8/file_457284.jpg\",\"C:/Folder_2/Subfolder_4/file_69702.exe\",\"C:/Folder_1/Subfolder_3/file_93267.jpg\",\"C:/Folder_1/Subfolder_5/file_926683.mp4\",\"C:/Folder_0/Subfolder_4/file_556326.mp3\",\"C:/Folder_0/Subfolder_5/file_909870.mp3\",\"C:/Folder_1/Subfolder_11/file_557975.pptx\",\"C:/Folder_2/Subfolder_6/file_549121.mp4\",\"C:/Folder_2/Subfolder_6/file_901864.docx\",\"C:/Folder_1/Subfolder_6/file_893048.mp3\",\"C:/Folder_0/Subfolder_3/file_359088.exe\",\"C:/Folder_2/Subfolder_8/file_471565.mp4\",\"C:/Folder_0/Subfolder_1/file_458985.jpg\",\"C:/Folder_0/Subfolder_4/file_712506.mp4\",\"C:/Folder_1/Subfolder_0/file_898218.mp4\",\"C:/Folder_0/Subfolder_3/file_897755.jpg\",\"C:/Folder_2/Subfolder_0/file_897608.mp4\",\"C:/Folder_2/Subfolder_8/file_687096.docx\",\"C:/Folder_1/Subfolder_5/file_73786.mp3\",\"C:/Folder_0/Subfolder_1/file_465528.png\",\"C:/Folder_0/Subfolder_0/file_566711.exe\",\"C:/Folder_0/Subfolder_4/file_529863.mp3\",\"C:/Folder_1/Subfolder_2/file_745742.mp4\",\"C:/Folder_1/Subfolder_8/file_51488.mp3\",\"C:/Folder_2/Subfolder_2/file_492146.pptx\",\"C:/Folder_1/Subfolder_0/file_514849.mp4\",\"C:/Folder_1/Subfolder_12/file_822026.mp4\",\"C:/Folder_2/Subfolder_4/file_603921.docx\",\"C:/Folder_2/Subfolder_3/file_799641.docx\",\"C:/Folder_0/Subfolder_2/file_607990.mp4\",\"C:/Folder_1/Subfolder_12/file_700797.xlsx\",\"C:/Folder_0/Subfolder_5/file_49650.docx\",\"C:/Folder_1/Subfolder_5/file_504901.docx\",\"C:/Folder_2/Subfolder_8/file_630130.exe\",\"C:/Folder_1/Subfolder_4/file_818775.docx\",\"C:/Folder_1/Subfolder_0/file_403254.png\",\"C:/Folder_0/Subfolder_4/file_620666.exe\",\"C:/Folder_1/Subfolder_9/file_621286.mp4\",\"C:/Folder_1/Subfolder_5/file_626521.mp4\",\"C:/Folder_1/Subfolder_5/file_50494.pptx\",\"C:/Folder_1/Subfolder_6/file_47784.png\",\"C:/Folder_0/Subfolder_3/file_783041.xlsx\",\"C:/Folder_2/Subfolder_0/file_587430.docx\",\"C:/Folder_2/Subfolder_0/file_806328.mp4\",\"C:/Folder_1/Subfolder_13/file_444339.exe\",\"C:/Folder_2/Subfolder_7/file_654588.docx\",\"C:/Folder_1/Subfolder_12/file_75521.mp4\",\"C:/Folder_1/Subfolder_0/file_654367.png\",\"C:/Folder_0/Subfolder_1/file_438541.png\",\"C:/Folder_0/Subfolder_0/file_860642.xlsx\",\"C:/Folder_2/Subfolder_6/file_646842.mp3\",\"C:/Folder_2/Subfolder_0/file_482391.pptx\",\"C:/Folder_0/Subfolder_0/file_75936.docx\",\"C:/Folder_2/Subfolder_3/file_852414.mp4\",\"C:/Folder_1/Subfolder_4/file_526835.docx\",\"C:/Folder_2/Subfolder_8/file_581240.xlsx\",\"C:/Folder_2/Subfolder_1/file_781774.mp3\",\"C:/Folder_1/Subfolder_4/file_583578.mp3\",\"C:/Folder_0/Subfolder_4/file_832592.docx\",\"C:/Folder_2/Subfolder_2/file_580708.png\",\"C:/Folder_0/Subfolder_3/file_934507.docx\",\"C:/Folder_1/Subfolder_1/file_946593.docx\",\"C:/Folder_2/Subfolder_7/file_554368.jpg\",\"C:/Folder_0/file_693148.docx\",\"C:/Folder_2/file_327944.png\",\"C:/Folder_2/file_323198.png\",\"C:/Folder_1/file_308463.mp4\",\"C:/Folder_2/file_712810.exe\",\"C:/Folder_2/file_291681.mp3\",\"C:/Folder_2/file_277002.jpg\",\"C:/Folder_1/file_739793.docx\",\"C:/Folder_1/file_750339.docx\",\"C:/Folder_1/file_272410.exe\",\"C:/Folder_2/Subfolder_7/file_24736.png\",\"C:/Folder_0/Subfolder_2/file_247712.xlsx\",\"C:/Folder_1/Subfolder_0/file_238573.xlsx\",\"C:/Folder_2/file_25097.pptx\",\"C:/Folder_2/file_766667.jpg\",\"C:/Folder_1/file_222085.png\",\"C:/Folder_0/file_592400.exe\",\"C:/Folder_1/file_204608.mp4\",\"C:/Folder_2/file_769217.xlsx\",\"C:/Folder_0/Subfolder_2/file_147900.png\",\"C:/Folder_2/file_196012.exe\",\"C:/Folder_1/Subfolder_11/file_257337.mp4\",\"C:/Folder_2/file_76932.xlsx\",\"C:/Folder_2/Subfolder_1/file_26117.pptx\",\"C:/Folder_1/file_788980.mp3\",\"C:/Folder_2/file_186278.docx\",\"C:/Folder_1/file_755232.exe\",\"C:/Folder_0/file_331574.mp4\",\"C:/Folder_2/file_682535.png\",\"C:/Folder_0/file_342535.mp4\",\"C:/Folder_0/file_590055.docx\",\"C:/Folder_2/Subfolder_8/file_19134.png\",\"C:/Folder_2/file_597709.exe\",\"C:/Folder_0/file_608272.png\",\"C:/Folder_1/file_56348.docx\",\"C:/Folder_0/file_563409.mp4\",\"C:/Folder_1/file_52465.xlsx\",\"C:/Folder_2/file_513748.xlsx\",\"C:/Folder_0/file_505176.xlsx\",\"C:/Folder_2/file_499141.exe\",\"C:/Folder_1/file_633886.jpg\",\"C:/Folder_1/file_488057.xlsx\",\"C:/Folder_1/file_463664.jpg\",\"C:/Folder_0/Subfolder_4/file_217894.pptx\",\"C:/Folder_2/file_456820.docx\",\"C:/Folder_0/file_436186.docx\",\"C:/Folder_2/Subfolder_0/file_221626.mp3\",\"C:/Folder_1/file_432569.jpg\",\"C:/Folder_0/Subfolder_0/file_171161.xlsx\",\"C:/Folder_1/Subfolder_3/file_17115.docx\",\"C:/Folder_1/Subfolder_3/file_348008.jpg\",\"C:/Folder_2/file_422622.exe\",\"C:/Folder_2/Subfolder_2/file_22946.xlsx\",\"C:/Folder_1/file_391941.pptx\",\"C:/Folder_2/file_382763.pptx\",\"C:/Folder_0/file_36074.pptx\",\"C:/Folder_1/file_358570.docx\",\"C:/Folder_1/file_179188.mp4\",\"C:/Folder_2/Subfolder_6/file_266988.xlsx\",\"C:/Folder_1/file_212007.pptx\",\"C:/Folder_0/file_124972.mp4\",\"C:/Folder_2/file_893399.jpg\",\"C:/Folder_0/Subfolder_3/file_306752.png\",\"C:/Folder_1/Subfolder_3/file_308358.docx\",\"C:/Folder_0/Subfolder_5/file_11952.docx\",\"C:/Folder_1/file_89942.xlsx\",\"C:/Folder_2/file_17424.pptx\",\"C:/Folder_2/Subfolder_5/file_31921.mp3\",\"C:/Folder_1/Subfolder_5/file_980545.exe\",\"C:/Folder_1/Subfolder_8/file_321969.docx\",\"C:/Folder_1/Subfolder_4/file_32278.png\",\"C:/Folder_1/Subfolder_2/file_109662.mp3\",\"C:/Folder_0/Subfolder_3/file_327900.docx\",\"C:/Folder_2/Subfolder_6/file_972960.mp3\",\"C:/Folder_1/Subfolder_9/file_331816.exe\",\"C:/Folder_1/Subfolder_3/file_958104.xlsx\",\"C:/Folder_1/Subfolder_11/file_952454.pptx\",\"C:/Folder_0/file_911674.mp3\",\"C:/Folder_2/Subfolder_7/file_108817.pptx\",\"C:/Folder_1/Subfolder_5/file_108692.mp3\",\"C:/Folder_1/Subfolder_5/file_944777.exe\",\"C:/Folder_1/Subfolder_0/file_944670.exe\",\"C:/Folder_1/Subfolder_7/file_342928.xlsx\",\"C:/Folder_2/Subfolder_8/file_345053.png\",\"C:/Folder_2/Subfolder_6/file_107467.jpg\",\"C:/Folder_1/file_926046.jpg\",\"C:/Folder_1/Subfolder_1/file_301868.jpg\",\"C:/Folder_1/Subfolder_8/file_122331.png\",\"C:/Folder_0/Subfolder_0/file_312874.xlsx\",\"C:/Folder_2/Subfolder_0/file_279845.exe\",\"C:/Folder_2/Subfolder_8/file_26993.docx\",\"C:/Folder_1/Subfolder_4/file_26994.docx\",\"C:/Folder_1/file_804162.png\",\"C:/Folder_0/file_810728.jpg\",\"C:/Folder_2/Subfolder_7/file_278536.exe\",\"C:/Folder_2/Subfolder_7\",\"C:/Folder_2/Subfolder_6\",\"C:/Folder_0/Subfolder_5/file_282349.jpg\",\"C:/Folder_1/file_836006.jpg\",\"C:/Folder_0/Subfolder_3\",\"C:/Folder_1/Subfolder_13\",\"C:/Folder_0/Subfolder_1/file_19709.mp4\",\"C:/Folder_1/Subfolder_10\",\"C:/Folder_1/file_846918.exe\",\"C:/Folder_1/Subfolder_0\",\"C:/Folder_2/Subfolder_5/file_577244.mp3\",\"C:/Folder_2/Subfolder_4/file_634537.exe\",\"C:/Folder_1/Subfolder_2/file_561503.xlsx\",\"C:/Folder_1/file_915485.mp3\",\"C:/Folder_1/file_626978.jpg\",\"C:/Folder_1/file_617049.png\",\"C:/Folder_0/Subfolder_2/file_645856.jpg\",\"C:/Folder_2/file_614495.mp3\",\"C:/Folder_1/file_713333.exe\",\"C:/Folder_2/Subfolder_3/file_632317.pptx\",\"C:/Folder_1/file_923630.png\",\"C:/Folder_1/Subfolder_3/file_646240.exe\",\"C:/Folder_0/Subfolder_3/file_560032.xlsx\",\"C:/Folder_0/Subfolder_4/file_652257.exe\",\"C:/Folder_2/file_606790.xlsx\",\"C:/Folder_1/file_802184.docx\",\"C:/Folder_2/Subfolder_5/file_576608.docx\",\"C:/Folder_2/file_608723.mp3\",\"C:/Folder_2/file_629835.pptx\",\"C:/Folder_1/Subfolder_6/file_580057.mp4\",\"C:/Folder_1/Subfolder_7/file_603946.mp4\",\"C:/Folder_0/Subfolder_5/file_593966.docx\",\"C:/Folder_1/file_68236.mp3\",\"C:/Folder_1/Subfolder_4/file_588881.jpg\",\"C:/Folder_2/file_664590.xlsx\",\"C:/Folder_2/file_904509.png\",\"C:/Folder_2/Subfolder_6/file_618525.xlsx\",\"C:/Folder_0/Subfolder_4/file_567814.jpg\",\"C:/Folder_1/Subfolder_1/file_585207.mp3\",\"C:/Folder_2/Subfolder_6/file_561883.pptx\",\"C:/Folder_2/file_827309.png\",\"C:/Folder_2/file_648937.mp3\",\"C:/Folder_2/Subfolder_1/file_596598.mp3\",\"C:/Folder_1/Subfolder_5/file_569936.docx\",\"C:/Folder_0/Subfolder_3/file_583147.docx\",\"C:/Folder_1/Subfolder_7/file_577936.xlsx\",\"C:/Folder_1/file_896451.xlsx\",\"C:/Folder_2/file_630617.exe\",\"C:/Folder_2/file_673209.xlsx\",\"C:/Folder_1/file_701011.mp3\",\"C:/Folder_2/Subfolder_2/file_934645.xlsx\",\"C:/Folder_2/file_569372.xlsx\",\"C:/Folder_0/Subfolder_0\",\"C:/Folder_1/Subfolder_1/file_859781.xlsx\",\"C:/Folder_0/Subfolder_3/file_858280.pptx\",\"C:/Folder_1/Subfolder_10/file_851338.mp4\",\"C:/Folder_2/Subfolder_6/file_850067.pptx\",\"C:/Folder_1/Subfolder_7/file_844307.pptx\",\"C:/Folder_1/Subfolder_12/file_992377.exe\",\"C:/Folder_0/Subfolder_5/file_832029.docx\",\"C:/Folder_0/Subfolder_2/file_82726.jpg\",\"C:/Folder_1/file_116394.docx\",\"C:/Folder_1/file_186534.png\",\"C:/Folder_1/Subfolder_6/file_817227.mp3\",\"C:/Folder_2/Subfolder_0/file_808627.jpg\",\"C:/Folder_0/file_202900.jpg\",\"C:/Folder_1/Subfolder_9\",\"C:/Folder_2/Subfolder_4/file_990735.docx\",\"C:/Folder_1/Subfolder_4/file_990437.exe\",\"C:/Folder_2/Subfolder_5/file_9864.mp4\",\"C:/Folder_2/Subfolder_5/file_93689.xlsx\",\"C:/Folder_0/Subfolder_5/file_937628.docx\",\"C:/Folder_0/Subfolder_2/file_938513.mp4\",\"C:/Folder_2/Subfolder_7/file_920706.docx\",\"C:/Folder_2/Subfolder_1/file_909109.mp4\",\"C:/Folder_0/Subfolder_5/file_904998.jpg\",\"C:/Folder_1/Subfolder_6/file_555631.exe\",\"C:/Folder_2/Subfolder_7/file_949659.exe\",\"C:/Folder_1/Subfolder_9/file_950343.pptx\",\"C:/Folder_1/Subfolder_7/file_894117.xlsx\",\"C:/Folder_1/Subfolder_4/file_889520.jpg\",\"C:/Folder_0/Subfolder_4/file_88950.mp4\",\"C:/Folder_1/Subfolder_1/file_982207.docx\",\"C:/Folder_2/Subfolder_4/file_879182.exe\",\"C:/Folder_0/Subfolder_4/file_982747.exe\",\"C:/Folder_1/file_211298.jpg\",\"C:/Folder_1/file_594496.mp3\",\"C:/Folder_2/Subfolder_0/file_797195.mp4\",\"C:/Folder_2/Subfolder_6/file_792077.jpg\",\"C:/Folder_2/Subfolder_6/file_695207.xlsx\",\"C:/Folder_2/file_512714.png\",\"C:/Folder_1/Subfolder_1/file_687857.jpg\",\"C:/Folder_1/Subfolder_9/file_687330.xlsx\",\"C:/Folder_0/file_537283.mp3\",\"C:/Folder_1/Subfolder_5/file_680861.exe\",\"C:/Folder_1/file_491611.xlsx\",\"C:/Folder_1/file_54409.docx\",\"C:/Folder_1/Subfolder_2/file_672925.pptx\",\"C:/Folder_1/Subfolder_0/file_667864.xlsx\",\"C:/Folder_2/Subfolder_3/file_661369.png\",\"C:/Folder_1/file_564041.xlsx\",\"C:/Folder_2/Subfolder_3/file_656157.mp4\",\"C:/Folder_1/Subfolder_4/file_65596.pptx\",\"C:/Folder_2/file_561585.png\",\"C:/Folder_1/Subfolder_8/file_704681.png\",\"C:/Folder_0/Subfolder_1/file_709127.mp3\",\"C:/Folder_1/file_430613.mp3\",\"C:/Folder_1/file_246736.jpg\",\"C:/Folder_1/Subfolder_12/file_778882.mp3\",\"C:/Folder_0/Subfolder_1/file_776288.png\",\"C:/Folder_0/Subfolder_1/file_77161.pptx\",\"C:/Folder_0/Subfolder_3/file_764001.mp4\",\"C:/Folder_1/Subfolder_8/file_761799.png\",\"C:/Folder_1/file_303400.exe\",\"C:/Folder_1/file_947615.jpg\",\"C:/Folder_1/Subfolder_3/file_754279.docx\",\"C:/Folder_1/Subfolder_2/file_748139.pptx\",\"C:/Folder_1/file_341461.exe\",\"C:/Folder_0/Subfolder_0/file_744295.xlsx\",\"C:/Folder_1/file_35908.jpg\",\"C:/Folder_1/Subfolder_7/file_718932.xlsx\",\"C:/Folder_1/file_427151.xlsx\",\"C:/Folder_1/file_228198.docx\",\"C:/Folder_1/file_424867.docx\",\"C:/Folder_0/Subfolder_0/file_101223.exe\",\"C:/Folder_2/Subfolder_0/file_169953.exe\",\"C:/Folder_0/Subfolder_3/file_365762.pptx\",\"C:/Folder_2/Subfolder_1/file_13115.mp3\",\"C:/Folder_2/Subfolder_6/file_217443.jpg\",\"C:/Folder_2/Subfolder_4/file_362740.mp4\",\"C:/Folder_0/Subfolder_0/file_360803.pptx\",\"C:/Folder_1/Subfolder_13/file_516264.mp3\",\"C:/Folder_2/Subfolder_6/file_356244.mp4\",\"C:/Folder_1/Subfolder_8/file_356212.mp4\",\"C:/Folder_2/Subfolder_2/file_159175.mp4\",\"C:/Folder_0/Subfolder_2/file_355536.mp3\",\"C:/Folder_1/Subfolder_7/file_431629.exe\",\"C:/Folder_1/Subfolder_2/file_392005.mp3\",\"C:/Folder_2/Subfolder_1/file_521363.exe\",\"C:/Folder_2/Subfolder_3/file_345345.png\",\"C:/Folder_1/Subfolder_7/file_20753.mp4\",\"C:/Folder_1/Subfolder_4/file_36635.exe\",\"C:/Folder_1/Subfolder_5/file_413598.pptx\",\"C:/Folder_1/Subfolder_5/file_250262.jpg\",\"C:/Folder_2/Subfolder_0/file_480964.mp3\",\"C:/Folder_0/Subfolder_0/file_236120.xlsx\",\"C:/Folder_0/Subfolder_3/file_141480.png\",\"C:/Folder_2/Subfolder_0/file_139451.jpg\",\"C:/Folder_0/Subfolder_3/file_49637.mp3\",\"C:/Folder_2/Subfolder_1/file_402428.docx\",\"C:/Folder_1/Subfolder_8/file_40513.exe\",\"C:/Folder_0/Subfolder_4/file_23879.docx\",\"C:/Folder_2/Subfolder_1/file_121.png\",\"C:/Folder_1/Subfolder_2/file_38311.docx\",\"C:/Folder_0/Subfolder_0/file_382111.jpg\",\"C:/Folder_0/Subfolder_0/file_410369.mp3\",\"C:/Folder_1/Subfolder_4/file_484011.jpg\",\"C:/Folder_2/Subfolder_3/file_243863.mp3\",\"C:/Folder_0/Subfolder_4/file_226114.mp3\",\"C:/Folder_1/Subfolder_13/file_372499.docx\",\"C:/Folder_2/Subfolder_8/file_481526.pptx\",\"C:/Folder_0/Subfolder_2/file_48711.mp4\",\"C:/Folder_2/Subfolder_4/file_339020.exe\",\"C:/Folder_1/Subfolder_7/file_264317.mp4\",\"C:/Folder_1/Subfolder_12/file_335190.mp4\",\"C:/Folder_2/Subfolder_2/file_16487.mp4\",\"C:/Folder_1/Subfolder_5/file_284454.mp3\",\"C:/Folder_2/Subfolder_8/file_476967.jpg\",\"C:/Folder_2/Subfolder_6/file_108179.jpg\",\"C:/Folder_1/Subfolder_8/file_470949.mp3\",\"C:/Folder_2/Subfolder_1/file_165001.pptx\",\"C:/Folder_1/Subfolder_5/file_540832.exe\",\"C:/Folder_1/Subfolder_1/file_307875.exe\",\"C:/Folder_2/Subfolder_6/file_544611.mp3\",\"C:/Folder_1/Subfolder_6/file_106892.xlsx\",\"C:/Folder_1/Subfolder_13/file_179898.mp4\",\"C:/Folder_1/Subfolder_4/file_178531.png\",\"C:/Folder_2/Subfolder_1/file_46242.xlsx\",\"C:/Folder_1/Subfolder_5/file_468184.xlsx\",\"C:/Folder_2/Subfolder_7/file_305594.exe\",\"C:/Folder_0/Subfolder_5/file_467613.mp3\",\"C:/Folder_2/Subfolder_3/file_295773.png\",\"C:/Folder_0/Subfolder_3/file_457747.exe\",\"C:/Folder_2/Subfolder_4/file_199150.pptx\",\"C:/Folder_2/Subfolder_7/file_536225.pptx\",\"C:/Folder_2/Subfolder_3/file_199584.jpg\",\"C:/Folder_2/Subfolder_5/file_447867.mp3\",\"C:/Folder_2/Subfolder_5/file_201716.exe\",\"C:/Folder_0/Subfolder_0/file_201928.jpg\",\"C:/Folder_1/Subfolder_11/file_452930.mp4\",\"C:/Folder_2/Subfolder_0/file_728087.png\",\"C:/Folder_0/file_560124.jpg\",\"C:/Folder_2/file_519124.mp3\",\"C:/Folder_1/Subfolder_2/file_230579.mp3\",\"C:/Folder_1/Subfolder_13/file_175538.pptx\",\"C:/Folder_1/file_530066.exe\",\"C:/Folder_1/Subfolder_12/file_404497.exe\",\"C:/Folder_1/file_369614.png\",\"C:/Folder_2/Subfolder_7/file_232232.xlsx\",\"C:/Folder_0/Subfolder_3/file_757399.exe\",\"C:/Folder_1/Subfolder_4/file_703130.exe\",\"C:/Folder_1/file_366570.pptx\",\"C:/Folder_1/Subfolder_0/file_740245.docx\",\"C:/Folder_0/Subfolder_3/file_824077.docx\",\"C:/Folder_2/file_352635.jpg\",\"C:/Folder_1/file_552351.jpg\",\"C:/Folder_1/file_559296.xlsx\",\"C:/Folder_0/Subfolder_5/file_228962.jpg\",\"C:/Folder_2/Subfolder_2/file_208763.mp4\",\"C:/Folder_2/file_627287.xlsx\",\"C:/Folder_1/file_513370.mp3\",\"C:/Folder_1/Subfolder_8/file_781991.docx\",\"C:/Folder_2/Subfolder_0/file_419860.mp3\",\"C:/Folder_1/file_461627.pptx\",\"C:/Folder_0/Subfolder_5/file_723895.docx\",\"C:/Folder_1/file_48159.mp3\",\"C:/Folder_2/Subfolder_3/file_716311.mp3\",\"C:/Folder_0/Subfolder_4/file_413798.mp4\",\"C:/Folder_2/Subfolder_2/file_775897.png\",\"C:/Folder_1/Subfolder_13/file_775287.jpg\",\"C:/Folder_2/Subfolder_8/file_803186.mp3\",\"C:/Folder_2/Subfolder_3/file_803562.mp4\",\"C:/Folder_1/Subfolder_4/file_805794.exe\",\"C:/Folder_1/Subfolder_11/file_21251.mp3\",\"C:/Folder_1/Subfolder_11/file_715942.xlsx\",\"C:/Folder_1/Subfolder_10/file_458644.mp4\",\"C:/Folder_1/Subfolder_8/file_434944.pptx\",\"C:/Folder_0/Subfolder_3/file_199447.mp4\",\"C:/Folder_0/Subfolder_2/file_81039.png\",\"C:/Folder_1/file_347332.exe\",\"C:/Folder_1/Subfolder_4/file_214015.xlsx\",\"C:/Folder_0/Subfolder_4/file_834689.exe\",\"C:/Folder_2/Subfolder_2/file_939987.png\",\"C:/Folder_1/file_171352.xlsx\",\"C:/Folder_2/Subfolder_2/file_943068.exe\",\"C:/Folder_2/file_14866.docx\",\"C:/Folder_1/Subfolder_1/file_948921.mp3\",\"C:/Folder_1/file_145337.mp4\",\"C:/Folder_1/file_143376.mp4\",\"C:/Folder_1/Subfolder_11/file_951822.docx\",\"C:/Folder_2/file_135729.mp3\",\"C:/Folder_0/Subfolder_3/file_952967.pptx\",\"C:/Folder_0/Subfolder_2/file_277610.jpg\",\"C:/Folder_1/Subfolder_8\",\"C:/Folder_1/Subfolder_0/file_280315.exe\",\"C:/Folder_1/Subfolder_11/file_969344.jpg\",\"C:/Folder_2/Subfolder_7/file_971465.mp3\",\"C:/Folder_0/Subfolder_4\",\"C:/Folder_1/Subfolder_9/file_324788.mp3\",\"C:/Folder_1/Subfolder_3/file_290662.mp4\",\"C:/Folder_2/Subfolder_0\",\"C:/Folder_1/Subfolder_8/file_306840.pptx\",\"C:/Folder_0/Subfolder_1\",\"C:/Folder_1/Subfolder_1\",\"C:/Folder_1/Subfolder_5/file_98828.exe\",\"C:/Folder_1/Subfolder_8/file_939186.mp4\",\"C:/Folder_2/Subfolder_2/file_988055.xlsx\",\"C:/Folder_2/Subfolder_8/file_985228.xlsx\",\"C:/Folder_1/Subfolder_10/file_286087.mp3\",\"C:/Folder_2/Subfolder_2\",\"C:/Folder_1/Subfolder_9/file_319355.jpg\",\"C:/Folder_1/Subfolder_3\",\"C:/Folder_0/Subfolder_1/file_554670.mp3\",\"C:/Folder_2/Subfolder_3/file_987902.mp3\",\"C:/Folder_2/Subfolder_2/file_343241.jpg\",\"C:/Folder_1/file_179467.pptx\",\"C:/Folder_1/Subfolder_3/file_936321.mp4\",\"C:/Folder_1/Subfolder_11/file_87586.jpg\",\"C:/Folder_1/Subfolder_8/file_873849.exe\",\"C:/Folder_1/Subfolder_0/file_372694.png\",\"C:/Folder_1/Subfolder_4/file_238886.mp4\",\"C:/Folder_2/Subfolder_4/file_860521.docx\",\"C:/Folder_1/Subfolder_1/file_702278.xlsx\",\"C:/Folder_1/Subfolder_3/file_881488.exe\",\"C:/Folder_1/Subfolder_12/file_85752.mp3\",\"C:/Folder_0/file_324369.jpg\",\"C:/Folder_1/Subfolder_11/file_841495.jpg\",\"C:/Folder_1/Subfolder_6/file_840552.exe\",\"C:/Folder_1/file_338983.png\",\"C:/Folder_1/Subfolder_10/file_837154.xlsx\",\"C:/Folder_2/file_341308.exe\",\"C:/Folder_1/file_323256.jpg\",\"C:/Folder_1/Subfolder_10/file_829824.png\",\"C:/Folder_2/Subfolder_5/file_249092.pptx\",\"C:/Folder_2/Subfolder_4/file_249175.xlsx\",\"C:/Folder_1/file_181887.jpg\",\"C:/Folder_1/Subfolder_13/file_35079.exe\",\"C:/Folder_0/Subfolder_1/file_928629.exe\",\"C:/Folder_1/Subfolder_7/file_926373.xlsx\",\"C:/Folder_0/Subfolder_0/file_924852.jpg\",\"C:/Folder_1/Subfolder_8/file_253695.mp3\",\"C:/Folder_1/file_250216.exe\",\"C:/Folder_0/Subfolder_4/file_912155.png\",\"C:/Folder_2/Subfolder_1/file_901674.mp3\",\"C:/Folder_2/Subfolder_8/file_359783.xlsx\",\"C:/Folder_0/Subfolder_0/file_365159.docx\",\"C:/Folder_1/file_231804.jpg\",\"C:/Folder_2/Subfolder_5/file_88663.pptx\",\"C:/Folder_0/Subfolder_0/file_367784.xlsx\",\"C:/Folder_1/Subfolder_12/file_251905.mp3\",\"C:/Folder_1/file_316536.xlsx\",\"C:/Folder_1/Subfolder_6/file_995734.png\",\"C:/Folder_2/Subfolder_2/file_137334.png\",\"C:/Folder_1/file_770710.png\",\"C:/Folder_2/Subfolder_8/file_129033.mp3\",\"C:/Folder_2/file_771887.exe\",\"C:/Folder_2/Subfolder_4/file_478832.pptx\",\"C:/Folder_0/Subfolder_4/file_66928.exe\",\"C:/Folder_1/Subfolder_7/file_477179.pptx\",\"C:/Folder_1/file_729912.exe\",\"C:/Folder_0/file_773586.exe\",\"C:/Folder_2/Subfolder_2/file_505168.exe\",\"C:/Folder_0/file_840438.mp3\",\"C:/Folder_1/Subfolder_4/file_617441.jpg\",\"C:/Folder_0/Subfolder_1/file_620544.pptx\",\"C:/Folder_1/file_913639.exe\",\"C:/Folder_1/Subfolder_4/file_678580.xlsx\",\"C:/Folder_2/Subfolder_1/file_646709.docx\",\"C:/Folder_1/Subfolder_12/file_527968.pptx\",\"C:/Folder_1/file_898369.exe\",\"C:/Folder_1/Subfolder_5/file_580736.exe\",\"C:/Folder_1/Subfolder_11/file_480036.mp3\",\"C:/Folder_2/Subfolder_2/file_657986.pptx\",\"C:/Folder_1/file_763073.png\",\"C:/Folder_2/Subfolder_0/file_480611.docx\",\"C:/Folder_2/Subfolder_4/file_482505.pptx\",\"C:/Folder_1/Subfolder_7/file_653180.mp4\",\"C:/Folder_1/file_879115.docx\",\"C:/Folder_1/Subfolder_8/file_159485.jpg\",\"C:/Folder_2/Subfolder_0/file_485768.pptx\",\"C:/Folder_1/file_738708.jpg\",\"C:/Folder_1/Subfolder_10/file_522101.docx\",\"C:/Folder_0/file_765177.mp4\",\"C:/Folder_0/Subfolder_3/file_584439.pptx\",\"C:/Folder_2/Subfolder_7/file_651575.mp3\",\"C:/Folder_2/Subfolder_4/file_664674.docx\",\"C:/Folder_0/Subfolder_5/file_644555.mp4\",\"C:/Folder_1/Subfolder_8/file_134722.jpg\",\"C:/Folder_1/file_716445.png\",\"C:/Folder_1/file_867877.mp4\",\"C:/Folder_0/file_831820.xlsx\",\"C:/Folder_1/Subfolder_11/file_558440.xlsx\",\"C:/Folder_2/Subfolder_7/file_501424.png\",\"C:/Folder_2/Subfolder_6/file_470004.jpg\",\"C:/Folder_1/Subfolder_8/file_470636.png\",\"C:/Folder_1/Subfolder_6/file_144958.png\",\"C:/Folder_1/Subfolder_12/file_499745.jpg\",\"C:/Folder_1/Subfolder_0/file_472129.mp3\",\"C:/Folder_1/file_682678.mp4\",\"C:/Folder_1/Subfolder_12/file_556164.png\",\"C:/Folder_0/file_834573.jpg\",\"C:/Folder_2/file_925333.mp3\",\"C:/Folder_0/Subfolder_4/file_168937.jpg\",\"C:/Folder_1/file_6727.png\",\"C:/Folder_2/Subfolder_5/file_635507.png\",\"C:/Folder_0/file_822814.jpg\",\"C:/Folder_0/Subfolder_0/file_553706.jpg\",\"C:/Folder_1/file_667098.docx\",\"C:/Folder_2/Subfolder_0/file_685255.docx\",\"C:/Folder_1/file_693891.mp3\",\"C:/Folder_1/Subfolder_1/file_684986.png\",\"C:/Folder_2/Subfolder_7/file_57046.mp3\",\"C:/Folder_2/Subfolder_7/file_473960.png\",\"C:/Folder_1/Subfolder_12/file_50135.mp4\",\"C:/Folder_2/Subfolder_3/file_600536.pptx\",\"C:/Folder_2/file_231633.png\",\"C:/Folder_2/file_224867.jpg\",\"C:/Folder_1/Subfolder_9/file_467773.mp4\",\"C:/Folder_0/file_230181.jpg\",\"C:/Folder_1/file_321161.mp4\",\"C:/Folder_1/Subfolder_11/file_627442.exe\",\"C:/Folder_1/file_318849.xlsx\",\"C:/Folder_0/Subfolder_2/file_601422.xlsx\",\"C:/Folder_1/Subfolder_8/file_361275.pptx\",\"C:/Folder_2/file_21286.docx\",\"C:/Folder_2/file_213006.jpg\",\"C:/Folder_0/Subfolder_2/file_136795.exe\",\"C:/Folder_2/Subfolder_1/file_894380.xlsx\",\"C:/Folder_2/Subfolder_2/file_872493.xlsx\",\"C:/Folder_0/Subfolder_4/file_503906.pptx\",\"C:/Folder_1/Subfolder_2/file_244603.exe\",\"C:/Folder_2/Subfolder_4/file_621723.xlsx\",\"C:/Folder_1/Subfolder_8/file_133840.docx\",\"C:/Folder_0/file_866331.jpg\",\"C:/Folder_2/Subfolder_0/file_614366.xlsx\",\"C:/Folder_1/Subfolder_5/file_611431.png\",\"C:/Folder_2/file_295986.xlsx\",\"C:/Folder_1/Subfolder_11/file_507511.exe\",\"C:/Folder_0/file_243156.exe\",\"C:/Folder_1/Subfolder_9/file_605008.docx\",\"C:/Folder_0/Subfolder_0/file_603981.xlsx\",\"C:/Folder_1/Subfolder_12/file_241853.mp3\",\"C:/Folder_0/Subfolder_3/file_37602.docx\",\"C:/Folder_1/Subfolder_5/file_377601.mp3\",\"C:/Folder_2/file_310253.docx\",\"C:/Folder_1/Subfolder_6/file_895168.mp4\",\"C:/Folder_2/Subfolder_2/file_381889.mp3\",\"C:/Folder_0/Subfolder_3/file_853806.mp3\",\"C:/Folder_1/Subfolder_5/file_913341.xlsx\",\"C:/Folder_0/file_104789.docx\",\"C:/Folder_2/Subfolder_8/file_961477.docx\",\"C:/Folder_1/file_914122.docx\",\"C:/Folder_0/Subfolder_5\",\"C:/Folder_0/Subfolder_5/file_284242.mp4\",\"C:/Folder_1/Subfolder_4/file_967981.mp4\",\"C:/Folder_2/file_915195.mp3\",\"C:/Folder_2/Subfolder_4/file_57100.pptx\",\"C:/Folder_0/Subfolder_1/file_975595.mp3\",\"C:/Folder_1/file_920737.xlsx\",\"C:/Folder_2/Subfolder_1/file_569540.mp4\",\"C:/Folder_2/Subfolder_0/file_537657.xlsx\",\"C:/Folder_1/file_925571.pptx\",\"C:/Folder_1/Subfolder_12\",\"C:/Folder_2/Subfolder_8/file_985077.xlsx\",\"C:/Folder_2/Subfolder_7/file_565306.docx\",\"C:/Folder_2/Subfolder_0/file_562524.jpg\",\"C:/Folder_1/Subfolder_4/file_548565.jpg\",\"C:/Folder_1/Subfolder_7/file_550205.jpg\",\"C:/Folder_2/file_941572.mp4\",\"C:/Folder_2/Subfolder_1/file_990180.xlsx\",\"C:/Folder_2/Subfolder_6/file_551981.mp4\",\"C:/Folder_2/Subfolder_1/file_998915.xlsx\",\"C:/Folder_2/Subfolder_7/file_300762.jpg\",\"C:/Folder_2/Subfolder_3/file_993615.png\",\"C:/Folder_2/Subfolder_0/file_993849.mp3\",\"C:/Folder_2/Subfolder_2/file_994442.pptx\",\"C:/Folder_0/Subfolder_1/file_959845.xlsx\",\"C:/Folder_2/Subfolder_2/file_95876.mp4\",\"C:/Folder_1/file_115979.jpg\",\"C:/Folder_0/Subfolder_3/file_332285.exe\",\"C:/Folder_2/Subfolder_2/file_5168.xlsx\",\"C:/Folder_1/Subfolder_0/file_925251.pptx\",\"C:/Folder_0/Subfolder_2/file_255257.docx\",\"C:/Folder_2/Subfolder_7/file_256194.mp3\",\"C:/Folder_2/Subfolder_4/file_355382.png\",\"C:/Folder_1/file_875655.jpg\",\"C:/Folder_1/Subfolder_5/file_931016.jpg\",\"C:/Folder_2/Subfolder_6/file_931805.exe\",\"C:/Folder_1/Subfolder_0/file_931898.mp4\",\"C:/Folder_1/Subfolder_0/file_352210.pptx\",\"C:/Folder_2/Subfolder_3/file_58950.mp4\",\"C:/Folder_2/Subfolder_4/file_384671.docx\",\"C:/Folder_0/Subfolder_0/file_347776.mp4\",\"C:/Folder_1/file_210943.xlsx\",\"C:/Folder_1/Subfolder_3/file_935580.xlsx\",\"C:/Folder_2/Subfolder_0/file_583064.mp4\",\"C:/Folder_1/file_89061.xlsx\",\"C:/Folder_1/Subfolder_10/file_523492.mp3\",\"C:/Folder_1/Subfolder_10/file_57880.docx\",\"C:/Folder_2/Subfolder_3/file_118424.exe\",\"C:/Folder_2/file_143630.mp4\",\"C:/Folder_1/Subfolder_0/file_529802.pptx\",\"C:/Folder_2/Subfolder_4/file_530650.pptx\",\"C:/Folder_1/file_134436.png\",\"C:/Folder_2/Subfolder_2/file_269551.exe\",\"C:/Folder_2/Subfolder_5/file_954837.png\",\"C:/Folder_2/file_116921.xlsx\",\"C:/Folder_0/Subfolder_3/file_270292.xlsx\",\"C:/Folder_2/Subfolder_0/file_58479.jpg\",\"C:/Folder_0/Subfolder_3/file_265660.docx\",\"C:/Folder_2/Subfolder_6/file_55504.exe\",\"C:/Folder_2/Subfolder_6/file_385039.docx\",\"C:/Folder_1/Subfolder_12/file_736894.pptx\",\"C:/Folder_0/Subfolder_5/file_156993.mp3\",\"C:/Folder_1/file_700298.xlsx\",\"C:/Folder_1/Subfolder_4/file_790659.mp4\",\"C:/Folder_2/Subfolder_3/file_79072.mp4\",\"C:/Folder_1/file_697812.exe\",\"C:/Folder_1/file_460778.jpg\",\"C:/Folder_0/Subfolder_0/file_416323.exe\",\"C:/Folder_1/Subfolder_10/file_217364.jpg\",\"C:/Folder_1/file_6968.jpg\",\"C:/Folder_0/file_57479.xlsx\",\"C:/Folder_2/Subfolder_8/file_729543.png\",\"C:/Folder_1/file_59463.mp4\",\"C:/Folder_1/file_536913.docx\",\"C:/Folder_0/Subfolder_0/file_155640.jpg\",\"C:/Folder_1/file_764138.docx\",\"C:/Folder_1/Subfolder_3/file_226843.mp4\",\"C:/Folder_1/Subfolder_5/file_190568.mp3\",\"C:/Folder_2/Subfolder_0/file_798887.xlsx\",\"C:/Folder_1/Subfolder_3/file_21677.mp4\",\"C:/Folder_1/file_468172.mp4\",\"C:/Folder_1/Subfolder_5/file_425691.xlsx\",\"C:/Folder_1/file_729435.pptx\",\"C:/Folder_0/Subfolder_1/file_437716.jpg\",\"C:/Folder_0/file_547004.pptx\",\"C:/Folder_2/Subfolder_4/file_667535.pptx\",\"C:/Folder_1/file_509337.docx\",\"C:/Folder_0/Subfolder_1/file_764025.jpg\",\"C:/Folder_1/Subfolder_13/file_766461.pptx\",\"C:/Folder_0/Subfolder_3/file_766516.mp3\",\"C:/Folder_1/file_505126.xlsx\",\"C:/Folder_1/file_548102.exe\",\"C:/Folder_1/Subfolder_12/file_745635.png\",\"C:/Folder_2/file_552723.mp3\",\"C:/Folder_0/Subfolder_4/file_742288.pptx\",\"C:/Folder_1/Subfolder_8/file_771883.mp4\",\"C:/Folder_2/Subfolder_2/file_663462.exe\",\"C:/Folder_2/Subfolder_2/file_85157.xlsx\",\"C:/Folder_1/Subfolder_8/file_428819.mp4\",\"C:/Folder_2/Subfolder_4/file_426614.mp3\",\"C:/Folder_1/file_469877.png\",\"C:/Folder_1/Subfolder_12/file_453255.mp3\",\"C:/Folder_1/file_426318.jpg\",\"C:/Folder_2/Subfolder_0/file_164301.png\",\"C:/Folder_0/file_679919.pptx\",\"C:/Folder_1/Subfolder_10/file_643593.xlsx\",\"C:/Folder_2/Subfolder_2/file_391773.jpg\",\"C:/Folder_1/file_794264.mp3\",\"C:/Folder_1/Subfolder_12/file_720000.docx\",\"C:/Folder_1/file_339203.mp3\",\"C:/Folder_0/Subfolder_3/file_695100.docx\",\"C:/Folder_2/Subfolder_5/file_840301.mp4\",\"C:/Folder_0/file_336848.png\",\"C:/Folder_2/Subfolder_5/file_181254.jpg\",\"C:/Folder_1/file_654310.docx\",\"C:/Folder_1/Subfolder_11/file_84370.pptx\",\"C:/Folder_1/file_659356.jpg\",\"C:/Folder_1/Subfolder_2/file_844121.mp3\",\"C:/Folder_1/Subfolder_1/file_703248.jpg\",\"C:/Folder_0/Subfolder_5/file_697547.jpg\",\"C:/Folder_1/file_324843.pptx\",\"C:/Folder_0/file_323388.xlsx\",\"C:/Folder_2/Subfolder_7/file_702523.exe\",\"C:/Folder_2/Subfolder_1/file_705181.mp3\",\"C:/Folder_0/file_784628.mp3\",\"C:/Folder_0/Subfolder_2/file_673762.xlsx\",\"C:/Folder_2/Subfolder_7/file_151921.docx\",\"C:/Folder_1/Subfolder_13/file_823387.docx\",\"C:/Folder_2/Subfolder_5/file_18939.mp4\",\"C:/Folder_0/Subfolder_2/file_829090.xlsx\",\"C:/Folder_1/Subfolder_4/file_828850.jpg\",\"C:/Folder_1/Subfolder_12/file_231690.mp4\",\"C:/Folder_2/Subfolder_3/file_490362.exe\",\"C:/Folder_1/Subfolder_5/file_455933.docx\",\"C:/Folder_1/Subfolder_4/file_399328.png\",\"C:/Folder_2/Subfolder_3/file_693505.mp3\",\"C:/Folder_1/Subfolder_9/file_489845.png\",\"C:/Folder_1/file_771467.xlsx\",\"C:/Folder_2/Subfolder_1/file_400289.pptx\",\"C:/Folder_2/Subfolder_1/file_293084.docx\",\"C:/Folder_1/file_929859.pptx\",\"C:/Folder_2/file_929214.xlsx\",\"C:/Folder_0/Subfolder_5/file_170701.docx\",\"C:/Folder_0/Subfolder_2\",\"C:/Folder_0/file_540787.pptx\",\"C:/Folder_1/Subfolder_1/file_159876.mp3\",\"C:/Folder_1/Subfolder_11\",\"C:/Folder_1/file_115617.mp3\",\"C:/Folder_1/file_918311.pptx\",\"C:/Folder_1/Subfolder_13/file_205006.jpg\",\"C:/Folder_1/Subfolder_5/file_109264.mp4\",\"C:/Folder_0/Subfolder_0/file_10864.png\",\"C:/Folder_0/Subfolder_5/file_163227.xlsx\",\"C:/Folder_2/Subfolder_8/file_178069.mp4\",\"C:/Folder_1/Subfolder_6/file_287156.jpg\",\"C:/Folder_2/Subfolder_5\",\"C:/Folder_1/file_946946.mp3\",\"C:/Folder_2/Subfolder_4/file_16335.mp4\",\"C:/Folder_2/Subfolder_0/file_282549.mp3\",\"C:/Folder_2/Subfolder_3\",\"C:/Folder_2/file_705436.png\",\"C:/Folder_1/file_609704.xlsx\",\"C:/Folder_1/file_113356.xlsx\",\"C:/Folder_0/file_606258.mp3\",\"C:/Folder_2/file_181539.mp3\",\"C:/Folder_1/file_905439.png\",\"C:/Folder_0/file_858381.pptx\",\"C:/Folder_1/file_422998.xlsx\",\"C:/Folder_1/file_422738.docx\",\"C:/Folder_1/file_857284.jpg\",\"C:/Folder_1/file_365074.mp3\",\"C:/Folder_1/Subfolder_10/file_132923.mp3\",\"C:/Folder_0/file_246716.mp4\",\"C:/Folder_2/Subfolder_4/file_232381.pptx\",\"C:/Folder_0/file_349611.mp4\",\"C:/Folder_2/file_257434.exe\",\"C:/Folder_2/file_345643.png\",\"C:/Folder_0/Subfolder_3/file_250443.exe\",\"C:/Folder_1/Subfolder_8/file_235695.mp3\",\"C:/Folder_1/file_807909.jpg\",\"C:/Folder_2/file_299641.pptx\",\"C:/Folder_1/file_301836.xlsx\",\"C:/Folder_0/file_809738.jpg\",\"C:/Folder_0/file_335417.docx\",\"C:/Folder_2/file_335295.docx\",\"C:/Folder_1/file_828625.pptx\",\"C:/Folder_1/file_311292.mp3\",\"C:/Folder_0/Subfolder_5/file_236144.pptx\",\"C:/Folder_2/file_330561.pptx\",\"C:/Folder_1/file_8127.mp4\",\"C:/Folder_2/file_80255.png\",\"C:/Folder_2/file_859999.pptx\",\"C:/Folder_1/Subfolder_4/file_220349.xlsx\",\"C:/Folder_1/Subfolder_0/file_219849.mp3\",\"C:/Folder_1/file_531268.mp3\",\"C:/Folder_2/file_899824.exe\",\"C:/Folder_2/Subfolder_4/file_208509.xlsx\",\"C:/Folder_2/Subfolder_1/file_268689.docx\",\"C:/Folder_1/file_500713.docx\",\"C:/Folder_0/file_154456.mp4\",\"C:/Folder_0/file_159119.jpg\",\"C:/Folder_1/file_49259.jpg\",\"C:/Folder_0/Subfolder_5/file_99696.mp4\",\"C:/Folder_2/Subfolder_6/file_124718.png\",\"C:/Folder_0/file_886606.docx\",\"C:/Folder_1/Subfolder_4/file_214041.mp3\",\"C:/Folder_2/file_883104.exe\",\"C:/Folder_0/file_48543.docx\",\"C:/Folder_2/file_472553.jpg\",\"C:/Folder_1/Subfolder_5/file_15775.jpg\",\"C:/Folder_2/file_187690.mp4\",\"C:/Folder_0/file_46230.xlsx\",\"C:/Folder_0/file_869993.mp3\",\"C:/Folder_0/file_869337.jpg\",\"C:/Folder_0/file_754840.png\",\"C:/Folder_2/file_866885.pptx\",\"C:/Folder_2/file_453819.exe\",\"C:/Folder_2/file_211557.docx\",\"C:/Folder_2/file_864185.mp4\",\"C:/Folder_2/file_122510.exe\",\"C:/Folder_0/file_665430.docx\",\"C:/Folder_1/Subfolder_5/file_979749.xlsx\",\"C:/Folder_2/Subfolder_8/file_810877.xlsx\",\"C:/Folder_2/Subfolder_7/file_662203.png\",\"C:/Folder_2/Subfolder_6/file_928484.jpg\",\"C:/Folder_0/Subfolder_3/file_479190.exe\",\"C:/Folder_0/Subfolder_2/file_348395.xlsx\",\"C:/Folder_1/Subfolder_11/file_935646.docx\",\"C:/Folder_1/Subfolder_9/file_65769.docx\",\"C:/Folder_2/Subfolder_1/file_655975.png\",\"C:/Folder_2/Subfolder_5/file_940839.mp3\",\"C:/Folder_1/Subfolder_9/file_769390.mp3\",\"C:/Folder_2/Subfolder_1/file_65065.png\",\"C:/Folder_1/Subfolder_6/file_847281.png\",\"C:/Folder_2/Subfolder_1/file_6469.pptx\",\"C:/Folder_0/Subfolder_5/file_487759.xlsx\",\"C:/Folder_2/Subfolder_1/file_730787.exe\",\"C:/Folder_2/Subfolder_3/file_945703.xlsx\",\"C:/Folder_1/Subfolder_7/file_771710.mp3\",\"C:/Folder_0/Subfolder_2/file_840432.mp4\",\"C:/Folder_0/Subfolder_0/file_776593.pptx\",\"C:/Folder_1/Subfolder_4/file_625330.mp4\",\"C:/Folder_2/Subfolder_4/file_662510.pptx\",\"C:/Folder_1/Subfolder_7/file_851791.mp4\",\"C:/Folder_0/Subfolder_3/file_435892.mp3\",\"C:/Folder_0/Subfolder_0/file_665704.pptx\",\"C:/Folder_0/Subfolder_5/file_72011.png\",\"C:/Folder_2/Subfolder_6/file_453433.mp3\",\"C:/Folder_1/Subfolder_5/file_736510.pptx\",\"C:/Folder_1/Subfolder_6/file_74075.xlsx\",\"C:/Folder_0/Subfolder_0/file_871484.png\",\"C:/Folder_2/Subfolder_7/file_885117.mp4\",\"C:/Folder_0/Subfolder_2/file_444436.mp3\",\"C:/Folder_0/Subfolder_2/file_707740.mp3\",\"C:/Folder_1/Subfolder_5/file_869219.mp4\",\"C:/Folder_1/Subfolder_2/file_625138.exe\",\"C:/Folder_0/Subfolder_4/file_441535.docx\",\"C:/Folder_2/Subfolder_1/file_896954.png\",\"C:/Folder_1/Subfolder_5/file_898002.pptx\",\"C:/Folder_2/Subfolder_3/file_698030.xlsx\",\"C:/Folder_2/Subfolder_0/file_382303.pptx\",\"C:/Folder_0/Subfolder_1/file_75759.mp4\",\"C:/Folder_2/Subfolder_4/file_473993.png\",\"C:/Folder_2/Subfolder_5/file_904129.exe\",\"C:/Folder_2/Subfolder_7/file_6761.exe\",\"C:/Folder_1/Subfolder_12/file_672960.exe\",\"C:/Folder_0/Subfolder_2/file_750318.png\",\"C:/Folder_2/Subfolder_8/file_833147.docx\",\"C:/Folder_0/Subfolder_3/file_843678.mp4\",\"C:/Folder_0/Subfolder_3/file_50351.mp4\",\"C:/Folder_1/Subfolder_1/file_402454.xlsx\",\"C:/Folder_1/Subfolder_8/file_801450.jpg\",\"C:/Folder_0/Subfolder_1/file_967196.jpg\",\"C:/Folder_0/Subfolder_1/file_329407.png\",\"C:/Folder_2/Subfolder_8/file_974289.png\",\"C:/Folder_1/Subfolder_12/file_831482.docx\",\"C:/Folder_0/Subfolder_1/file_523318.mp4\",\"C:/Folder_0/Subfolder_3/file_576274.xlsx\",\"C:/Folder_1/Subfolder_9/file_802303.jpg\",\"C:/Folder_2/Subfolder_6/file_594847.mp3\",\"C:/Folder_1/Subfolder_12/file_98410.xlsx\",\"C:/Folder_1/Subfolder_13/file_571162.mp4\",\"C:/Folder_0/Subfolder_1/file_570359.png\",\"C:/Folder_0/Subfolder_5/file_307175.pptx\",\"C:/Folder_0/Subfolder_5/file_989765.xlsx\",\"C:/Folder_1/Subfolder_5/file_56661.mp4\",\"C:/Folder_2/Subfolder_3/file_806310.jpg\",\"C:/Folder_2/Subfolder_8/file_561449.png\",\"C:/Folder_0/Subfolder_3/file_550491.png\",\"C:/Folder_2/Subfolder_7/file_994745.mp4\",\"C:/Folder_1/Subfolder_10/file_572040.jpg\",\"C:/Folder_1/Subfolder_9/file_400063.pptx\",\"C:/Folder_1/Subfolder_2/file_45300.xlsx\",\"C:/Folder_0/Subfolder_0/file_425057.pptx\",\"C:/Folder_1/Subfolder_2/file_42093.exe\",\"C:/Folder_1/Subfolder_10/file_957024.png\",\"C:/Folder_0/Subfolder_1/file_788326.exe\",\"C:/Folder_1/Subfolder_8/file_393642.xlsx\",\"C:/Folder_0/Subfolder_0/file_509066.xlsx\",\"C:/Folder_2/Subfolder_3/file_961210.xlsx\",\"C:/Folder_1/Subfolder_3/file_829770.docx\",\"C:/Folder_2/Subfolder_0/file_961417.xlsx\",\"C:/Folder_2/Subfolder_3/file_828267.docx\",\"C:/Folder_2/Subfolder_0/file_961578.mp4\",\"C:/Folder_0/Subfolder_3/file_426598.mp4\",\"C:/Folder_0/file_559071.mp3\",\"C:/Folder_2/file_438477.docx\",\"C:/Folder_1/Subfolder_13/file_779188.exe\",\"C:/Folder_2/Subfolder_4/file_744138.jpg\",\"C:/Folder_0/Subfolder_4/file_22361.pptx\",\"C:/Folder_2/Subfolder_2/file_407815.mp4\",\"C:/Folder_0/Subfolder_4/file_733461.exe\",\"C:/Folder_0/file_43586.png\",\"C:/Folder_1/file_477489.mp4\",\"C:/Folder_2/Subfolder_0/file_199907.docx\",\"C:/Folder_2/file_555704.mp4\",\"C:/Folder_1/file_453716.png\",\"C:/Folder_2/Subfolder_6/file_770622.mp4\",\"C:/Folder_0/file_454895.docx\",\"C:/Folder_1/file_515006.png\",\"C:/Folder_1/Subfolder_3/file_760251.docx\",\"C:/Folder_0/Subfolder_5/file_218974.jpg\",\"C:/Folder_1/Subfolder_11/file_434329.mp3\",\"C:/Folder_2/Subfolder_6/file_417247.xlsx\",\"C:/Folder_2/Subfolder_1/file_768411.exe\",\"C:/Folder_1/Subfolder_5/file_296650.pptx\",\"C:/Folder_1/Subfolder_1/file_790747.mp4\",\"C:/Folder_2/file_52456.exe\",\"C:/Folder_2/Subfolder_5/file_436823.exe\",\"C:/Folder_1/Subfolder_13/file_758215.mp4\",\"C:/Folder_0/file_43967.mp3\",\"C:/Folder_1/Subfolder_7/file_208149.xlsx\",\"C:/Folder_1/Subfolder_4/file_43904.jpg\",\"C:/Folder_1/Subfolder_9/file_750723.png\",\"C:/Folder_1/Subfolder_12/file_206009.jpg\",\"C:/Folder_2/file_449789.exe\",\"C:/Folder_0/Subfolder_5/file_995848.docx\",\"C:/Folder_0/file_595951.exe\",\"C:/Folder_0/Subfolder_4/file_139380.docx\",\"C:/Folder_1/file_828221.docx\",\"C:/Folder_1/Subfolder_5/file_625117.jpg\",\"C:/Folder_1/file_83380.xlsx\",\"C:/Folder_1/Subfolder_2/file_624350.jpg\",\"C:/Folder_1/Subfolder_12/file_503694.exe\",\"C:/Folder_1/Subfolder_4/file_503993.jpg\",\"C:/Folder_1/Subfolder_11/file_61325.png\",\"C:/Folder_0/file_841186.jpg\",\"C:/Folder_1/Subfolder_6/file_606713.jpg\",\"C:/Folder_1/file_848156.pptx\",\"C:/Folder_2/file_848808.docx\",\"C:/Folder_2/Subfolder_6/file_510912.xlsx\",\"C:/Folder_1/Subfolder_9/file_139425.exe\",\"C:/Folder_0/Subfolder_2/file_602470.pptx\",\"C:/Folder_1/Subfolder_9/file_125726.mp3\",\"C:/Folder_2/Subfolder_8/file_595682.exe\",\"C:/Folder_0/file_865364.xlsx\",\"C:/Folder_0/Subfolder_5/file_594061.xlsx\",\"C:/Folder_1/Subfolder_0/file_592250.mp4\",\"C:/Folder_1/Subfolder_9/file_590348.jpg\",\"C:/Folder_2/Subfolder_8/file_11187.xlsx\",\"C:/Folder_0/Subfolder_1/file_572479.jpg\",\"C:/Folder_1/file_915871.png\",\"C:/Folder_1/Subfolder_8/file_567073.pptx\",\"C:/Folder_0/Subfolder_5/file_106934.mp4\",\"C:/Folder_2/Subfolder_6/file_547593.exe\",\"C:/Folder_2/file_934369.docx\",\"C:/Folder_2/Subfolder_2/file_126674.mp3\",\"C:/Folder_1/Subfolder_0/file_635770.png\",\"C:/Folder_1/Subfolder_11/file_638302.mp3\",\"C:/Folder_2/Subfolder_3/file_144583.mp4\",\"C:/Folder_2/Subfolder_6/file_71515.xlsx\",\"C:/Folder_0/Subfolder_1/file_189132.xlsx\",\"C:/Folder_0/file_613418.png\",\"C:/Folder_0/Subfolder_3/file_186546.jpg\",\"C:/Folder_1/Subfolder_2/file_184612.docx\",\"C:/Folder_2/file_61890.png\",\"C:/Folder_1/Subfolder_6/file_458660.docx\",\"C:/Folder_0/Subfolder_1/file_459309.jpg\",\"C:/Folder_2/file_640349.docx\",\"C:/Folder_0/Subfolder_2/file_70754.png\",\"C:/Folder_1/file_649539.pptx\",\"C:/Folder_1/Subfolder_13/file_70600.exe\",\"C:/Folder_0/Subfolder_0/file_694314.exe\",\"C:/Folder_1/Subfolder_12/file_687507.exe\",\"C:/Folder_1/Subfolder_0/file_810170.docx\",\"C:/Folder_1/file_686198.jpg\",\"C:/Folder_1/file_689767.mp4\",\"C:/Folder_0/Subfolder_1/file_682377.xlsx\",\"C:/Folder_2/Subfolder_6/file_163875.xlsx\",\"C:/Folder_1/Subfolder_2/file_678779.exe\",\"C:/Folder_1/file_732145.xlsx\",\"C:/Folder_2/file_733230.exe\",\"C:/Folder_1/file_750905.exe\",\"C:/Folder_2/Subfolder_0/file_659339.png\",\"C:/Folder_1/Subfolder_2/file_480074.mp4\",\"C:/Folder_2/Subfolder_6/file_480665.pptx\",\"C:/Folder_2/file_765687.exe\",\"C:/Folder_2/Subfolder_6/file_153573.pptx\",\"C:/Folder_2/Subfolder_7/file_649116.exe\",\"C:/Folder_1/Subfolder_9/file_724806.docx\",\"C:/Folder_1/Subfolder_6/file_47374.jpg\",\"C:/Folder_2/file_501593.xlsx\",\"C:/Folder_1/Subfolder_9/file_905589.exe\",\"C:/Folder_2/file_118397.pptx\",\"C:/Folder_1/Subfolder_10/file_955293.exe\",\"C:/Folder_0/Subfolder_3/file_371336.pptx\",\"C:/Folder_0/Subfolder_0/file_958390.mp4\",\"C:/Folder_2/Subfolder_3/file_273723.mp4\",\"C:/Folder_2/Subfolder_6/file_882256.xlsx\",\"C:/Folder_1/file_254214.mp3\",\"C:/Folder_2/Subfolder_1/file_879117.mp3\",\"C:/Folder_1/Subfolder_13/file_952650.mp3\",\"C:/Folder_2/file_275232.pptx\",\"C:/Folder_2/Subfolder_0/file_964368.jpg\",\"C:/Folder_2/file_291569.docx\",\"C:/Folder_1/file_294096.xlsx\",\"C:/Folder_0/Subfolder_5/file_871957.docx\",\"C:/Folder_1/file_296376.pptx\",\"C:/Folder_1/file_301057.mp4\",\"C:/Folder_2/Subfolder_8/file_241542.mp3\",\"C:/Folder_0/Subfolder_2/file_867436.exe\",\"C:/Folder_2/file_276957.mp3\",\"C:/Folder_1/file_132710.mp3\",\"C:/Folder_2/Subfolder_7/file_332752.exe\",\"C:/Folder_0/Subfolder_5/file_334328.xlsx\",\"C:/Folder_0/Subfolder_4/file_346698.docx\",\"C:/Folder_2/Subfolder_6/file_265923.mp4\",\"C:/Folder_1/file_188520.mp3\",\"C:/Folder_1/Subfolder_0/file_926342.mp3\",\"C:/Folder_0/file_20468.jpg\",\"C:/Folder_1/Subfolder_10/file_355587.png\",\"C:/Folder_1/file_165860.mp3\",\"C:/Folder_2/Subfolder_7/file_942288.png\",\"C:/Folder_0/Subfolder_0/file_942728.pptx\",\"C:/Folder_0/Subfolder_3/file_405575.jpg\",\"C:/Folder_1/Subfolder_8/file_357890.exe\",\"C:/Folder_1/file_220036.xlsx\",\"C:/Folder_0/file_220260.pptx\",\"C:/Folder_0/Subfolder_0/file_25084.exe\",\"C:/Folder_2/Subfolder_4/file_334670.png\",\"C:/Folder_0/Subfolder_3/file_334656.mp4\",\"C:/Folder_2/Subfolder_7/file_269404.docx\",\"C:/Folder_1/Subfolder_11/file_359598.docx\",\"C:/Folder_1/file_137889.exe\",\"C:/Folder_1/file_314164.png\",\"C:/Folder_2/Subfolder_7/file_858362.mp4\",\"C:/Folder_1/Subfolder_5\",\"C:/Folder_1/file_356216.mp4\",\"C:/Folder_1/Subfolder_4/file_391282.exe\",\"C:/Folder_1/Subfolder_10/file_984543.xlsx\",\"C:/Folder_1/Subfolder_4/file_290628.jpg\",\"C:/Folder_2/Subfolder_6/file_404420.jpg\",\"C:/Folder_1/Subfolder_9/file_300952.xlsx\",\"C:/Folder_2/Subfolder_3/file_993044.exe\",\"C:/Folder_1/Subfolder_5/file_991488.docx\",\"C:/Folder_1/Subfolder_2/file_848634.xlsx\",\"C:/Folder_2/file_416378.mp3\",\"C:/Folder_2/file_420598.docx\",\"C:/Folder_2/Subfolder_8/file_987228.mp4\",\"C:/Folder_2/Subfolder_8/file_388809.exe\",\"C:/Folder_0/Subfolder_3/file_234770.pptx\",\"C:/Folder_1/Subfolder_3/file_232750.png\",\"C:/Folder_1/file_421902.jpg\",\"C:/Folder_2/Subfolder_1/file_816766.exe\",\"C:/Folder_1/Subfolder_3/file_843455.jpg\",\"C:/Folder_2/Subfolder_8/file_848258.png\",\"C:/Folder_1/Subfolder_0/file_498341.mp4\",\"C:/Folder_0/Subfolder_3/file_629651.xlsx\",\"C:/Folder_2/Subfolder_2/file_334503.mp4\",\"C:/Folder_2/Subfolder_1/file_628135.exe\",\"C:/Folder_1/file_140881.pptx\",\"C:/Folder_0/Subfolder_4/file_137317.docx\",\"C:/Folder_1/Subfolder_1/file_988667.pptx\",\"C:/Folder_0/Subfolder_0/file_539434.mp4\",\"C:/Folder_2/file_831418.exe\",\"C:/Folder_2/Subfolder_1/file_634240.png\",\"C:/Folder_1/Subfolder_7/file_139480.png\",\"C:/Folder_0/Subfolder_1/file_117326.mp4\",\"C:/Folder_2/Subfolder_5/file_141393.mp3\",\"C:/Folder_2/Subfolder_2/file_557070.exe\",\"C:/Folder_2/file_943990.pptx\",\"C:/Folder_1/file_177897.png\",\"C:/Folder_1/Subfolder_13/file_267258.exe\",\"C:/Folder_2/Subfolder_7/file_652626.mp3\",\"C:/Folder_2/file_167476.pptx\",\"C:/Folder_1/Subfolder_8/file_994597.xlsx\",\"C:/Folder_1/file_937046.pptx\",\"C:/Folder_0/Subfolder_5/file_293975.jpg\",\"C:/Folder_1/Subfolder_9/file_342418.docx\",\"C:/Folder_1/Subfolder_8/file_144976.jpg\",\"C:/Folder_1/file_933480.jpg\",\"C:/Folder_0/file_154429.png\",\"C:/Folder_1/Subfolder_1/file_105039.docx\",\"C:/Folder_2/Subfolder_0/file_267887.png\",\"C:/Folder_1/Subfolder_7/file_496030.docx\",\"C:/Folder_1/Subfolder_10/file_643007.exe\",\"C:/Folder_1/file_150353.docx\",\"C:/Folder_2/Subfolder_3/file_642385.xlsx\",\"C:/Folder_2/Subfolder_4/file_568092.jpg\",\"C:/Folder_1/Subfolder_1/file_649421.jpg\",\"C:/Folder_2/Subfolder_4/file_640839.exe\",\"C:/Folder_0/Subfolder_0/file_9548.docx\",\"C:/Folder_1/file_130733.exe\",\"C:/Folder_0/Subfolder_5/file_51837.mp4\",\"C:/Folder_1/file_91093.xlsx\",\"C:/Folder_0/Subfolder_0/file_125220.docx\",\"C:/Folder_1/Subfolder_10/file_979820.mp4\",\"C:/Folder_2/file_909830.pptx\",\"C:/Folder_1/Subfolder_4/file_520958.png\",\"C:/Folder_1/Subfolder_1/file_285662.jpg\",\"C:/Folder_1/Subfolder_12/file_585793.jpg\",\"C:/Folder_2/file_905813.pptx\",\"C:/Folder_2/Subfolder_4/file_522789.jpg\",\"C:/Folder_0/Subfolder_5/file_980388.jpg\",\"C:/Folder_1/Subfolder_8/file_582718.pptx\",\"C:/Folder_2/Subfolder_8/file_122100.png\",\"C:/Folder_2/Subfolder_7/file_524073.png\",\"C:/Folder_1/Subfolder_4/file_311447.mp4\",\"C:/Folder_1/Subfolder_10/file_112217.xlsx\",\"C:/Folder_2/Subfolder_0/file_526855.png\",\"C:/Folder_2/Subfolder_4/file_528160.mp4\",\"C:/Folder_0/Subfolder_0/file_530936.exe\",\"C:/Folder_2/Subfolder_4/file_967191.exe\",\"C:/Folder_1/Subfolder_2/file_964684.exe\",\"C:/Folder_0/Subfolder_4/file_531598.png\",\"C:/Folder_1/Subfolder_7/file_594520.mp3\",\"C:/Folder_2/file_92032.docx\",\"C:/Folder_1/file_903206.mp3\",\"C:/Folder_2/Subfolder_1\",\"C:/Folder_2/Subfolder_8/file_132965.mp4\",\"C:/Folder_0/Subfolder_4/file_985299.xlsx\",\"C:/Folder_1/Subfolder_12/file_132072.exe\",\"C:/Folder_2/Subfolder_8/file_960005.png\",\"C:/Folder_0/Subfolder_5/file_329986.xlsx\",\"C:/Folder_1/Subfolder_0/file_57202.xlsx\",\"C:/Folder_2/Subfolder_1/file_532672.mp4\",\"C:/Folder_2/Subfolder_8\",\"C:/Folder_2/Subfolder_6/file_512533.pptx\",\"C:/Folder_2/Subfolder_2/file_311182.jpg\",\"C:/Folder_2/Subfolder_2/file_27902.xlsx\",\"C:/Folder_1/Subfolder_7\",\"C:/Folder_2/Subfolder_7/file_963009.mp3\",\"C:/Folder_1/Subfolder_6\",\"C:/Folder_2/file_912714.mp3\",\"C:/Folder_1/Subfolder_2/file_936319.exe\",\"C:/Folder_1/file_866559.mp3\",\"C:/Folder_2/Subfolder_3/file_603425.exe\",\"C:/Folder_1/Subfolder_7/file_933169.png\",\"C:/Folder_1/file_423651.xlsx\",\"C:/Folder_0/file_749181.pptx\",\"C:/Folder_1/file_510099.pptx\",\"C:/Folder_0/Subfolder_4/file_212338.exe\",\"C:/Folder_2/Subfolder_3/file_435469.png\",\"C:/Folder_1/Subfolder_4/file_209869.mp4\",\"C:/Folder_2/Subfolder_8/file_386307.png\",\"C:/Folder_2/Subfolder_1/file_385710.mp4\",\"C:/Folder_1/Subfolder_6/file_383249.png\",\"C:/Folder_0/Subfolder_2/file_856000.mp3\",\"C:/Folder_2/file_313456.xlsx\",\"C:/Folder_1/file_313315.jpg\",\"C:/Folder_2/Subfolder_7/file_864559.mp4\",\"C:/Folder_1/Subfolder_4/file_441508.exe\",\"C:/Folder_1/file_309004.docx\",\"C:/Folder_1/Subfolder_8/file_240359.pptx\",\"C:/Folder_1/file_551465.mp3\",\"C:/Folder_2/Subfolder_0/file_445962.pptx\",\"C:/Folder_2/Subfolder_0/file_373254.mp3\",\"C:/Folder_0/Subfolder_5/file_739778.mp4\",\"C:/Folder_1/file_29395.mp3\",\"C:/Folder_2/Subfolder_2/file_874618.mp3\",\"C:/Folder_1/Subfolder_1/file_732641.png\",\"C:/Folder_2/file_279280.xlsx\",\"C:/Folder_2/Subfolder_6/file_730739.xlsx\",\"C:/Folder_1/file_324316.pptx\",\"C:/Folder_0/file_584785.docx\",\"C:/Folder_1/Subfolder_0/file_76575.jpg\",\"C:/Folder_1/Subfolder_0/file_213119.png\",\"C:/Folder_0/Subfolder_3/file_228047.xlsx\",\"C:/Folder_1/Subfolder_1/file_807538.mp3\",\"C:/Folder_0/file_413358.xlsx\",\"C:/Folder_1/Subfolder_1/file_221399.mp3\",\"C:/Folder_2/Subfolder_5/file_230093.mp4\",\"C:/Folder_0/Subfolder_0/file_816040.xlsx\",\"C:/Folder_2/Subfolder_7/file_231349.mp3\",\"C:/Folder_1/file_449094.png\",\"C:/Folder_0/Subfolder_4/file_822484.mp3\",\"C:/Folder_2/Subfolder_5/file_799304.jpg\",\"C:/Folder_0/Subfolder_0/file_395557.png\",\"C:/Folder_1/file_359798.png\",\"C:/Folder_2/Subfolder_4/file_416670.exe\",\"C:/Folder_2/Subfolder_3/file_233176.mp3\",\"C:/Folder_1/file_461944.mp4\",\"C:/Folder_2/Subfolder_1/file_783372.mp4\",\"C:/Folder_0/file_345870.exe\",\"C:/Folder_2/Subfolder_2/file_831446.mp4\",\"C:/Folder_1/Subfolder_2/file_780989.png\",\"C:/Folder_0/Subfolder_2/file_836253.pptx\",\"C:/Folder_2/Subfolder_4/file_838108.xlsx\",\"C:/Folder_1/Subfolder_5/file_773182.png\",\"C:/Folder_0/file_497311.xlsx\",\"C:/Folder_0/Subfolder_0/file_238586.pptx\",\"C:/Folder_1/Subfolder_8/file_877819.docx\",\"C:/Folder_1/Subfolder_13/file_197784.png\",\"C:/Folder_1/Subfolder_11/file_192122.png\",\"C:/Folder_1/Subfolder_1/file_694803.exe\",\"C:/Folder_1/file_677153.jpg\",\"C:/Folder_2/Subfolder_4/file_167462.pptx\",\"C:/Folder_1/Subfolder_0/file_692382.jpg\",\"C:/Folder_0/Subfolder_4/file_251655.jpg\",\"C:/Folder_0/file_217029.png\",\"C:/Folder_1/Subfolder_6/file_473875.jpg\",\"C:/Folder_1/Subfolder_7/file_358874.pptx\",\"C:/Folder_1/file_697634.mp4\",\"C:/Folder_0/Subfolder_2/file_680965.png\",\"C:/Folder_0/Subfolder_0/file_475665.jpg\",\"C:/Folder_2/file_705245.png\",\"C:/Folder_0/Subfolder_0/file_680766.xlsx\",\"C:/Folder_1/Subfolder_10/file_475860.docx\",\"C:/Folder_0/Subfolder_4/file_252565.xlsx\",\"C:/Folder_2/Subfolder_5/file_678268.jpg\",\"C:/Folder_2/file_71705.mp3\",\"C:/Folder_0/Subfolder_2/file_912804.exe\",\"C:/Folder_0/file_73224.pptx\",\"C:/Folder_2/file_197704.exe\",\"C:/Folder_0/Subfolder_2/file_35544.pptx\",\"C:/Folder_2/file_740578.mp3\",\"C:/Folder_1/Subfolder_11/file_26156.mp3\",\"C:/Folder_1/Subfolder_1/file_696853.pptx\",\"C:/Folder_2/file_672052.mp4\",\"C:/Folder_1/file_22479.jpg\",\"C:/Folder_0/Subfolder_4/file_698501.pptx\",\"C:/Folder_2/Subfolder_8/file_244858.docx\",\"C:/Folder_0/file_606401.exe\",\"C:/Folder_2/Subfolder_8/file_18750.jpg\",\"C:/Folder_2/Subfolder_7/file_712578.mp3\",\"C:/Folder_1/file_60993.pptx\",\"C:/Folder_1/file_612359.docx\",\"C:/Folder_1/Subfolder_12/file_88263.jpg\",\"C:/Folder_0/Subfolder_2/file_372376.jpg\",\"C:/Folder_2/file_616949.mp3\",\"C:/Folder_2/file_249157.png\",\"C:/Folder_1/file_621470.pptx\",\"C:/Folder_1/Subfolder_8/file_660390.mp4\",\"C:/Folder_2/Subfolder_2/file_71139.pptx\",\"C:/Folder_2/Subfolder_1/file_36691.jpg\",\"C:/Folder_2/file_241077.jpg\",\"C:/Folder_2/file_239112.docx\",\"C:/Folder_1/file_233876.exe\",\"C:/Folder_2/Subfolder_2/file_892515.exe\",\"C:/Folder_1/Subfolder_1/file_895440.mp3\",\"C:/Folder_0/file_65330.docx\",\"C:/Folder_0/Subfolder_3/file_705419.exe\",\"C:/Folder_1/Subfolder_3/file_704580.xlsx\",\"C:/Folder_0/file_659661.jpg\",\"C:/Folder_1/Subfolder_0/file_699836.xlsx\",\"C:/Folder_0/Subfolder_2/file_70932.jpg\",\"C:/Folder_2/Subfolder_6/file_758872.jpg\",\"C:/Folder_0/file_952074.docx\",\"C:/Folder_1/file_953300.mp4\",\"C:/Folder_2/file_95405.pptx\",\"C:/Folder_1/file_954308.png\",\"C:/Folder_1/file_958409.mp3\",\"C:/Folder_2/file_959617.docx\",\"C:/Folder_2/file_961779.png\",\"C:/Folder_1/file_962771.mp3\",\"C:/Folder_1/file_966475.mp3\",\"C:/Folder_1/file_969045.exe\",\"C:/Folder_2/file_970364.png\",\"C:/Folder_2/file_97597.xlsx\",\"C:/Folder_0/file_980096.pptx\",\"C:/Folder_2/file_980103.exe\",\"C:/Folder_2/file_98111.png\",\"C:/Folder_1/file_982823.mp4\",\"C:/Folder_2/file_983540.pptx\",\"C:/Folder_1/file_985428.mp4\",\"C:/Folder_2/file_986389.mp4\",\"C:/Folder_0/file_987064.jpg\",\"C:/Folder_1/file_987538.jpg\",\"C:/Folder_2/file_989973.docx\",\"C:/Folder_1/file_990120.xlsx\",\"C:/Folder_1/file_990374.png\",\"C:/Folder_1/file_991860.jpg\",\"C:/Folder_2/file_99279.pptx\",\"C:/Folder_2/file_994930.png\",\"C:/Folder_0/file_999400.pptx\",\"C:/Folder_2/file_999496.xlsx\",\"C:/Folder_0\",\"C:/Folder_1\",\"C:/Folder_2\",\"C:\"],\"labels\":[\"file_951421.pptx\",\"file_786226.pptx\",\"file_796404.jpg\",\"file_220306.pptx\",\"file_251662.png\",\"file_802403.pptx\",\"file_412812.png\",\"file_812980.mp4\",\"file_816949.xlsx\",\"file_818360.jpg\",\"file_185563.docx\",\"file_249554.mp3\",\"file_265847.exe\",\"file_400503.png\",\"file_821371.pptx\",\"file_1537.exe\",\"file_150225.docx\",\"file_13882.xlsx\",\"file_399444.png\",\"file_823732.jpg\",\"file_396591.pptx\",\"file_272263.docx\",\"file_105315.mp4\",\"file_820540.pptx\",\"file_273813.xlsx\",\"file_782184.jpg\",\"file_781710.mp3\",\"file_466283.png\",\"file_450610.jpg\",\"file_438521.jpg\",\"file_708914.jpg\",\"file_717945.xlsx\",\"file_720043.png\",\"file_406750.mp4\",\"file_727128.docx\",\"file_735032.mp4\",\"file_231384.xlsx\",\"file_244932.xlsx\",\"file_367145.xlsx\",\"file_446581.docx\",\"file_234222.mp4\",\"file_351880.docx\",\"file_446159.jpg\",\"file_442051.exe\",\"file_439425.png\",\"file_308789.xlsx\",\"file_759075.jpg\",\"file_298319.docx\",\"file_76037.jpg\",\"file_452314.png\",\"file_277470.jpg\",\"file_27751.xlsx\",\"file_829645.mp4\",\"file_872493.mp3\",\"file_883452.exe\",\"file_315752.png\",\"file_369372.mp3\",\"file_321349.jpg\",\"file_367350.docx\",\"file_887136.jpg\",\"file_97560.pptx\",\"file_361581.png\",\"file_329823.xlsx\",\"file_3093.pptx\",\"file_960165.docx\",\"file_951903.docx\",\"file_901275.xlsx\",\"file_95027.pptx\",\"file_903251.jpg\",\"file_357142.mp3\",\"file_342668.docx\",\"file_926423.exe\",\"file_343903.exe\",\"file_34523.pptx\",\"file_933436.exe\",\"file_333697.mp4\",\"file_866464.mp3\",\"file_307426.png\",\"file_988627.mp4\",\"file_836303.pptx\",\"file_387877.pptx\",\"file_3878.exe\",\"file_28150.png\",\"file_851206.xlsx\",\"Subfolder_4\",\"Subfolder_4\",\"Subfolder_2\",\"file_854479.docx\",\"file_382434.mp4\",\"file_382348.mp3\",\"file_290887.png\",\"file_998311.xlsx\",\"file_998118.docx\",\"file_997477.docx\",\"file_994989.mp3\",\"file_864613.xlsx\",\"file_381252.mp4\",\"file_37884.pptx\",\"file_30284.mp3\",\"file_864840.docx\",\"file_377377.mp4\",\"file_98884.docx\",\"file_702788.pptx\",\"file_4575.png\",\"file_370136.docx\",\"file_466698.docx\",\"file_835418.pptx\",\"file_577853.docx\",\"file_820074.mp3\",\"file_814237.exe\",\"file_527982.exe\",\"file_805641.jpg\",\"file_527549.xlsx\",\"file_141055.mp4\",\"file_793177.pptx\",\"file_784928.png\",\"file_582638.mp4\",\"file_148310.mp4\",\"file_523390.xlsx\",\"file_752098.docx\",\"file_591818.docx\",\"file_158523.docx\",\"file_718427.mp3\",\"file_602881.mp4\",\"file_508367.docx\",\"file_609548.jpg\",\"file_680747.mp3\",\"file_133979.jpg\",\"file_658093.pptx\",\"file_838116.xlsx\",\"file_846321.mp3\",\"file_104083.png\",\"file_932594.docx\",\"file_929502.docx\",\"file_549235.exe\",\"file_561744.pptx\",\"file_547423.exe\",\"file_544956.xlsx\",\"file_544527.xlsx\",\"file_907459.png\",\"file_900629.jpg\",\"file_569188.docx\",\"file_53509.exe\",\"file_534192.pptx\",\"file_888542.png\",\"file_873295.docx\",\"file_861264.png\",\"file_125741.pptx\",\"file_860657.mp4\",\"file_85807.xlsx\",\"file_849424.pptx\",\"file_572609.xlsx\",\"file_843906.exe\",\"file_621686.pptx\",\"file_746458.exe\",\"file_678377.mp3\",\"file_653519.xlsx\",\"file_51441.xlsx\",\"file_64605.pptx\",\"file_654031.exe\",\"file_685162.exe\",\"file_532112.docx\",\"file_635047.docx\",\"file_652686.docx\",\"file_679816.mp4\",\"file_48616.png\",\"file_500051.mp4\",\"file_655927.png\",\"file_478827.mp3\",\"file_552600.xlsx\",\"file_694235.png\",\"file_204150.xlsx\",\"file_688476.xlsx\",\"file_468303.pptx\",\"file_657046.pptx\",\"file_350107.mp4\",\"file_567663.mp4\",\"file_539158.exe\",\"file_885129.xlsx\",\"file_870241.mp4\",\"file_883653.exe\",\"file_718972.mp3\",\"file_684106.mp4\",\"file_408814.png\",\"file_457284.jpg\",\"file_69702.exe\",\"file_93267.jpg\",\"file_926683.mp4\",\"file_556326.mp3\",\"file_909870.mp3\",\"file_557975.pptx\",\"file_549121.mp4\",\"file_901864.docx\",\"file_893048.mp3\",\"file_359088.exe\",\"file_471565.mp4\",\"file_458985.jpg\",\"file_712506.mp4\",\"file_898218.mp4\",\"file_897755.jpg\",\"file_897608.mp4\",\"file_687096.docx\",\"file_73786.mp3\",\"file_465528.png\",\"file_566711.exe\",\"file_529863.mp3\",\"file_745742.mp4\",\"file_51488.mp3\",\"file_492146.pptx\",\"file_514849.mp4\",\"file_822026.mp4\",\"file_603921.docx\",\"file_799641.docx\",\"file_607990.mp4\",\"file_700797.xlsx\",\"file_49650.docx\",\"file_504901.docx\",\"file_630130.exe\",\"file_818775.docx\",\"file_403254.png\",\"file_620666.exe\",\"file_621286.mp4\",\"file_626521.mp4\",\"file_50494.pptx\",\"file_47784.png\",\"file_783041.xlsx\",\"file_587430.docx\",\"file_806328.mp4\",\"file_444339.exe\",\"file_654588.docx\",\"file_75521.mp4\",\"file_654367.png\",\"file_438541.png\",\"file_860642.xlsx\",\"file_646842.mp3\",\"file_482391.pptx\",\"file_75936.docx\",\"file_852414.mp4\",\"file_526835.docx\",\"file_581240.xlsx\",\"file_781774.mp3\",\"file_583578.mp3\",\"file_832592.docx\",\"file_580708.png\",\"file_934507.docx\",\"file_946593.docx\",\"file_554368.jpg\",\"file_693148.docx\",\"file_327944.png\",\"file_323198.png\",\"file_308463.mp4\",\"file_712810.exe\",\"file_291681.mp3\",\"file_277002.jpg\",\"file_739793.docx\",\"file_750339.docx\",\"file_272410.exe\",\"file_24736.png\",\"file_247712.xlsx\",\"file_238573.xlsx\",\"file_25097.pptx\",\"file_766667.jpg\",\"file_222085.png\",\"file_592400.exe\",\"file_204608.mp4\",\"file_769217.xlsx\",\"file_147900.png\",\"file_196012.exe\",\"file_257337.mp4\",\"file_76932.xlsx\",\"file_26117.pptx\",\"file_788980.mp3\",\"file_186278.docx\",\"file_755232.exe\",\"file_331574.mp4\",\"file_682535.png\",\"file_342535.mp4\",\"file_590055.docx\",\"file_19134.png\",\"file_597709.exe\",\"file_608272.png\",\"file_56348.docx\",\"file_563409.mp4\",\"file_52465.xlsx\",\"file_513748.xlsx\",\"file_505176.xlsx\",\"file_499141.exe\",\"file_633886.jpg\",\"file_488057.xlsx\",\"file_463664.jpg\",\"file_217894.pptx\",\"file_456820.docx\",\"file_436186.docx\",\"file_221626.mp3\",\"file_432569.jpg\",\"file_171161.xlsx\",\"file_17115.docx\",\"file_348008.jpg\",\"file_422622.exe\",\"file_22946.xlsx\",\"file_391941.pptx\",\"file_382763.pptx\",\"file_36074.pptx\",\"file_358570.docx\",\"file_179188.mp4\",\"file_266988.xlsx\",\"file_212007.pptx\",\"file_124972.mp4\",\"file_893399.jpg\",\"file_306752.png\",\"file_308358.docx\",\"file_11952.docx\",\"file_89942.xlsx\",\"file_17424.pptx\",\"file_31921.mp3\",\"file_980545.exe\",\"file_321969.docx\",\"file_32278.png\",\"file_109662.mp3\",\"file_327900.docx\",\"file_972960.mp3\",\"file_331816.exe\",\"file_958104.xlsx\",\"file_952454.pptx\",\"file_911674.mp3\",\"file_108817.pptx\",\"file_108692.mp3\",\"file_944777.exe\",\"file_944670.exe\",\"file_342928.xlsx\",\"file_345053.png\",\"file_107467.jpg\",\"file_926046.jpg\",\"file_301868.jpg\",\"file_122331.png\",\"file_312874.xlsx\",\"file_279845.exe\",\"file_26993.docx\",\"file_26994.docx\",\"file_804162.png\",\"file_810728.jpg\",\"file_278536.exe\",\"Subfolder_7\",\"Subfolder_6\",\"file_282349.jpg\",\"file_836006.jpg\",\"Subfolder_3\",\"Subfolder_13\",\"file_19709.mp4\",\"Subfolder_10\",\"file_846918.exe\",\"Subfolder_0\",\"file_577244.mp3\",\"file_634537.exe\",\"file_561503.xlsx\",\"file_915485.mp3\",\"file_626978.jpg\",\"file_617049.png\",\"file_645856.jpg\",\"file_614495.mp3\",\"file_713333.exe\",\"file_632317.pptx\",\"file_923630.png\",\"file_646240.exe\",\"file_560032.xlsx\",\"file_652257.exe\",\"file_606790.xlsx\",\"file_802184.docx\",\"file_576608.docx\",\"file_608723.mp3\",\"file_629835.pptx\",\"file_580057.mp4\",\"file_603946.mp4\",\"file_593966.docx\",\"file_68236.mp3\",\"file_588881.jpg\",\"file_664590.xlsx\",\"file_904509.png\",\"file_618525.xlsx\",\"file_567814.jpg\",\"file_585207.mp3\",\"file_561883.pptx\",\"file_827309.png\",\"file_648937.mp3\",\"file_596598.mp3\",\"file_569936.docx\",\"file_583147.docx\",\"file_577936.xlsx\",\"file_896451.xlsx\",\"file_630617.exe\",\"file_673209.xlsx\",\"file_701011.mp3\",\"file_934645.xlsx\",\"file_569372.xlsx\",\"Subfolder_0\",\"file_859781.xlsx\",\"file_858280.pptx\",\"file_851338.mp4\",\"file_850067.pptx\",\"file_844307.pptx\",\"file_992377.exe\",\"file_832029.docx\",\"file_82726.jpg\",\"file_116394.docx\",\"file_186534.png\",\"file_817227.mp3\",\"file_808627.jpg\",\"file_202900.jpg\",\"Subfolder_9\",\"file_990735.docx\",\"file_990437.exe\",\"file_9864.mp4\",\"file_93689.xlsx\",\"file_937628.docx\",\"file_938513.mp4\",\"file_920706.docx\",\"file_909109.mp4\",\"file_904998.jpg\",\"file_555631.exe\",\"file_949659.exe\",\"file_950343.pptx\",\"file_894117.xlsx\",\"file_889520.jpg\",\"file_88950.mp4\",\"file_982207.docx\",\"file_879182.exe\",\"file_982747.exe\",\"file_211298.jpg\",\"file_594496.mp3\",\"file_797195.mp4\",\"file_792077.jpg\",\"file_695207.xlsx\",\"file_512714.png\",\"file_687857.jpg\",\"file_687330.xlsx\",\"file_537283.mp3\",\"file_680861.exe\",\"file_491611.xlsx\",\"file_54409.docx\",\"file_672925.pptx\",\"file_667864.xlsx\",\"file_661369.png\",\"file_564041.xlsx\",\"file_656157.mp4\",\"file_65596.pptx\",\"file_561585.png\",\"file_704681.png\",\"file_709127.mp3\",\"file_430613.mp3\",\"file_246736.jpg\",\"file_778882.mp3\",\"file_776288.png\",\"file_77161.pptx\",\"file_764001.mp4\",\"file_761799.png\",\"file_303400.exe\",\"file_947615.jpg\",\"file_754279.docx\",\"file_748139.pptx\",\"file_341461.exe\",\"file_744295.xlsx\",\"file_35908.jpg\",\"file_718932.xlsx\",\"file_427151.xlsx\",\"file_228198.docx\",\"file_424867.docx\",\"file_101223.exe\",\"file_169953.exe\",\"file_365762.pptx\",\"file_13115.mp3\",\"file_217443.jpg\",\"file_362740.mp4\",\"file_360803.pptx\",\"file_516264.mp3\",\"file_356244.mp4\",\"file_356212.mp4\",\"file_159175.mp4\",\"file_355536.mp3\",\"file_431629.exe\",\"file_392005.mp3\",\"file_521363.exe\",\"file_345345.png\",\"file_20753.mp4\",\"file_36635.exe\",\"file_413598.pptx\",\"file_250262.jpg\",\"file_480964.mp3\",\"file_236120.xlsx\",\"file_141480.png\",\"file_139451.jpg\",\"file_49637.mp3\",\"file_402428.docx\",\"file_40513.exe\",\"file_23879.docx\",\"file_121.png\",\"file_38311.docx\",\"file_382111.jpg\",\"file_410369.mp3\",\"file_484011.jpg\",\"file_243863.mp3\",\"file_226114.mp3\",\"file_372499.docx\",\"file_481526.pptx\",\"file_48711.mp4\",\"file_339020.exe\",\"file_264317.mp4\",\"file_335190.mp4\",\"file_16487.mp4\",\"file_284454.mp3\",\"file_476967.jpg\",\"file_108179.jpg\",\"file_470949.mp3\",\"file_165001.pptx\",\"file_540832.exe\",\"file_307875.exe\",\"file_544611.mp3\",\"file_106892.xlsx\",\"file_179898.mp4\",\"file_178531.png\",\"file_46242.xlsx\",\"file_468184.xlsx\",\"file_305594.exe\",\"file_467613.mp3\",\"file_295773.png\",\"file_457747.exe\",\"file_199150.pptx\",\"file_536225.pptx\",\"file_199584.jpg\",\"file_447867.mp3\",\"file_201716.exe\",\"file_201928.jpg\",\"file_452930.mp4\",\"file_728087.png\",\"file_560124.jpg\",\"file_519124.mp3\",\"file_230579.mp3\",\"file_175538.pptx\",\"file_530066.exe\",\"file_404497.exe\",\"file_369614.png\",\"file_232232.xlsx\",\"file_757399.exe\",\"file_703130.exe\",\"file_366570.pptx\",\"file_740245.docx\",\"file_824077.docx\",\"file_352635.jpg\",\"file_552351.jpg\",\"file_559296.xlsx\",\"file_228962.jpg\",\"file_208763.mp4\",\"file_627287.xlsx\",\"file_513370.mp3\",\"file_781991.docx\",\"file_419860.mp3\",\"file_461627.pptx\",\"file_723895.docx\",\"file_48159.mp3\",\"file_716311.mp3\",\"file_413798.mp4\",\"file_775897.png\",\"file_775287.jpg\",\"file_803186.mp3\",\"file_803562.mp4\",\"file_805794.exe\",\"file_21251.mp3\",\"file_715942.xlsx\",\"file_458644.mp4\",\"file_434944.pptx\",\"file_199447.mp4\",\"file_81039.png\",\"file_347332.exe\",\"file_214015.xlsx\",\"file_834689.exe\",\"file_939987.png\",\"file_171352.xlsx\",\"file_943068.exe\",\"file_14866.docx\",\"file_948921.mp3\",\"file_145337.mp4\",\"file_143376.mp4\",\"file_951822.docx\",\"file_135729.mp3\",\"file_952967.pptx\",\"file_277610.jpg\",\"Subfolder_8\",\"file_280315.exe\",\"file_969344.jpg\",\"file_971465.mp3\",\"Subfolder_4\",\"file_324788.mp3\",\"file_290662.mp4\",\"Subfolder_0\",\"file_306840.pptx\",\"Subfolder_1\",\"Subfolder_1\",\"file_98828.exe\",\"file_939186.mp4\",\"file_988055.xlsx\",\"file_985228.xlsx\",\"file_286087.mp3\",\"Subfolder_2\",\"file_319355.jpg\",\"Subfolder_3\",\"file_554670.mp3\",\"file_987902.mp3\",\"file_343241.jpg\",\"file_179467.pptx\",\"file_936321.mp4\",\"file_87586.jpg\",\"file_873849.exe\",\"file_372694.png\",\"file_238886.mp4\",\"file_860521.docx\",\"file_702278.xlsx\",\"file_881488.exe\",\"file_85752.mp3\",\"file_324369.jpg\",\"file_841495.jpg\",\"file_840552.exe\",\"file_338983.png\",\"file_837154.xlsx\",\"file_341308.exe\",\"file_323256.jpg\",\"file_829824.png\",\"file_249092.pptx\",\"file_249175.xlsx\",\"file_181887.jpg\",\"file_35079.exe\",\"file_928629.exe\",\"file_926373.xlsx\",\"file_924852.jpg\",\"file_253695.mp3\",\"file_250216.exe\",\"file_912155.png\",\"file_901674.mp3\",\"file_359783.xlsx\",\"file_365159.docx\",\"file_231804.jpg\",\"file_88663.pptx\",\"file_367784.xlsx\",\"file_251905.mp3\",\"file_316536.xlsx\",\"file_995734.png\",\"file_137334.png\",\"file_770710.png\",\"file_129033.mp3\",\"file_771887.exe\",\"file_478832.pptx\",\"file_66928.exe\",\"file_477179.pptx\",\"file_729912.exe\",\"file_773586.exe\",\"file_505168.exe\",\"file_840438.mp3\",\"file_617441.jpg\",\"file_620544.pptx\",\"file_913639.exe\",\"file_678580.xlsx\",\"file_646709.docx\",\"file_527968.pptx\",\"file_898369.exe\",\"file_580736.exe\",\"file_480036.mp3\",\"file_657986.pptx\",\"file_763073.png\",\"file_480611.docx\",\"file_482505.pptx\",\"file_653180.mp4\",\"file_879115.docx\",\"file_159485.jpg\",\"file_485768.pptx\",\"file_738708.jpg\",\"file_522101.docx\",\"file_765177.mp4\",\"file_584439.pptx\",\"file_651575.mp3\",\"file_664674.docx\",\"file_644555.mp4\",\"file_134722.jpg\",\"file_716445.png\",\"file_867877.mp4\",\"file_831820.xlsx\",\"file_558440.xlsx\",\"file_501424.png\",\"file_470004.jpg\",\"file_470636.png\",\"file_144958.png\",\"file_499745.jpg\",\"file_472129.mp3\",\"file_682678.mp4\",\"file_556164.png\",\"file_834573.jpg\",\"file_925333.mp3\",\"file_168937.jpg\",\"file_6727.png\",\"file_635507.png\",\"file_822814.jpg\",\"file_553706.jpg\",\"file_667098.docx\",\"file_685255.docx\",\"file_693891.mp3\",\"file_684986.png\",\"file_57046.mp3\",\"file_473960.png\",\"file_50135.mp4\",\"file_600536.pptx\",\"file_231633.png\",\"file_224867.jpg\",\"file_467773.mp4\",\"file_230181.jpg\",\"file_321161.mp4\",\"file_627442.exe\",\"file_318849.xlsx\",\"file_601422.xlsx\",\"file_361275.pptx\",\"file_21286.docx\",\"file_213006.jpg\",\"file_136795.exe\",\"file_894380.xlsx\",\"file_872493.xlsx\",\"file_503906.pptx\",\"file_244603.exe\",\"file_621723.xlsx\",\"file_133840.docx\",\"file_866331.jpg\",\"file_614366.xlsx\",\"file_611431.png\",\"file_295986.xlsx\",\"file_507511.exe\",\"file_243156.exe\",\"file_605008.docx\",\"file_603981.xlsx\",\"file_241853.mp3\",\"file_37602.docx\",\"file_377601.mp3\",\"file_310253.docx\",\"file_895168.mp4\",\"file_381889.mp3\",\"file_853806.mp3\",\"file_913341.xlsx\",\"file_104789.docx\",\"file_961477.docx\",\"file_914122.docx\",\"Subfolder_5\",\"file_284242.mp4\",\"file_967981.mp4\",\"file_915195.mp3\",\"file_57100.pptx\",\"file_975595.mp3\",\"file_920737.xlsx\",\"file_569540.mp4\",\"file_537657.xlsx\",\"file_925571.pptx\",\"Subfolder_12\",\"file_985077.xlsx\",\"file_565306.docx\",\"file_562524.jpg\",\"file_548565.jpg\",\"file_550205.jpg\",\"file_941572.mp4\",\"file_990180.xlsx\",\"file_551981.mp4\",\"file_998915.xlsx\",\"file_300762.jpg\",\"file_993615.png\",\"file_993849.mp3\",\"file_994442.pptx\",\"file_959845.xlsx\",\"file_95876.mp4\",\"file_115979.jpg\",\"file_332285.exe\",\"file_5168.xlsx\",\"file_925251.pptx\",\"file_255257.docx\",\"file_256194.mp3\",\"file_355382.png\",\"file_875655.jpg\",\"file_931016.jpg\",\"file_931805.exe\",\"file_931898.mp4\",\"file_352210.pptx\",\"file_58950.mp4\",\"file_384671.docx\",\"file_347776.mp4\",\"file_210943.xlsx\",\"file_935580.xlsx\",\"file_583064.mp4\",\"file_89061.xlsx\",\"file_523492.mp3\",\"file_57880.docx\",\"file_118424.exe\",\"file_143630.mp4\",\"file_529802.pptx\",\"file_530650.pptx\",\"file_134436.png\",\"file_269551.exe\",\"file_954837.png\",\"file_116921.xlsx\",\"file_270292.xlsx\",\"file_58479.jpg\",\"file_265660.docx\",\"file_55504.exe\",\"file_385039.docx\",\"file_736894.pptx\",\"file_156993.mp3\",\"file_700298.xlsx\",\"file_790659.mp4\",\"file_79072.mp4\",\"file_697812.exe\",\"file_460778.jpg\",\"file_416323.exe\",\"file_217364.jpg\",\"file_6968.jpg\",\"file_57479.xlsx\",\"file_729543.png\",\"file_59463.mp4\",\"file_536913.docx\",\"file_155640.jpg\",\"file_764138.docx\",\"file_226843.mp4\",\"file_190568.mp3\",\"file_798887.xlsx\",\"file_21677.mp4\",\"file_468172.mp4\",\"file_425691.xlsx\",\"file_729435.pptx\",\"file_437716.jpg\",\"file_547004.pptx\",\"file_667535.pptx\",\"file_509337.docx\",\"file_764025.jpg\",\"file_766461.pptx\",\"file_766516.mp3\",\"file_505126.xlsx\",\"file_548102.exe\",\"file_745635.png\",\"file_552723.mp3\",\"file_742288.pptx\",\"file_771883.mp4\",\"file_663462.exe\",\"file_85157.xlsx\",\"file_428819.mp4\",\"file_426614.mp3\",\"file_469877.png\",\"file_453255.mp3\",\"file_426318.jpg\",\"file_164301.png\",\"file_679919.pptx\",\"file_643593.xlsx\",\"file_391773.jpg\",\"file_794264.mp3\",\"file_720000.docx\",\"file_339203.mp3\",\"file_695100.docx\",\"file_840301.mp4\",\"file_336848.png\",\"file_181254.jpg\",\"file_654310.docx\",\"file_84370.pptx\",\"file_659356.jpg\",\"file_844121.mp3\",\"file_703248.jpg\",\"file_697547.jpg\",\"file_324843.pptx\",\"file_323388.xlsx\",\"file_702523.exe\",\"file_705181.mp3\",\"file_784628.mp3\",\"file_673762.xlsx\",\"file_151921.docx\",\"file_823387.docx\",\"file_18939.mp4\",\"file_829090.xlsx\",\"file_828850.jpg\",\"file_231690.mp4\",\"file_490362.exe\",\"file_455933.docx\",\"file_399328.png\",\"file_693505.mp3\",\"file_489845.png\",\"file_771467.xlsx\",\"file_400289.pptx\",\"file_293084.docx\",\"file_929859.pptx\",\"file_929214.xlsx\",\"file_170701.docx\",\"Subfolder_2\",\"file_540787.pptx\",\"file_159876.mp3\",\"Subfolder_11\",\"file_115617.mp3\",\"file_918311.pptx\",\"file_205006.jpg\",\"file_109264.mp4\",\"file_10864.png\",\"file_163227.xlsx\",\"file_178069.mp4\",\"file_287156.jpg\",\"Subfolder_5\",\"file_946946.mp3\",\"file_16335.mp4\",\"file_282549.mp3\",\"Subfolder_3\",\"file_705436.png\",\"file_609704.xlsx\",\"file_113356.xlsx\",\"file_606258.mp3\",\"file_181539.mp3\",\"file_905439.png\",\"file_858381.pptx\",\"file_422998.xlsx\",\"file_422738.docx\",\"file_857284.jpg\",\"file_365074.mp3\",\"file_132923.mp3\",\"file_246716.mp4\",\"file_232381.pptx\",\"file_349611.mp4\",\"file_257434.exe\",\"file_345643.png\",\"file_250443.exe\",\"file_235695.mp3\",\"file_807909.jpg\",\"file_299641.pptx\",\"file_301836.xlsx\",\"file_809738.jpg\",\"file_335417.docx\",\"file_335295.docx\",\"file_828625.pptx\",\"file_311292.mp3\",\"file_236144.pptx\",\"file_330561.pptx\",\"file_8127.mp4\",\"file_80255.png\",\"file_859999.pptx\",\"file_220349.xlsx\",\"file_219849.mp3\",\"file_531268.mp3\",\"file_899824.exe\",\"file_208509.xlsx\",\"file_268689.docx\",\"file_500713.docx\",\"file_154456.mp4\",\"file_159119.jpg\",\"file_49259.jpg\",\"file_99696.mp4\",\"file_124718.png\",\"file_886606.docx\",\"file_214041.mp3\",\"file_883104.exe\",\"file_48543.docx\",\"file_472553.jpg\",\"file_15775.jpg\",\"file_187690.mp4\",\"file_46230.xlsx\",\"file_869993.mp3\",\"file_869337.jpg\",\"file_754840.png\",\"file_866885.pptx\",\"file_453819.exe\",\"file_211557.docx\",\"file_864185.mp4\",\"file_122510.exe\",\"file_665430.docx\",\"file_979749.xlsx\",\"file_810877.xlsx\",\"file_662203.png\",\"file_928484.jpg\",\"file_479190.exe\",\"file_348395.xlsx\",\"file_935646.docx\",\"file_65769.docx\",\"file_655975.png\",\"file_940839.mp3\",\"file_769390.mp3\",\"file_65065.png\",\"file_847281.png\",\"file_6469.pptx\",\"file_487759.xlsx\",\"file_730787.exe\",\"file_945703.xlsx\",\"file_771710.mp3\",\"file_840432.mp4\",\"file_776593.pptx\",\"file_625330.mp4\",\"file_662510.pptx\",\"file_851791.mp4\",\"file_435892.mp3\",\"file_665704.pptx\",\"file_72011.png\",\"file_453433.mp3\",\"file_736510.pptx\",\"file_74075.xlsx\",\"file_871484.png\",\"file_885117.mp4\",\"file_444436.mp3\",\"file_707740.mp3\",\"file_869219.mp4\",\"file_625138.exe\",\"file_441535.docx\",\"file_896954.png\",\"file_898002.pptx\",\"file_698030.xlsx\",\"file_382303.pptx\",\"file_75759.mp4\",\"file_473993.png\",\"file_904129.exe\",\"file_6761.exe\",\"file_672960.exe\",\"file_750318.png\",\"file_833147.docx\",\"file_843678.mp4\",\"file_50351.mp4\",\"file_402454.xlsx\",\"file_801450.jpg\",\"file_967196.jpg\",\"file_329407.png\",\"file_974289.png\",\"file_831482.docx\",\"file_523318.mp4\",\"file_576274.xlsx\",\"file_802303.jpg\",\"file_594847.mp3\",\"file_98410.xlsx\",\"file_571162.mp4\",\"file_570359.png\",\"file_307175.pptx\",\"file_989765.xlsx\",\"file_56661.mp4\",\"file_806310.jpg\",\"file_561449.png\",\"file_550491.png\",\"file_994745.mp4\",\"file_572040.jpg\",\"file_400063.pptx\",\"file_45300.xlsx\",\"file_425057.pptx\",\"file_42093.exe\",\"file_957024.png\",\"file_788326.exe\",\"file_393642.xlsx\",\"file_509066.xlsx\",\"file_961210.xlsx\",\"file_829770.docx\",\"file_961417.xlsx\",\"file_828267.docx\",\"file_961578.mp4\",\"file_426598.mp4\",\"file_559071.mp3\",\"file_438477.docx\",\"file_779188.exe\",\"file_744138.jpg\",\"file_22361.pptx\",\"file_407815.mp4\",\"file_733461.exe\",\"file_43586.png\",\"file_477489.mp4\",\"file_199907.docx\",\"file_555704.mp4\",\"file_453716.png\",\"file_770622.mp4\",\"file_454895.docx\",\"file_515006.png\",\"file_760251.docx\",\"file_218974.jpg\",\"file_434329.mp3\",\"file_417247.xlsx\",\"file_768411.exe\",\"file_296650.pptx\",\"file_790747.mp4\",\"file_52456.exe\",\"file_436823.exe\",\"file_758215.mp4\",\"file_43967.mp3\",\"file_208149.xlsx\",\"file_43904.jpg\",\"file_750723.png\",\"file_206009.jpg\",\"file_449789.exe\",\"file_995848.docx\",\"file_595951.exe\",\"file_139380.docx\",\"file_828221.docx\",\"file_625117.jpg\",\"file_83380.xlsx\",\"file_624350.jpg\",\"file_503694.exe\",\"file_503993.jpg\",\"file_61325.png\",\"file_841186.jpg\",\"file_606713.jpg\",\"file_848156.pptx\",\"file_848808.docx\",\"file_510912.xlsx\",\"file_139425.exe\",\"file_602470.pptx\",\"file_125726.mp3\",\"file_595682.exe\",\"file_865364.xlsx\",\"file_594061.xlsx\",\"file_592250.mp4\",\"file_590348.jpg\",\"file_11187.xlsx\",\"file_572479.jpg\",\"file_915871.png\",\"file_567073.pptx\",\"file_106934.mp4\",\"file_547593.exe\",\"file_934369.docx\",\"file_126674.mp3\",\"file_635770.png\",\"file_638302.mp3\",\"file_144583.mp4\",\"file_71515.xlsx\",\"file_189132.xlsx\",\"file_613418.png\",\"file_186546.jpg\",\"file_184612.docx\",\"file_61890.png\",\"file_458660.docx\",\"file_459309.jpg\",\"file_640349.docx\",\"file_70754.png\",\"file_649539.pptx\",\"file_70600.exe\",\"file_694314.exe\",\"file_687507.exe\",\"file_810170.docx\",\"file_686198.jpg\",\"file_689767.mp4\",\"file_682377.xlsx\",\"file_163875.xlsx\",\"file_678779.exe\",\"file_732145.xlsx\",\"file_733230.exe\",\"file_750905.exe\",\"file_659339.png\",\"file_480074.mp4\",\"file_480665.pptx\",\"file_765687.exe\",\"file_153573.pptx\",\"file_649116.exe\",\"file_724806.docx\",\"file_47374.jpg\",\"file_501593.xlsx\",\"file_905589.exe\",\"file_118397.pptx\",\"file_955293.exe\",\"file_371336.pptx\",\"file_958390.mp4\",\"file_273723.mp4\",\"file_882256.xlsx\",\"file_254214.mp3\",\"file_879117.mp3\",\"file_952650.mp3\",\"file_275232.pptx\",\"file_964368.jpg\",\"file_291569.docx\",\"file_294096.xlsx\",\"file_871957.docx\",\"file_296376.pptx\",\"file_301057.mp4\",\"file_241542.mp3\",\"file_867436.exe\",\"file_276957.mp3\",\"file_132710.mp3\",\"file_332752.exe\",\"file_334328.xlsx\",\"file_346698.docx\",\"file_265923.mp4\",\"file_188520.mp3\",\"file_926342.mp3\",\"file_20468.jpg\",\"file_355587.png\",\"file_165860.mp3\",\"file_942288.png\",\"file_942728.pptx\",\"file_405575.jpg\",\"file_357890.exe\",\"file_220036.xlsx\",\"file_220260.pptx\",\"file_25084.exe\",\"file_334670.png\",\"file_334656.mp4\",\"file_269404.docx\",\"file_359598.docx\",\"file_137889.exe\",\"file_314164.png\",\"file_858362.mp4\",\"Subfolder_5\",\"file_356216.mp4\",\"file_391282.exe\",\"file_984543.xlsx\",\"file_290628.jpg\",\"file_404420.jpg\",\"file_300952.xlsx\",\"file_993044.exe\",\"file_991488.docx\",\"file_848634.xlsx\",\"file_416378.mp3\",\"file_420598.docx\",\"file_987228.mp4\",\"file_388809.exe\",\"file_234770.pptx\",\"file_232750.png\",\"file_421902.jpg\",\"file_816766.exe\",\"file_843455.jpg\",\"file_848258.png\",\"file_498341.mp4\",\"file_629651.xlsx\",\"file_334503.mp4\",\"file_628135.exe\",\"file_140881.pptx\",\"file_137317.docx\",\"file_988667.pptx\",\"file_539434.mp4\",\"file_831418.exe\",\"file_634240.png\",\"file_139480.png\",\"file_117326.mp4\",\"file_141393.mp3\",\"file_557070.exe\",\"file_943990.pptx\",\"file_177897.png\",\"file_267258.exe\",\"file_652626.mp3\",\"file_167476.pptx\",\"file_994597.xlsx\",\"file_937046.pptx\",\"file_293975.jpg\",\"file_342418.docx\",\"file_144976.jpg\",\"file_933480.jpg\",\"file_154429.png\",\"file_105039.docx\",\"file_267887.png\",\"file_496030.docx\",\"file_643007.exe\",\"file_150353.docx\",\"file_642385.xlsx\",\"file_568092.jpg\",\"file_649421.jpg\",\"file_640839.exe\",\"file_9548.docx\",\"file_130733.exe\",\"file_51837.mp4\",\"file_91093.xlsx\",\"file_125220.docx\",\"file_979820.mp4\",\"file_909830.pptx\",\"file_520958.png\",\"file_285662.jpg\",\"file_585793.jpg\",\"file_905813.pptx\",\"file_522789.jpg\",\"file_980388.jpg\",\"file_582718.pptx\",\"file_122100.png\",\"file_524073.png\",\"file_311447.mp4\",\"file_112217.xlsx\",\"file_526855.png\",\"file_528160.mp4\",\"file_530936.exe\",\"file_967191.exe\",\"file_964684.exe\",\"file_531598.png\",\"file_594520.mp3\",\"file_92032.docx\",\"file_903206.mp3\",\"Subfolder_1\",\"file_132965.mp4\",\"file_985299.xlsx\",\"file_132072.exe\",\"file_960005.png\",\"file_329986.xlsx\",\"file_57202.xlsx\",\"file_532672.mp4\",\"Subfolder_8\",\"file_512533.pptx\",\"file_311182.jpg\",\"file_27902.xlsx\",\"Subfolder_7\",\"file_963009.mp3\",\"Subfolder_6\",\"file_912714.mp3\",\"file_936319.exe\",\"file_866559.mp3\",\"file_603425.exe\",\"file_933169.png\",\"file_423651.xlsx\",\"file_749181.pptx\",\"file_510099.pptx\",\"file_212338.exe\",\"file_435469.png\",\"file_209869.mp4\",\"file_386307.png\",\"file_385710.mp4\",\"file_383249.png\",\"file_856000.mp3\",\"file_313456.xlsx\",\"file_313315.jpg\",\"file_864559.mp4\",\"file_441508.exe\",\"file_309004.docx\",\"file_240359.pptx\",\"file_551465.mp3\",\"file_445962.pptx\",\"file_373254.mp3\",\"file_739778.mp4\",\"file_29395.mp3\",\"file_874618.mp3\",\"file_732641.png\",\"file_279280.xlsx\",\"file_730739.xlsx\",\"file_324316.pptx\",\"file_584785.docx\",\"file_76575.jpg\",\"file_213119.png\",\"file_228047.xlsx\",\"file_807538.mp3\",\"file_413358.xlsx\",\"file_221399.mp3\",\"file_230093.mp4\",\"file_816040.xlsx\",\"file_231349.mp3\",\"file_449094.png\",\"file_822484.mp3\",\"file_799304.jpg\",\"file_395557.png\",\"file_359798.png\",\"file_416670.exe\",\"file_233176.mp3\",\"file_461944.mp4\",\"file_783372.mp4\",\"file_345870.exe\",\"file_831446.mp4\",\"file_780989.png\",\"file_836253.pptx\",\"file_838108.xlsx\",\"file_773182.png\",\"file_497311.xlsx\",\"file_238586.pptx\",\"file_877819.docx\",\"file_197784.png\",\"file_192122.png\",\"file_694803.exe\",\"file_677153.jpg\",\"file_167462.pptx\",\"file_692382.jpg\",\"file_251655.jpg\",\"file_217029.png\",\"file_473875.jpg\",\"file_358874.pptx\",\"file_697634.mp4\",\"file_680965.png\",\"file_475665.jpg\",\"file_705245.png\",\"file_680766.xlsx\",\"file_475860.docx\",\"file_252565.xlsx\",\"file_678268.jpg\",\"file_71705.mp3\",\"file_912804.exe\",\"file_73224.pptx\",\"file_197704.exe\",\"file_35544.pptx\",\"file_740578.mp3\",\"file_26156.mp3\",\"file_696853.pptx\",\"file_672052.mp4\",\"file_22479.jpg\",\"file_698501.pptx\",\"file_244858.docx\",\"file_606401.exe\",\"file_18750.jpg\",\"file_712578.mp3\",\"file_60993.pptx\",\"file_612359.docx\",\"file_88263.jpg\",\"file_372376.jpg\",\"file_616949.mp3\",\"file_249157.png\",\"file_621470.pptx\",\"file_660390.mp4\",\"file_71139.pptx\",\"file_36691.jpg\",\"file_241077.jpg\",\"file_239112.docx\",\"file_233876.exe\",\"file_892515.exe\",\"file_895440.mp3\",\"file_65330.docx\",\"file_705419.exe\",\"file_704580.xlsx\",\"file_659661.jpg\",\"file_699836.xlsx\",\"file_70932.jpg\",\"file_758872.jpg\",\"file_952074.docx\",\"file_953300.mp4\",\"file_95405.pptx\",\"file_954308.png\",\"file_958409.mp3\",\"file_959617.docx\",\"file_961779.png\",\"file_962771.mp3\",\"file_966475.mp3\",\"file_969045.exe\",\"file_970364.png\",\"file_97597.xlsx\",\"file_980096.pptx\",\"file_980103.exe\",\"file_98111.png\",\"file_982823.mp4\",\"file_983540.pptx\",\"file_985428.mp4\",\"file_986389.mp4\",\"file_987064.jpg\",\"file_987538.jpg\",\"file_989973.docx\",\"file_990120.xlsx\",\"file_990374.png\",\"file_991860.jpg\",\"file_99279.pptx\",\"file_994930.png\",\"file_999400.pptx\",\"file_999496.xlsx\",\"Folder_0\",\"Folder_1\",\"Folder_2\",\"C:\"],\"marker\":{\"colors\":[\"#636efa\",\"#636efa\",\"#EF553B\",\"#636efa\",\"#00cc96\",\"#636efa\",\"#00cc96\",\"#ab63fa\",\"#FFA15A\",\"#EF553B\",\"#19d3f3\",\"#FF6692\",\"#B6E880\",\"#00cc96\",\"#636efa\",\"#B6E880\",\"#19d3f3\",\"#FFA15A\",\"#00cc96\",\"#EF553B\",\"#636efa\",\"#19d3f3\",\"#ab63fa\",\"#636efa\",\"#FFA15A\",\"#EF553B\",\"#FF6692\",\"#00cc96\",\"#EF553B\",\"#EF553B\",\"#EF553B\",\"#FFA15A\",\"#00cc96\",\"#ab63fa\",\"#19d3f3\",\"#ab63fa\",\"#FFA15A\",\"#FFA15A\",\"#FFA15A\",\"#19d3f3\",\"#ab63fa\",\"#19d3f3\",\"#EF553B\",\"#B6E880\",\"#00cc96\",\"#FFA15A\",\"#EF553B\",\"#19d3f3\",\"#EF553B\",\"#00cc96\",\"#EF553B\",\"#FFA15A\",\"#ab63fa\",\"#FF6692\",\"#B6E880\",\"#00cc96\",\"#FF6692\",\"#EF553B\",\"#19d3f3\",\"#EF553B\",\"#636efa\",\"#00cc96\",\"#FFA15A\",\"#636efa\",\"#19d3f3\",\"#19d3f3\",\"#FFA15A\",\"#636efa\",\"#EF553B\",\"#FF6692\",\"#19d3f3\",\"#B6E880\",\"#B6E880\",\"#636efa\",\"#B6E880\",\"#ab63fa\",\"#FF6692\",\"#00cc96\",\"#ab63fa\",\"#636efa\",\"#636efa\",\"#B6E880\",\"#00cc96\",\"#FFA15A\",\"#FF97FF\",\"#FF97FF\",\"#FF97FF\",\"#19d3f3\",\"#ab63fa\",\"#FF6692\",\"#00cc96\",\"#FFA15A\",\"#19d3f3\",\"#19d3f3\",\"#FF6692\",\"#FFA15A\",\"#ab63fa\",\"#636efa\",\"#FF6692\",\"#19d3f3\",\"#ab63fa\",\"#19d3f3\",\"#636efa\",\"#00cc96\",\"#19d3f3\",\"#19d3f3\",\"#636efa\",\"#19d3f3\",\"#FF6692\",\"#B6E880\",\"#B6E880\",\"#EF553B\",\"#FFA15A\",\"#ab63fa\",\"#636efa\",\"#00cc96\",\"#ab63fa\",\"#ab63fa\",\"#FFA15A\",\"#19d3f3\",\"#19d3f3\",\"#19d3f3\",\"#FF6692\",\"#ab63fa\",\"#19d3f3\",\"#EF553B\",\"#FF6692\",\"#EF553B\",\"#636efa\",\"#FFA15A\",\"#FF6692\",\"#00cc96\",\"#19d3f3\",\"#19d3f3\",\"#B6E880\",\"#636efa\",\"#B6E880\",\"#FFA15A\",\"#FFA15A\",\"#00cc96\",\"#EF553B\",\"#19d3f3\",\"#B6E880\",\"#636efa\",\"#00cc96\",\"#19d3f3\",\"#00cc96\",\"#636efa\",\"#ab63fa\",\"#FFA15A\",\"#636efa\",\"#FFA15A\",\"#B6E880\",\"#636efa\",\"#B6E880\",\"#FF6692\",\"#FFA15A\",\"#FFA15A\",\"#636efa\",\"#B6E880\",\"#B6E880\",\"#19d3f3\",\"#19d3f3\",\"#19d3f3\",\"#ab63fa\",\"#00cc96\",\"#ab63fa\",\"#00cc96\",\"#FF6692\",\"#FFA15A\",\"#00cc96\",\"#FFA15A\",\"#FFA15A\",\"#636efa\",\"#636efa\",\"#ab63fa\",\"#ab63fa\",\"#B6E880\",\"#FFA15A\",\"#ab63fa\",\"#B6E880\",\"#FF6692\",\"#ab63fa\",\"#00cc96\",\"#EF553B\",\"#B6E880\",\"#EF553B\",\"#ab63fa\",\"#FF6692\",\"#FF6692\",\"#636efa\",\"#ab63fa\",\"#19d3f3\",\"#FF6692\",\"#B6E880\",\"#ab63fa\",\"#EF553B\",\"#ab63fa\",\"#ab63fa\",\"#EF553B\",\"#ab63fa\",\"#19d3f3\",\"#FF6692\",\"#00cc96\",\"#B6E880\",\"#FF6692\",\"#ab63fa\",\"#FF6692\",\"#636efa\",\"#ab63fa\",\"#ab63fa\",\"#19d3f3\",\"#19d3f3\",\"#ab63fa\",\"#FFA15A\",\"#19d3f3\",\"#19d3f3\",\"#B6E880\",\"#19d3f3\",\"#00cc96\",\"#B6E880\",\"#ab63fa\",\"#ab63fa\",\"#636efa\",\"#00cc96\",\"#FFA15A\",\"#19d3f3\",\"#ab63fa\",\"#B6E880\",\"#19d3f3\",\"#ab63fa\",\"#00cc96\",\"#00cc96\",\"#FFA15A\",\"#FF6692\",\"#636efa\",\"#19d3f3\",\"#ab63fa\",\"#19d3f3\",\"#FFA15A\",\"#FF6692\",\"#FF6692\",\"#19d3f3\",\"#00cc96\",\"#19d3f3\",\"#19d3f3\",\"#EF553B\",\"#19d3f3\",\"#00cc96\",\"#00cc96\",\"#ab63fa\",\"#B6E880\",\"#FF6692\",\"#EF553B\",\"#19d3f3\",\"#19d3f3\",\"#B6E880\",\"#00cc96\",\"#FFA15A\",\"#FFA15A\",\"#636efa\",\"#EF553B\",\"#00cc96\",\"#B6E880\",\"#ab63fa\",\"#FFA15A\",\"#00cc96\",\"#B6E880\",\"#ab63fa\",\"#FFA15A\",\"#636efa\",\"#FF6692\",\"#19d3f3\",\"#B6E880\",\"#ab63fa\",\"#00cc96\",\"#ab63fa\",\"#19d3f3\",\"#00cc96\",\"#B6E880\",\"#00cc96\",\"#19d3f3\",\"#ab63fa\",\"#FFA15A\",\"#FFA15A\",\"#FFA15A\",\"#B6E880\",\"#EF553B\",\"#FFA15A\",\"#EF553B\",\"#636efa\",\"#19d3f3\",\"#19d3f3\",\"#FF6692\",\"#EF553B\",\"#FFA15A\",\"#19d3f3\",\"#EF553B\",\"#B6E880\",\"#FFA15A\",\"#636efa\",\"#636efa\",\"#636efa\",\"#19d3f3\",\"#ab63fa\",\"#FFA15A\",\"#636efa\",\"#ab63fa\",\"#EF553B\",\"#00cc96\",\"#19d3f3\",\"#19d3f3\",\"#FFA15A\",\"#636efa\",\"#FF6692\",\"#B6E880\",\"#19d3f3\",\"#00cc96\",\"#FF6692\",\"#19d3f3\",\"#FF6692\",\"#B6E880\",\"#FFA15A\",\"#636efa\",\"#FF6692\",\"#636efa\",\"#FF6692\",\"#B6E880\",\"#B6E880\",\"#FFA15A\",\"#00cc96\",\"#EF553B\",\"#EF553B\",\"#EF553B\",\"#00cc96\",\"#FFA15A\",\"#B6E880\",\"#19d3f3\",\"#19d3f3\",\"#00cc96\",\"#EF553B\",\"#B6E880\",\"#FF97FF\",\"#FF97FF\",\"#EF553B\",\"#EF553B\",\"#FF97FF\",\"#FF97FF\",\"#ab63fa\",\"#FF97FF\",\"#B6E880\",\"#FF97FF\",\"#FF6692\",\"#B6E880\",\"#FFA15A\",\"#FF6692\",\"#EF553B\",\"#00cc96\",\"#EF553B\",\"#FF6692\",\"#B6E880\",\"#636efa\",\"#00cc96\",\"#B6E880\",\"#FFA15A\",\"#B6E880\",\"#FFA15A\",\"#19d3f3\",\"#19d3f3\",\"#FF6692\",\"#636efa\",\"#ab63fa\",\"#ab63fa\",\"#19d3f3\",\"#FF6692\",\"#EF553B\",\"#FFA15A\",\"#00cc96\",\"#FFA15A\",\"#EF553B\",\"#FF6692\",\"#636efa\",\"#00cc96\",\"#FF6692\",\"#FF6692\",\"#19d3f3\",\"#19d3f3\",\"#FFA15A\",\"#FFA15A\",\"#B6E880\",\"#FFA15A\",\"#FF6692\",\"#FFA15A\",\"#FFA15A\",\"#FF97FF\",\"#FFA15A\",\"#636efa\",\"#ab63fa\",\"#636efa\",\"#636efa\",\"#B6E880\",\"#19d3f3\",\"#EF553B\",\"#19d3f3\",\"#00cc96\",\"#FF6692\",\"#EF553B\",\"#EF553B\",\"#FF97FF\",\"#19d3f3\",\"#B6E880\",\"#ab63fa\",\"#FFA15A\",\"#19d3f3\",\"#ab63fa\",\"#19d3f3\",\"#ab63fa\",\"#EF553B\",\"#B6E880\",\"#B6E880\",\"#636efa\",\"#FFA15A\",\"#EF553B\",\"#ab63fa\",\"#19d3f3\",\"#B6E880\",\"#B6E880\",\"#EF553B\",\"#FF6692\",\"#ab63fa\",\"#EF553B\",\"#FFA15A\",\"#00cc96\",\"#EF553B\",\"#FFA15A\",\"#FF6692\",\"#B6E880\",\"#FFA15A\",\"#19d3f3\",\"#636efa\",\"#FFA15A\",\"#00cc96\",\"#FFA15A\",\"#ab63fa\",\"#636efa\",\"#00cc96\",\"#00cc96\",\"#FF6692\",\"#FF6692\",\"#EF553B\",\"#FF6692\",\"#00cc96\",\"#636efa\",\"#ab63fa\",\"#00cc96\",\"#B6E880\",\"#EF553B\",\"#19d3f3\",\"#636efa\",\"#B6E880\",\"#FFA15A\",\"#EF553B\",\"#FFA15A\",\"#FFA15A\",\"#19d3f3\",\"#19d3f3\",\"#B6E880\",\"#B6E880\",\"#636efa\",\"#FF6692\",\"#EF553B\",\"#ab63fa\",\"#636efa\",\"#FF6692\",\"#ab63fa\",\"#ab63fa\",\"#ab63fa\",\"#FF6692\",\"#B6E880\",\"#FF6692\",\"#B6E880\",\"#00cc96\",\"#ab63fa\",\"#B6E880\",\"#636efa\",\"#EF553B\",\"#FF6692\",\"#FFA15A\",\"#00cc96\",\"#EF553B\",\"#FF6692\",\"#19d3f3\",\"#B6E880\",\"#19d3f3\",\"#00cc96\",\"#19d3f3\",\"#EF553B\",\"#FF6692\",\"#EF553B\",\"#FF6692\",\"#FF6692\",\"#19d3f3\",\"#636efa\",\"#ab63fa\",\"#B6E880\",\"#ab63fa\",\"#ab63fa\",\"#ab63fa\",\"#FF6692\",\"#EF553B\",\"#EF553B\",\"#FF6692\",\"#636efa\",\"#B6E880\",\"#B6E880\",\"#FF6692\",\"#FFA15A\",\"#ab63fa\",\"#00cc96\",\"#FFA15A\",\"#FFA15A\",\"#B6E880\",\"#FF6692\",\"#00cc96\",\"#B6E880\",\"#636efa\",\"#636efa\",\"#EF553B\",\"#FF6692\",\"#B6E880\",\"#EF553B\",\"#ab63fa\",\"#00cc96\",\"#EF553B\",\"#FF6692\",\"#FF6692\",\"#636efa\",\"#B6E880\",\"#B6E880\",\"#00cc96\",\"#FFA15A\",\"#B6E880\",\"#B6E880\",\"#636efa\",\"#19d3f3\",\"#19d3f3\",\"#EF553B\",\"#EF553B\",\"#FFA15A\",\"#EF553B\",\"#ab63fa\",\"#FFA15A\",\"#FF6692\",\"#19d3f3\",\"#FF6692\",\"#636efa\",\"#19d3f3\",\"#FF6692\",\"#FF6692\",\"#ab63fa\",\"#00cc96\",\"#EF553B\",\"#FF6692\",\"#ab63fa\",\"#B6E880\",\"#FF6692\",\"#FFA15A\",\"#ab63fa\",\"#636efa\",\"#ab63fa\",\"#00cc96\",\"#B6E880\",\"#FFA15A\",\"#B6E880\",\"#00cc96\",\"#FFA15A\",\"#B6E880\",\"#19d3f3\",\"#FF6692\",\"#ab63fa\",\"#ab63fa\",\"#19d3f3\",\"#FF6692\",\"#636efa\",\"#EF553B\",\"#FF97FF\",\"#B6E880\",\"#EF553B\",\"#FF6692\",\"#FF97FF\",\"#FF6692\",\"#ab63fa\",\"#FF97FF\",\"#636efa\",\"#FF97FF\",\"#FF97FF\",\"#B6E880\",\"#ab63fa\",\"#FFA15A\",\"#FFA15A\",\"#FF6692\",\"#FF97FF\",\"#EF553B\",\"#FF97FF\",\"#FF6692\",\"#FF6692\",\"#EF553B\",\"#636efa\",\"#ab63fa\",\"#EF553B\",\"#B6E880\",\"#00cc96\",\"#ab63fa\",\"#19d3f3\",\"#FFA15A\",\"#B6E880\",\"#FF6692\",\"#EF553B\",\"#EF553B\",\"#B6E880\",\"#00cc96\",\"#FFA15A\",\"#B6E880\",\"#EF553B\",\"#00cc96\",\"#636efa\",\"#FFA15A\",\"#EF553B\",\"#B6E880\",\"#B6E880\",\"#FFA15A\",\"#EF553B\",\"#FF6692\",\"#B6E880\",\"#00cc96\",\"#FF6692\",\"#FFA15A\",\"#19d3f3\",\"#EF553B\",\"#636efa\",\"#FFA15A\",\"#FF6692\",\"#FFA15A\",\"#00cc96\",\"#00cc96\",\"#00cc96\",\"#FF6692\",\"#B6E880\",\"#636efa\",\"#B6E880\",\"#636efa\",\"#B6E880\",\"#B6E880\",\"#B6E880\",\"#FF6692\",\"#EF553B\",\"#636efa\",\"#B6E880\",\"#FFA15A\",\"#19d3f3\",\"#636efa\",\"#B6E880\",\"#B6E880\",\"#FF6692\",\"#636efa\",\"#00cc96\",\"#19d3f3\",\"#636efa\",\"#ab63fa\",\"#19d3f3\",\"#EF553B\",\"#636efa\",\"#EF553B\",\"#19d3f3\",\"#ab63fa\",\"#636efa\",\"#FF6692\",\"#19d3f3\",\"#ab63fa\",\"#EF553B\",\"#00cc96\",\"#ab63fa\",\"#FFA15A\",\"#FFA15A\",\"#00cc96\",\"#EF553B\",\"#00cc96\",\"#00cc96\",\"#EF553B\",\"#FF6692\",\"#ab63fa\",\"#00cc96\",\"#EF553B\",\"#FF6692\",\"#EF553B\",\"#00cc96\",\"#00cc96\",\"#EF553B\",\"#EF553B\",\"#19d3f3\",\"#19d3f3\",\"#FF6692\",\"#00cc96\",\"#FF6692\",\"#00cc96\",\"#ab63fa\",\"#636efa\",\"#00cc96\",\"#EF553B\",\"#ab63fa\",\"#EF553B\",\"#ab63fa\",\"#B6E880\",\"#FFA15A\",\"#FFA15A\",\"#636efa\",\"#19d3f3\",\"#EF553B\",\"#B6E880\",\"#FFA15A\",\"#FFA15A\",\"#636efa\",\"#B6E880\",\"#FFA15A\",\"#19d3f3\",\"#EF553B\",\"#FFA15A\",\"#00cc96\",\"#FFA15A\",\"#B6E880\",\"#B6E880\",\"#19d3f3\",\"#FFA15A\",\"#FF6692\",\"#19d3f3\",\"#FF6692\",\"#19d3f3\",\"#ab63fa\",\"#FF6692\",\"#FF6692\",\"#FFA15A\",\"#19d3f3\",\"#19d3f3\",\"#19d3f3\",\"#FF97FF\",\"#ab63fa\",\"#ab63fa\",\"#FF6692\",\"#636efa\",\"#FF6692\",\"#FFA15A\",\"#ab63fa\",\"#FFA15A\",\"#636efa\",\"#FF97FF\",\"#FFA15A\",\"#19d3f3\",\"#EF553B\",\"#EF553B\",\"#EF553B\",\"#ab63fa\",\"#FFA15A\",\"#ab63fa\",\"#FFA15A\",\"#EF553B\",\"#00cc96\",\"#FF6692\",\"#636efa\",\"#FFA15A\",\"#ab63fa\",\"#EF553B\",\"#B6E880\",\"#FFA15A\",\"#636efa\",\"#19d3f3\",\"#FF6692\",\"#00cc96\",\"#EF553B\",\"#EF553B\",\"#B6E880\",\"#ab63fa\",\"#636efa\",\"#ab63fa\",\"#19d3f3\",\"#ab63fa\",\"#FFA15A\",\"#FFA15A\",\"#ab63fa\",\"#FFA15A\",\"#FF6692\",\"#19d3f3\",\"#B6E880\",\"#ab63fa\",\"#636efa\",\"#636efa\",\"#00cc96\",\"#B6E880\",\"#00cc96\",\"#FFA15A\",\"#FFA15A\",\"#EF553B\",\"#19d3f3\",\"#B6E880\",\"#19d3f3\",\"#636efa\",\"#FF6692\",\"#FFA15A\",\"#ab63fa\",\"#ab63fa\",\"#B6E880\",\"#EF553B\",\"#B6E880\",\"#EF553B\",\"#EF553B\",\"#FFA15A\",\"#00cc96\",\"#ab63fa\",\"#19d3f3\",\"#EF553B\",\"#19d3f3\",\"#ab63fa\",\"#FF6692\",\"#FFA15A\",\"#ab63fa\",\"#ab63fa\",\"#FFA15A\",\"#636efa\",\"#EF553B\",\"#636efa\",\"#636efa\",\"#19d3f3\",\"#EF553B\",\"#636efa\",\"#FF6692\",\"#FFA15A\",\"#B6E880\",\"#00cc96\",\"#FF6692\",\"#636efa\",\"#ab63fa\",\"#B6E880\",\"#FFA15A\",\"#ab63fa\",\"#FF6692\",\"#00cc96\",\"#FF6692\",\"#EF553B\",\"#00cc96\",\"#636efa\",\"#FFA15A\",\"#EF553B\",\"#FF6692\",\"#19d3f3\",\"#FF6692\",\"#19d3f3\",\"#ab63fa\",\"#00cc96\",\"#EF553B\",\"#19d3f3\",\"#636efa\",\"#EF553B\",\"#FF6692\",\"#EF553B\",\"#EF553B\",\"#636efa\",\"#FFA15A\",\"#B6E880\",\"#FF6692\",\"#FF6692\",\"#FFA15A\",\"#19d3f3\",\"#19d3f3\",\"#ab63fa\",\"#FFA15A\",\"#EF553B\",\"#ab63fa\",\"#B6E880\",\"#19d3f3\",\"#00cc96\",\"#FF6692\",\"#00cc96\",\"#FFA15A\",\"#636efa\",\"#19d3f3\",\"#636efa\",\"#FFA15A\",\"#19d3f3\",\"#FF97FF\",\"#636efa\",\"#FF6692\",\"#FF97FF\",\"#FF6692\",\"#636efa\",\"#EF553B\",\"#ab63fa\",\"#00cc96\",\"#FFA15A\",\"#ab63fa\",\"#EF553B\",\"#FF97FF\",\"#FF6692\",\"#ab63fa\",\"#FF6692\",\"#FF97FF\",\"#00cc96\",\"#FFA15A\",\"#FFA15A\",\"#FF6692\",\"#FF6692\",\"#00cc96\",\"#636efa\",\"#FFA15A\",\"#19d3f3\",\"#EF553B\",\"#FF6692\",\"#FF6692\",\"#ab63fa\",\"#636efa\",\"#ab63fa\",\"#B6E880\",\"#00cc96\",\"#B6E880\",\"#FF6692\",\"#EF553B\",\"#636efa\",\"#FFA15A\",\"#EF553B\",\"#19d3f3\",\"#19d3f3\",\"#636efa\",\"#FF6692\",\"#636efa\",\"#636efa\",\"#ab63fa\",\"#00cc96\",\"#636efa\",\"#FFA15A\",\"#FF6692\",\"#FF6692\",\"#B6E880\",\"#FFA15A\",\"#19d3f3\",\"#19d3f3\",\"#ab63fa\",\"#EF553B\",\"#EF553B\",\"#ab63fa\",\"#00cc96\",\"#19d3f3\",\"#FF6692\",\"#B6E880\",\"#19d3f3\",\"#EF553B\",\"#EF553B\",\"#ab63fa\",\"#FFA15A\",\"#FF6692\",\"#EF553B\",\"#00cc96\",\"#636efa\",\"#B6E880\",\"#19d3f3\",\"#ab63fa\",\"#B6E880\",\"#19d3f3\",\"#FFA15A\",\"#FFA15A\",\"#00cc96\",\"#EF553B\",\"#B6E880\",\"#FFA15A\",\"#19d3f3\",\"#19d3f3\",\"#00cc96\",\"#FF6692\",\"#FF6692\",\"#00cc96\",\"#00cc96\",\"#636efa\",\"#FFA15A\",\"#B6E880\",\"#FFA15A\",\"#FF6692\",\"#ab63fa\",\"#636efa\",\"#ab63fa\",\"#636efa\",\"#ab63fa\",\"#FF6692\",\"#636efa\",\"#00cc96\",\"#FF6692\",\"#636efa\",\"#FFA15A\",\"#00cc96\",\"#ab63fa\",\"#FF6692\",\"#FF6692\",\"#ab63fa\",\"#B6E880\",\"#19d3f3\",\"#00cc96\",\"#636efa\",\"#FFA15A\",\"#636efa\",\"#ab63fa\",\"#00cc96\",\"#B6E880\",\"#B6E880\",\"#B6E880\",\"#00cc96\",\"#19d3f3\",\"#ab63fa\",\"#ab63fa\",\"#FFA15A\",\"#EF553B\",\"#EF553B\",\"#00cc96\",\"#00cc96\",\"#19d3f3\",\"#ab63fa\",\"#FFA15A\",\"#EF553B\",\"#FF6692\",\"#FFA15A\",\"#ab63fa\",\"#00cc96\",\"#636efa\",\"#FFA15A\",\"#ab63fa\",\"#EF553B\",\"#00cc96\",\"#00cc96\",\"#ab63fa\",\"#EF553B\",\"#636efa\",\"#FFA15A\",\"#636efa\",\"#B6E880\",\"#00cc96\",\"#B6E880\",\"#FFA15A\",\"#FFA15A\",\"#FFA15A\",\"#19d3f3\",\"#FFA15A\",\"#19d3f3\",\"#ab63fa\",\"#ab63fa\",\"#FF6692\",\"#19d3f3\",\"#B6E880\",\"#EF553B\",\"#636efa\",\"#ab63fa\",\"#B6E880\",\"#00cc96\",\"#ab63fa\",\"#19d3f3\",\"#ab63fa\",\"#00cc96\",\"#ab63fa\",\"#19d3f3\",\"#00cc96\",\"#19d3f3\",\"#EF553B\",\"#FF6692\",\"#FFA15A\",\"#B6E880\",\"#636efa\",\"#ab63fa\",\"#B6E880\",\"#B6E880\",\"#ab63fa\",\"#FF6692\",\"#FFA15A\",\"#EF553B\",\"#00cc96\",\"#EF553B\",\"#B6E880\",\"#19d3f3\",\"#B6E880\",\"#19d3f3\",\"#19d3f3\",\"#EF553B\",\"#FFA15A\",\"#EF553B\",\"#B6E880\",\"#EF553B\",\"#00cc96\",\"#EF553B\",\"#EF553B\",\"#636efa\",\"#19d3f3\",\"#FFA15A\",\"#B6E880\",\"#636efa\",\"#FF6692\",\"#B6E880\",\"#FFA15A\",\"#FFA15A\",\"#ab63fa\",\"#EF553B\",\"#FFA15A\",\"#EF553B\",\"#00cc96\",\"#636efa\",\"#ab63fa\",\"#B6E880\",\"#19d3f3\",\"#FF6692\",\"#00cc96\",\"#FF6692\",\"#ab63fa\",\"#FFA15A\",\"#FFA15A\",\"#00cc96\",\"#EF553B\",\"#19d3f3\",\"#00cc96\",\"#19d3f3\",\"#EF553B\",\"#19d3f3\",\"#00cc96\",\"#636efa\",\"#B6E880\",\"#B6E880\",\"#B6E880\",\"#19d3f3\",\"#EF553B\",\"#ab63fa\",\"#FFA15A\",\"#FFA15A\",\"#B6E880\",\"#FFA15A\",\"#B6E880\",\"#B6E880\",\"#00cc96\",\"#ab63fa\",\"#636efa\",\"#B6E880\",\"#636efa\",\"#B6E880\",\"#19d3f3\",\"#EF553B\",\"#FFA15A\",\"#B6E880\",\"#636efa\",\"#B6E880\",\"#636efa\",\"#ab63fa\",\"#ab63fa\",\"#FFA15A\",\"#FF6692\",\"#FF6692\",\"#FF6692\",\"#636efa\",\"#EF553B\",\"#19d3f3\",\"#FFA15A\",\"#19d3f3\",\"#636efa\",\"#ab63fa\",\"#FF6692\",\"#B6E880\",\"#FF6692\",\"#FF6692\",\"#B6E880\",\"#FFA15A\",\"#19d3f3\",\"#ab63fa\",\"#FF6692\",\"#FF6692\",\"#EF553B\",\"#00cc96\",\"#FF6692\",\"#00cc96\",\"#636efa\",\"#EF553B\",\"#B6E880\",\"#FFA15A\",\"#636efa\",\"#B6E880\",\"#00cc96\",\"#ab63fa\",\"#19d3f3\",\"#19d3f3\",\"#B6E880\",\"#00cc96\",\"#ab63fa\",\"#FF97FF\",\"#ab63fa\",\"#B6E880\",\"#FFA15A\",\"#EF553B\",\"#EF553B\",\"#FFA15A\",\"#B6E880\",\"#19d3f3\",\"#FFA15A\",\"#FF6692\",\"#19d3f3\",\"#ab63fa\",\"#B6E880\",\"#636efa\",\"#00cc96\",\"#EF553B\",\"#B6E880\",\"#EF553B\",\"#00cc96\",\"#ab63fa\",\"#FFA15A\",\"#ab63fa\",\"#B6E880\",\"#636efa\",\"#19d3f3\",\"#636efa\",\"#ab63fa\",\"#B6E880\",\"#00cc96\",\"#00cc96\",\"#ab63fa\",\"#FF6692\",\"#B6E880\",\"#636efa\",\"#00cc96\",\"#B6E880\",\"#FF6692\",\"#636efa\",\"#FFA15A\",\"#636efa\",\"#EF553B\",\"#19d3f3\",\"#EF553B\",\"#EF553B\",\"#00cc96\",\"#19d3f3\",\"#00cc96\",\"#19d3f3\",\"#B6E880\",\"#19d3f3\",\"#FFA15A\",\"#EF553B\",\"#EF553B\",\"#B6E880\",\"#19d3f3\",\"#B6E880\",\"#ab63fa\",\"#FFA15A\",\"#19d3f3\",\"#ab63fa\",\"#636efa\",\"#00cc96\",\"#EF553B\",\"#EF553B\",\"#636efa\",\"#EF553B\",\"#EF553B\",\"#636efa\",\"#00cc96\",\"#00cc96\",\"#ab63fa\",\"#FFA15A\",\"#00cc96\",\"#ab63fa\",\"#B6E880\",\"#B6E880\",\"#B6E880\",\"#00cc96\",\"#FF6692\",\"#19d3f3\",\"#FF6692\",\"#FF97FF\",\"#ab63fa\",\"#FFA15A\",\"#B6E880\",\"#00cc96\",\"#FFA15A\",\"#FFA15A\",\"#ab63fa\",\"#FF97FF\",\"#636efa\",\"#EF553B\",\"#FFA15A\",\"#FF97FF\",\"#FF6692\",\"#FF97FF\",\"#FF6692\",\"#B6E880\",\"#FF6692\",\"#B6E880\",\"#00cc96\",\"#FFA15A\",\"#636efa\",\"#636efa\",\"#B6E880\",\"#00cc96\",\"#ab63fa\",\"#00cc96\",\"#ab63fa\",\"#00cc96\",\"#FF6692\",\"#FFA15A\",\"#EF553B\",\"#ab63fa\",\"#B6E880\",\"#19d3f3\",\"#636efa\",\"#FF6692\",\"#636efa\",\"#FF6692\",\"#ab63fa\",\"#FF6692\",\"#FF6692\",\"#00cc96\",\"#FFA15A\",\"#FFA15A\",\"#636efa\",\"#19d3f3\",\"#EF553B\",\"#00cc96\",\"#FFA15A\",\"#FF6692\",\"#FFA15A\",\"#FF6692\",\"#ab63fa\",\"#FFA15A\",\"#FF6692\",\"#00cc96\",\"#FF6692\",\"#EF553B\",\"#00cc96\",\"#00cc96\",\"#B6E880\",\"#FF6692\",\"#ab63fa\",\"#ab63fa\",\"#B6E880\",\"#ab63fa\",\"#00cc96\",\"#636efa\",\"#FFA15A\",\"#00cc96\",\"#FFA15A\",\"#636efa\",\"#19d3f3\",\"#00cc96\",\"#00cc96\",\"#B6E880\",\"#EF553B\",\"#636efa\",\"#EF553B\",\"#EF553B\",\"#00cc96\",\"#EF553B\",\"#636efa\",\"#ab63fa\",\"#00cc96\",\"#EF553B\",\"#00cc96\",\"#FFA15A\",\"#19d3f3\",\"#FFA15A\",\"#EF553B\",\"#FF6692\",\"#B6E880\",\"#636efa\",\"#B6E880\",\"#636efa\",\"#FF6692\",\"#FF6692\",\"#636efa\",\"#ab63fa\",\"#EF553B\",\"#636efa\",\"#19d3f3\",\"#B6E880\",\"#EF553B\",\"#FF6692\",\"#636efa\",\"#19d3f3\",\"#EF553B\",\"#EF553B\",\"#FF6692\",\"#00cc96\",\"#636efa\",\"#ab63fa\",\"#636efa\",\"#EF553B\",\"#EF553B\",\"#19d3f3\",\"#B6E880\",\"#B6E880\",\"#FF6692\",\"#19d3f3\",\"#B6E880\",\"#FFA15A\",\"#EF553B\",\"#FFA15A\",\"#EF553B\",\"#EF553B\",\"#19d3f3\",\"#ab63fa\",\"#636efa\",\"#00cc96\",\"#FF6692\",\"#19d3f3\",\"#00cc96\",\"#FF6692\",\"#FF6692\",\"#B6E880\",\"#00cc96\",\"#FFA15A\",\"#636efa\",\"#B6E880\",\"#00cc96\",\"#ab63fa\",\"#636efa\",\"#ab63fa\",\"#ab63fa\",\"#EF553B\",\"#EF553B\",\"#19d3f3\",\"#FFA15A\",\"#00cc96\",\"#EF553B\",\"#636efa\",\"#00cc96\",\"#636efa\",\"#FFA15A\",\"#FF97FF\",\"#FF97FF\",\"#FF97FF\",\"#FF97FF\"]},\"name\":\"\",\"parents\":[\"C:/Folder_1\",\"C:/Folder_1/Subfolder_13\",\"C:/Folder_1/Subfolder_2\",\"C:/Folder_1\",\"C:/Folder_1/Subfolder_13\",\"C:/Folder_0/Subfolder_5\",\"C:/Folder_1/Subfolder_9\",\"C:/Folder_1/Subfolder_9\",\"C:/Folder_1/Subfolder_11\",\"C:/Folder_1/Subfolder_5\",\"C:/Folder_1\",\"C:/Folder_0\",\"C:/Folder_0/Subfolder_1\",\"C:/Folder_2/Subfolder_1\",\"C:/Folder_2/Subfolder_7\",\"C:/Folder_2\",\"C:/Folder_0\",\"C:/Folder_2\",\"C:/Folder_1/Subfolder_4\",\"C:/Folder_1/Subfolder_9\",\"C:/Folder_2/Subfolder_5\",\"C:/Folder_2/Subfolder_5\",\"C:/Folder_1\",\"C:/Folder_0/Subfolder_1\",\"C:/Folder_1/Subfolder_8\",\"C:/Folder_0/Subfolder_1\",\"C:/Folder_1/Subfolder_4\",\"C:/Folder_1/Subfolder_9\",\"C:/Folder_2\",\"C:/Folder_2\",\"C:/Folder_2/Subfolder_6\",\"C:/Folder_1/Subfolder_9\",\"C:/Folder_1/Subfolder_6\",\"C:/Folder_1\",\"C:/Folder_2/Subfolder_7\",\"C:/Folder_2/Subfolder_6\",\"C:/Folder_1/Subfolder_4\",\"C:/Folder_0/Subfolder_2\",\"C:/Folder_0\",\"C:/Folder_2/Subfolder_7\",\"C:/Folder_0/Subfolder_4\",\"C:/Folder_1\",\"C:/Folder_2/Subfolder_8\",\"C:/Folder_1/Subfolder_8\",\"C:/Folder_1/Subfolder_12\",\"C:/Folder_1\",\"C:/Folder_1/Subfolder_7\",\"C:/Folder_1\",\"C:/Folder_2/Subfolder_6\",\"C:/Folder_1/Subfolder_10\",\"C:/Folder_2/Subfolder_2\",\"C:/Folder_1/Subfolder_13\",\"C:/Folder_1/Subfolder_7\",\"C:/Folder_1/Subfolder_13\",\"C:/Folder_0/Subfolder_1\",\"C:/Folder_0/Subfolder_3\",\"C:/Folder_1/Subfolder_10\",\"C:/Folder_2/Subfolder_1\",\"C:/Folder_2/Subfolder_1\",\"C:/Folder_2/Subfolder_2\",\"C:/Folder_0/Subfolder_2\",\"C:/Folder_0/Subfolder_0\",\"C:/Folder_2/Subfolder_8\",\"C:/Folder_1/Subfolder_0\",\"C:/Folder_2/Subfolder_2\",\"C:/Folder_1/Subfolder_6\",\"C:/Folder_1/Subfolder_11\",\"C:/Folder_2/Subfolder_6\",\"C:/Folder_2/Subfolder_0\",\"C:/Folder_2/Subfolder_8\",\"C:/Folder_2/Subfolder_2\",\"C:/Folder_1/Subfolder_1\",\"C:/Folder_1/Subfolder_1\",\"C:/Folder_2/Subfolder_8\",\"C:/Folder_0/Subfolder_2\",\"C:/Folder_2/Subfolder_1\",\"C:/Folder_1/Subfolder_6\",\"C:/Folder_1/Subfolder_0\",\"C:/Folder_1/Subfolder_12\",\"C:/Folder_1/Subfolder_11\",\"C:/Folder_1/Subfolder_4\",\"C:/Folder_1/Subfolder_7\",\"C:/Folder_2/Subfolder_4\",\"C:/Folder_0/Subfolder_4\",\"C:/Folder_2\",\"C:/Folder_1\",\"C:/Folder_1\",\"C:/Folder_1/Subfolder_7\",\"C:/Folder_1/Subfolder_5\",\"C:/Folder_0/Subfolder_0\",\"C:/Folder_1/Subfolder_8\",\"C:/Folder_0/Subfolder_1\",\"C:/Folder_2/Subfolder_5\",\"C:/Folder_1/Subfolder_4\",\"C:/Folder_0/Subfolder_3\",\"C:/Folder_0/Subfolder_3\",\"C:/Folder_2/Subfolder_0\",\"C:/Folder_1/Subfolder_6\",\"C:/Folder_2/Subfolder_8\",\"C:/Folder_1/Subfolder_11\",\"C:/Folder_1/Subfolder_2\",\"C:/Folder_2/Subfolder_2\",\"C:/Folder_0/Subfolder_1\",\"C:/Folder_0\",\"C:/Folder_2\",\"C:/Folder_1\",\"C:/Folder_0\",\"C:/Folder_1/Subfolder_12\",\"C:/Folder_0\",\"C:/Folder_0\",\"C:/Folder_0/Subfolder_4\",\"C:/Folder_2\",\"C:/Folder_1/Subfolder_5\",\"C:/Folder_0/Subfolder_3\",\"C:/Folder_1\",\"C:/Folder_0\",\"C:/Folder_2/Subfolder_8\",\"C:/Folder_1/Subfolder_6\",\"C:/Folder_0/Subfolder_2\",\"C:/Folder_1\",\"C:/Folder_0/Subfolder_4\",\"C:/Folder_0/Subfolder_2\",\"C:/Folder_2\",\"C:/Folder_1/Subfolder_4\",\"C:/Folder_1/Subfolder_12\",\"C:/Folder_1/Subfolder_6\",\"C:/Folder_1\",\"C:/Folder_2/Subfolder_8\",\"C:/Folder_1\",\"C:/Folder_2\",\"C:/Folder_1\",\"C:/Folder_1/Subfolder_5\",\"C:/Folder_0\",\"C:/Folder_1\",\"C:/Folder_0/Subfolder_3\",\"C:/Folder_1/Subfolder_2\",\"C:/Folder_2/Subfolder_8\",\"C:/Folder_1/Subfolder_8\",\"C:/Folder_0/Subfolder_4\",\"C:/Folder_2\",\"C:/Folder_1\",\"C:/Folder_1/Subfolder_9\",\"C:/Folder_0/Subfolder_4\",\"C:/Folder_2/Subfolder_5\",\"C:/Folder_1\",\"C:/Folder_1\",\"C:/Folder_2\",\"C:/Folder_1/Subfolder_5\",\"C:/Folder_1\",\"C:/Folder_0\",\"C:/Folder_0\",\"C:/Folder_1/Subfolder_7\",\"C:/Folder_0\",\"C:/Folder_2/Subfolder_3\",\"C:/Folder_1\",\"C:/Folder_0/Subfolder_1\",\"C:/Folder_1/Subfolder_5\",\"C:/Folder_2\",\"C:/Folder_2/Subfolder_3\",\"C:/Folder_2/Subfolder_5\",\"C:/Folder_0/Subfolder_4\",\"C:/Folder_2\",\"C:/Folder_1/Subfolder_3\",\"C:/Folder_1/Subfolder_11\",\"C:/Folder_2/Subfolder_8\",\"C:/Folder_2/Subfolder_3\",\"C:/Folder_2/Subfolder_8\",\"C:/Folder_1/Subfolder_2\",\"C:/Folder_0/Subfolder_0\",\"C:/Folder_2\",\"C:/Folder_1/Subfolder_6\",\"C:/Folder_2/Subfolder_1\",\"C:/Folder_2/Subfolder_0\",\"C:/Folder_0/Subfolder_2\",\"C:/Folder_1/Subfolder_3\",\"C:/Folder_2/Subfolder_4\",\"C:/Folder_1/Subfolder_10\",\"C:/Folder_2/Subfolder_7\",\"C:/Folder_2/Subfolder_2\",\"C:/Folder_2/Subfolder_3\",\"C:/Folder_0/Subfolder_3\",\"C:/Folder_2/Subfolder_1\",\"C:/Folder_2/Subfolder_1\",\"C:/Folder_2/Subfolder_6\",\"C:/Folder_1/Subfolder_8\",\"C:/Folder_2/Subfolder_4\",\"C:/Folder_1/Subfolder_3\",\"C:/Folder_1/Subfolder_5\",\"C:/Folder_0/Subfolder_4\",\"C:/Folder_0/Subfolder_5\",\"C:/Folder_1/Subfolder_11\",\"C:/Folder_2/Subfolder_6\",\"C:/Folder_2/Subfolder_6\",\"C:/Folder_1/Subfolder_6\",\"C:/Folder_0/Subfolder_3\",\"C:/Folder_2/Subfolder_8\",\"C:/Folder_0/Subfolder_1\",\"C:/Folder_0/Subfolder_4\",\"C:/Folder_1/Subfolder_0\",\"C:/Folder_0/Subfolder_3\",\"C:/Folder_2/Subfolder_0\",\"C:/Folder_2/Subfolder_8\",\"C:/Folder_1/Subfolder_5\",\"C:/Folder_0/Subfolder_1\",\"C:/Folder_0/Subfolder_0\",\"C:/Folder_0/Subfolder_4\",\"C:/Folder_1/Subfolder_2\",\"C:/Folder_1/Subfolder_8\",\"C:/Folder_2/Subfolder_2\",\"C:/Folder_1/Subfolder_0\",\"C:/Folder_1/Subfolder_12\",\"C:/Folder_2/Subfolder_4\",\"C:/Folder_2/Subfolder_3\",\"C:/Folder_0/Subfolder_2\",\"C:/Folder_1/Subfolder_12\",\"C:/Folder_0/Subfolder_5\",\"C:/Folder_1/Subfolder_5\",\"C:/Folder_2/Subfolder_8\",\"C:/Folder_1/Subfolder_4\",\"C:/Folder_1/Subfolder_0\",\"C:/Folder_0/Subfolder_4\",\"C:/Folder_1/Subfolder_9\",\"C:/Folder_1/Subfolder_5\",\"C:/Folder_1/Subfolder_5\",\"C:/Folder_1/Subfolder_6\",\"C:/Folder_0/Subfolder_3\",\"C:/Folder_2/Subfolder_0\",\"C:/Folder_2/Subfolder_0\",\"C:/Folder_1/Subfolder_13\",\"C:/Folder_2/Subfolder_7\",\"C:/Folder_1/Subfolder_12\",\"C:/Folder_1/Subfolder_0\",\"C:/Folder_0/Subfolder_1\",\"C:/Folder_0/Subfolder_0\",\"C:/Folder_2/Subfolder_6\",\"C:/Folder_2/Subfolder_0\",\"C:/Folder_0/Subfolder_0\",\"C:/Folder_2/Subfolder_3\",\"C:/Folder_1/Subfolder_4\",\"C:/Folder_2/Subfolder_8\",\"C:/Folder_2/Subfolder_1\",\"C:/Folder_1/Subfolder_4\",\"C:/Folder_0/Subfolder_4\",\"C:/Folder_2/Subfolder_2\",\"C:/Folder_0/Subfolder_3\",\"C:/Folder_1/Subfolder_1\",\"C:/Folder_2/Subfolder_7\",\"C:/Folder_0\",\"C:/Folder_2\",\"C:/Folder_2\",\"C:/Folder_1\",\"C:/Folder_2\",\"C:/Folder_2\",\"C:/Folder_2\",\"C:/Folder_1\",\"C:/Folder_1\",\"C:/Folder_1\",\"C:/Folder_2/Subfolder_7\",\"C:/Folder_0/Subfolder_2\",\"C:/Folder_1/Subfolder_0\",\"C:/Folder_2\",\"C:/Folder_2\",\"C:/Folder_1\",\"C:/Folder_0\",\"C:/Folder_1\",\"C:/Folder_2\",\"C:/Folder_0/Subfolder_2\",\"C:/Folder_2\",\"C:/Folder_1/Subfolder_11\",\"C:/Folder_2\",\"C:/Folder_2/Subfolder_1\",\"C:/Folder_1\",\"C:/Folder_2\",\"C:/Folder_1\",\"C:/Folder_0\",\"C:/Folder_2\",\"C:/Folder_0\",\"C:/Folder_0\",\"C:/Folder_2/Subfolder_8\",\"C:/Folder_2\",\"C:/Folder_0\",\"C:/Folder_1\",\"C:/Folder_0\",\"C:/Folder_1\",\"C:/Folder_2\",\"C:/Folder_0\",\"C:/Folder_2\",\"C:/Folder_1\",\"C:/Folder_1\",\"C:/Folder_1\",\"C:/Folder_0/Subfolder_4\",\"C:/Folder_2\",\"C:/Folder_0\",\"C:/Folder_2/Subfolder_0\",\"C:/Folder_1\",\"C:/Folder_0/Subfolder_0\",\"C:/Folder_1/Subfolder_3\",\"C:/Folder_1/Subfolder_3\",\"C:/Folder_2\",\"C:/Folder_2/Subfolder_2\",\"C:/Folder_1\",\"C:/Folder_2\",\"C:/Folder_0\",\"C:/Folder_1\",\"C:/Folder_1\",\"C:/Folder_2/Subfolder_6\",\"C:/Folder_1\",\"C:/Folder_0\",\"C:/Folder_2\",\"C:/Folder_0/Subfolder_3\",\"C:/Folder_1/Subfolder_3\",\"C:/Folder_0/Subfolder_5\",\"C:/Folder_1\",\"C:/Folder_2\",\"C:/Folder_2/Subfolder_5\",\"C:/Folder_1/Subfolder_5\",\"C:/Folder_1/Subfolder_8\",\"C:/Folder_1/Subfolder_4\",\"C:/Folder_1/Subfolder_2\",\"C:/Folder_0/Subfolder_3\",\"C:/Folder_2/Subfolder_6\",\"C:/Folder_1/Subfolder_9\",\"C:/Folder_1/Subfolder_3\",\"C:/Folder_1/Subfolder_11\",\"C:/Folder_0\",\"C:/Folder_2/Subfolder_7\",\"C:/Folder_1/Subfolder_5\",\"C:/Folder_1/Subfolder_5\",\"C:/Folder_1/Subfolder_0\",\"C:/Folder_1/Subfolder_7\",\"C:/Folder_2/Subfolder_8\",\"C:/Folder_2/Subfolder_6\",\"C:/Folder_1\",\"C:/Folder_1/Subfolder_1\",\"C:/Folder_1/Subfolder_8\",\"C:/Folder_0/Subfolder_0\",\"C:/Folder_2/Subfolder_0\",\"C:/Folder_2/Subfolder_8\",\"C:/Folder_1/Subfolder_4\",\"C:/Folder_1\",\"C:/Folder_0\",\"C:/Folder_2/Subfolder_7\",\"C:/Folder_2\",\"C:/Folder_2\",\"C:/Folder_0/Subfolder_5\",\"C:/Folder_1\",\"C:/Folder_0\",\"C:/Folder_1\",\"C:/Folder_0/Subfolder_1\",\"C:/Folder_1\",\"C:/Folder_1\",\"C:/Folder_1\",\"C:/Folder_2/Subfolder_5\",\"C:/Folder_2/Subfolder_4\",\"C:/Folder_1/Subfolder_2\",\"C:/Folder_1\",\"C:/Folder_1\",\"C:/Folder_1\",\"C:/Folder_0/Subfolder_2\",\"C:/Folder_2\",\"C:/Folder_1\",\"C:/Folder_2/Subfolder_3\",\"C:/Folder_1\",\"C:/Folder_1/Subfolder_3\",\"C:/Folder_0/Subfolder_3\",\"C:/Folder_0/Subfolder_4\",\"C:/Folder_2\",\"C:/Folder_1\",\"C:/Folder_2/Subfolder_5\",\"C:/Folder_2\",\"C:/Folder_2\",\"C:/Folder_1/Subfolder_6\",\"C:/Folder_1/Subfolder_7\",\"C:/Folder_0/Subfolder_5\",\"C:/Folder_1\",\"C:/Folder_1/Subfolder_4\",\"C:/Folder_2\",\"C:/Folder_2\",\"C:/Folder_2/Subfolder_6\",\"C:/Folder_0/Subfolder_4\",\"C:/Folder_1/Subfolder_1\",\"C:/Folder_2/Subfolder_6\",\"C:/Folder_2\",\"C:/Folder_2\",\"C:/Folder_2/Subfolder_1\",\"C:/Folder_1/Subfolder_5\",\"C:/Folder_0/Subfolder_3\",\"C:/Folder_1/Subfolder_7\",\"C:/Folder_1\",\"C:/Folder_2\",\"C:/Folder_2\",\"C:/Folder_1\",\"C:/Folder_2/Subfolder_2\",\"C:/Folder_2\",\"C:/Folder_0\",\"C:/Folder_1/Subfolder_1\",\"C:/Folder_0/Subfolder_3\",\"C:/Folder_1/Subfolder_10\",\"C:/Folder_2/Subfolder_6\",\"C:/Folder_1/Subfolder_7\",\"C:/Folder_1/Subfolder_12\",\"C:/Folder_0/Subfolder_5\",\"C:/Folder_0/Subfolder_2\",\"C:/Folder_1\",\"C:/Folder_1\",\"C:/Folder_1/Subfolder_6\",\"C:/Folder_2/Subfolder_0\",\"C:/Folder_0\",\"C:/Folder_1\",\"C:/Folder_2/Subfolder_4\",\"C:/Folder_1/Subfolder_4\",\"C:/Folder_2/Subfolder_5\",\"C:/Folder_2/Subfolder_5\",\"C:/Folder_0/Subfolder_5\",\"C:/Folder_0/Subfolder_2\",\"C:/Folder_2/Subfolder_7\",\"C:/Folder_2/Subfolder_1\",\"C:/Folder_0/Subfolder_5\",\"C:/Folder_1/Subfolder_6\",\"C:/Folder_2/Subfolder_7\",\"C:/Folder_1/Subfolder_9\",\"C:/Folder_1/Subfolder_7\",\"C:/Folder_1/Subfolder_4\",\"C:/Folder_0/Subfolder_4\",\"C:/Folder_1/Subfolder_1\",\"C:/Folder_2/Subfolder_4\",\"C:/Folder_0/Subfolder_4\",\"C:/Folder_1\",\"C:/Folder_1\",\"C:/Folder_2/Subfolder_0\",\"C:/Folder_2/Subfolder_6\",\"C:/Folder_2/Subfolder_6\",\"C:/Folder_2\",\"C:/Folder_1/Subfolder_1\",\"C:/Folder_1/Subfolder_9\",\"C:/Folder_0\",\"C:/Folder_1/Subfolder_5\",\"C:/Folder_1\",\"C:/Folder_1\",\"C:/Folder_1/Subfolder_2\",\"C:/Folder_1/Subfolder_0\",\"C:/Folder_2/Subfolder_3\",\"C:/Folder_1\",\"C:/Folder_2/Subfolder_3\",\"C:/Folder_1/Subfolder_4\",\"C:/Folder_2\",\"C:/Folder_1/Subfolder_8\",\"C:/Folder_0/Subfolder_1\",\"C:/Folder_1\",\"C:/Folder_1\",\"C:/Folder_1/Subfolder_12\",\"C:/Folder_0/Subfolder_1\",\"C:/Folder_0/Subfolder_1\",\"C:/Folder_0/Subfolder_3\",\"C:/Folder_1/Subfolder_8\",\"C:/Folder_1\",\"C:/Folder_1\",\"C:/Folder_1/Subfolder_3\",\"C:/Folder_1/Subfolder_2\",\"C:/Folder_1\",\"C:/Folder_0/Subfolder_0\",\"C:/Folder_1\",\"C:/Folder_1/Subfolder_7\",\"C:/Folder_1\",\"C:/Folder_1\",\"C:/Folder_1\",\"C:/Folder_0/Subfolder_0\",\"C:/Folder_2/Subfolder_0\",\"C:/Folder_0/Subfolder_3\",\"C:/Folder_2/Subfolder_1\",\"C:/Folder_2/Subfolder_6\",\"C:/Folder_2/Subfolder_4\",\"C:/Folder_0/Subfolder_0\",\"C:/Folder_1/Subfolder_13\",\"C:/Folder_2/Subfolder_6\",\"C:/Folder_1/Subfolder_8\",\"C:/Folder_2/Subfolder_2\",\"C:/Folder_0/Subfolder_2\",\"C:/Folder_1/Subfolder_7\",\"C:/Folder_1/Subfolder_2\",\"C:/Folder_2/Subfolder_1\",\"C:/Folder_2/Subfolder_3\",\"C:/Folder_1/Subfolder_7\",\"C:/Folder_1/Subfolder_4\",\"C:/Folder_1/Subfolder_5\",\"C:/Folder_1/Subfolder_5\",\"C:/Folder_2/Subfolder_0\",\"C:/Folder_0/Subfolder_0\",\"C:/Folder_0/Subfolder_3\",\"C:/Folder_2/Subfolder_0\",\"C:/Folder_0/Subfolder_3\",\"C:/Folder_2/Subfolder_1\",\"C:/Folder_1/Subfolder_8\",\"C:/Folder_0/Subfolder_4\",\"C:/Folder_2/Subfolder_1\",\"C:/Folder_1/Subfolder_2\",\"C:/Folder_0/Subfolder_0\",\"C:/Folder_0/Subfolder_0\",\"C:/Folder_1/Subfolder_4\",\"C:/Folder_2/Subfolder_3\",\"C:/Folder_0/Subfolder_4\",\"C:/Folder_1/Subfolder_13\",\"C:/Folder_2/Subfolder_8\",\"C:/Folder_0/Subfolder_2\",\"C:/Folder_2/Subfolder_4\",\"C:/Folder_1/Subfolder_7\",\"C:/Folder_1/Subfolder_12\",\"C:/Folder_2/Subfolder_2\",\"C:/Folder_1/Subfolder_5\",\"C:/Folder_2/Subfolder_8\",\"C:/Folder_2/Subfolder_6\",\"C:/Folder_1/Subfolder_8\",\"C:/Folder_2/Subfolder_1\",\"C:/Folder_1/Subfolder_5\",\"C:/Folder_1/Subfolder_1\",\"C:/Folder_2/Subfolder_6\",\"C:/Folder_1/Subfolder_6\",\"C:/Folder_1/Subfolder_13\",\"C:/Folder_1/Subfolder_4\",\"C:/Folder_2/Subfolder_1\",\"C:/Folder_1/Subfolder_5\",\"C:/Folder_2/Subfolder_7\",\"C:/Folder_0/Subfolder_5\",\"C:/Folder_2/Subfolder_3\",\"C:/Folder_0/Subfolder_3\",\"C:/Folder_2/Subfolder_4\",\"C:/Folder_2/Subfolder_7\",\"C:/Folder_2/Subfolder_3\",\"C:/Folder_2/Subfolder_5\",\"C:/Folder_2/Subfolder_5\",\"C:/Folder_0/Subfolder_0\",\"C:/Folder_1/Subfolder_11\",\"C:/Folder_2/Subfolder_0\",\"C:/Folder_0\",\"C:/Folder_2\",\"C:/Folder_1/Subfolder_2\",\"C:/Folder_1/Subfolder_13\",\"C:/Folder_1\",\"C:/Folder_1/Subfolder_12\",\"C:/Folder_1\",\"C:/Folder_2/Subfolder_7\",\"C:/Folder_0/Subfolder_3\",\"C:/Folder_1/Subfolder_4\",\"C:/Folder_1\",\"C:/Folder_1/Subfolder_0\",\"C:/Folder_0/Subfolder_3\",\"C:/Folder_2\",\"C:/Folder_1\",\"C:/Folder_1\",\"C:/Folder_0/Subfolder_5\",\"C:/Folder_2/Subfolder_2\",\"C:/Folder_2\",\"C:/Folder_1\",\"C:/Folder_1/Subfolder_8\",\"C:/Folder_2/Subfolder_0\",\"C:/Folder_1\",\"C:/Folder_0/Subfolder_5\",\"C:/Folder_1\",\"C:/Folder_2/Subfolder_3\",\"C:/Folder_0/Subfolder_4\",\"C:/Folder_2/Subfolder_2\",\"C:/Folder_1/Subfolder_13\",\"C:/Folder_2/Subfolder_8\",\"C:/Folder_2/Subfolder_3\",\"C:/Folder_1/Subfolder_4\",\"C:/Folder_1/Subfolder_11\",\"C:/Folder_1/Subfolder_11\",\"C:/Folder_1/Subfolder_10\",\"C:/Folder_1/Subfolder_8\",\"C:/Folder_0/Subfolder_3\",\"C:/Folder_0/Subfolder_2\",\"C:/Folder_1\",\"C:/Folder_1/Subfolder_4\",\"C:/Folder_0/Subfolder_4\",\"C:/Folder_2/Subfolder_2\",\"C:/Folder_1\",\"C:/Folder_2/Subfolder_2\",\"C:/Folder_2\",\"C:/Folder_1/Subfolder_1\",\"C:/Folder_1\",\"C:/Folder_1\",\"C:/Folder_1/Subfolder_11\",\"C:/Folder_2\",\"C:/Folder_0/Subfolder_3\",\"C:/Folder_0/Subfolder_2\",\"C:/Folder_1\",\"C:/Folder_1/Subfolder_0\",\"C:/Folder_1/Subfolder_11\",\"C:/Folder_2/Subfolder_7\",\"C:/Folder_0\",\"C:/Folder_1/Subfolder_9\",\"C:/Folder_1/Subfolder_3\",\"C:/Folder_2\",\"C:/Folder_1/Subfolder_8\",\"C:/Folder_0\",\"C:/Folder_1\",\"C:/Folder_1/Subfolder_5\",\"C:/Folder_1/Subfolder_8\",\"C:/Folder_2/Subfolder_2\",\"C:/Folder_2/Subfolder_8\",\"C:/Folder_1/Subfolder_10\",\"C:/Folder_2\",\"C:/Folder_1/Subfolder_9\",\"C:/Folder_1\",\"C:/Folder_0/Subfolder_1\",\"C:/Folder_2/Subfolder_3\",\"C:/Folder_2/Subfolder_2\",\"C:/Folder_1\",\"C:/Folder_1/Subfolder_3\",\"C:/Folder_1/Subfolder_11\",\"C:/Folder_1/Subfolder_8\",\"C:/Folder_1/Subfolder_0\",\"C:/Folder_1/Subfolder_4\",\"C:/Folder_2/Subfolder_4\",\"C:/Folder_1/Subfolder_1\",\"C:/Folder_1/Subfolder_3\",\"C:/Folder_1/Subfolder_12\",\"C:/Folder_0\",\"C:/Folder_1/Subfolder_11\",\"C:/Folder_1/Subfolder_6\",\"C:/Folder_1\",\"C:/Folder_1/Subfolder_10\",\"C:/Folder_2\",\"C:/Folder_1\",\"C:/Folder_1/Subfolder_10\",\"C:/Folder_2/Subfolder_5\",\"C:/Folder_2/Subfolder_4\",\"C:/Folder_1\",\"C:/Folder_1/Subfolder_13\",\"C:/Folder_0/Subfolder_1\",\"C:/Folder_1/Subfolder_7\",\"C:/Folder_0/Subfolder_0\",\"C:/Folder_1/Subfolder_8\",\"C:/Folder_1\",\"C:/Folder_0/Subfolder_4\",\"C:/Folder_2/Subfolder_1\",\"C:/Folder_2/Subfolder_8\",\"C:/Folder_0/Subfolder_0\",\"C:/Folder_1\",\"C:/Folder_2/Subfolder_5\",\"C:/Folder_0/Subfolder_0\",\"C:/Folder_1/Subfolder_12\",\"C:/Folder_1\",\"C:/Folder_1/Subfolder_6\",\"C:/Folder_2/Subfolder_2\",\"C:/Folder_1\",\"C:/Folder_2/Subfolder_8\",\"C:/Folder_2\",\"C:/Folder_2/Subfolder_4\",\"C:/Folder_0/Subfolder_4\",\"C:/Folder_1/Subfolder_7\",\"C:/Folder_1\",\"C:/Folder_0\",\"C:/Folder_2/Subfolder_2\",\"C:/Folder_0\",\"C:/Folder_1/Subfolder_4\",\"C:/Folder_0/Subfolder_1\",\"C:/Folder_1\",\"C:/Folder_1/Subfolder_4\",\"C:/Folder_2/Subfolder_1\",\"C:/Folder_1/Subfolder_12\",\"C:/Folder_1\",\"C:/Folder_1/Subfolder_5\",\"C:/Folder_1/Subfolder_11\",\"C:/Folder_2/Subfolder_2\",\"C:/Folder_1\",\"C:/Folder_2/Subfolder_0\",\"C:/Folder_2/Subfolder_4\",\"C:/Folder_1/Subfolder_7\",\"C:/Folder_1\",\"C:/Folder_1/Subfolder_8\",\"C:/Folder_2/Subfolder_0\",\"C:/Folder_1\",\"C:/Folder_1/Subfolder_10\",\"C:/Folder_0\",\"C:/Folder_0/Subfolder_3\",\"C:/Folder_2/Subfolder_7\",\"C:/Folder_2/Subfolder_4\",\"C:/Folder_0/Subfolder_5\",\"C:/Folder_1/Subfolder_8\",\"C:/Folder_1\",\"C:/Folder_1\",\"C:/Folder_0\",\"C:/Folder_1/Subfolder_11\",\"C:/Folder_2/Subfolder_7\",\"C:/Folder_2/Subfolder_6\",\"C:/Folder_1/Subfolder_8\",\"C:/Folder_1/Subfolder_6\",\"C:/Folder_1/Subfolder_12\",\"C:/Folder_1/Subfolder_0\",\"C:/Folder_1\",\"C:/Folder_1/Subfolder_12\",\"C:/Folder_0\",\"C:/Folder_2\",\"C:/Folder_0/Subfolder_4\",\"C:/Folder_1\",\"C:/Folder_2/Subfolder_5\",\"C:/Folder_0\",\"C:/Folder_0/Subfolder_0\",\"C:/Folder_1\",\"C:/Folder_2/Subfolder_0\",\"C:/Folder_1\",\"C:/Folder_1/Subfolder_1\",\"C:/Folder_2/Subfolder_7\",\"C:/Folder_2/Subfolder_7\",\"C:/Folder_1/Subfolder_12\",\"C:/Folder_2/Subfolder_3\",\"C:/Folder_2\",\"C:/Folder_2\",\"C:/Folder_1/Subfolder_9\",\"C:/Folder_0\",\"C:/Folder_1\",\"C:/Folder_1/Subfolder_11\",\"C:/Folder_1\",\"C:/Folder_0/Subfolder_2\",\"C:/Folder_1/Subfolder_8\",\"C:/Folder_2\",\"C:/Folder_2\",\"C:/Folder_0/Subfolder_2\",\"C:/Folder_2/Subfolder_1\",\"C:/Folder_2/Subfolder_2\",\"C:/Folder_0/Subfolder_4\",\"C:/Folder_1/Subfolder_2\",\"C:/Folder_2/Subfolder_4\",\"C:/Folder_1/Subfolder_8\",\"C:/Folder_0\",\"C:/Folder_2/Subfolder_0\",\"C:/Folder_1/Subfolder_5\",\"C:/Folder_2\",\"C:/Folder_1/Subfolder_11\",\"C:/Folder_0\",\"C:/Folder_1/Subfolder_9\",\"C:/Folder_0/Subfolder_0\",\"C:/Folder_1/Subfolder_12\",\"C:/Folder_0/Subfolder_3\",\"C:/Folder_1/Subfolder_5\",\"C:/Folder_2\",\"C:/Folder_1/Subfolder_6\",\"C:/Folder_2/Subfolder_2\",\"C:/Folder_0/Subfolder_3\",\"C:/Folder_1/Subfolder_5\",\"C:/Folder_0\",\"C:/Folder_2/Subfolder_8\",\"C:/Folder_1\",\"C:/Folder_0\",\"C:/Folder_0/Subfolder_5\",\"C:/Folder_1/Subfolder_4\",\"C:/Folder_2\",\"C:/Folder_2/Subfolder_4\",\"C:/Folder_0/Subfolder_1\",\"C:/Folder_1\",\"C:/Folder_2/Subfolder_1\",\"C:/Folder_2/Subfolder_0\",\"C:/Folder_1\",\"C:/Folder_1\",\"C:/Folder_2/Subfolder_8\",\"C:/Folder_2/Subfolder_7\",\"C:/Folder_2/Subfolder_0\",\"C:/Folder_1/Subfolder_4\",\"C:/Folder_1/Subfolder_7\",\"C:/Folder_2\",\"C:/Folder_2/Subfolder_1\",\"C:/Folder_2/Subfolder_6\",\"C:/Folder_2/Subfolder_1\",\"C:/Folder_2/Subfolder_7\",\"C:/Folder_2/Subfolder_3\",\"C:/Folder_2/Subfolder_0\",\"C:/Folder_2/Subfolder_2\",\"C:/Folder_0/Subfolder_1\",\"C:/Folder_2/Subfolder_2\",\"C:/Folder_1\",\"C:/Folder_0/Subfolder_3\",\"C:/Folder_2/Subfolder_2\",\"C:/Folder_1/Subfolder_0\",\"C:/Folder_0/Subfolder_2\",\"C:/Folder_2/Subfolder_7\",\"C:/Folder_2/Subfolder_4\",\"C:/Folder_1\",\"C:/Folder_1/Subfolder_5\",\"C:/Folder_2/Subfolder_6\",\"C:/Folder_1/Subfolder_0\",\"C:/Folder_1/Subfolder_0\",\"C:/Folder_2/Subfolder_3\",\"C:/Folder_2/Subfolder_4\",\"C:/Folder_0/Subfolder_0\",\"C:/Folder_1\",\"C:/Folder_1/Subfolder_3\",\"C:/Folder_2/Subfolder_0\",\"C:/Folder_1\",\"C:/Folder_1/Subfolder_10\",\"C:/Folder_1/Subfolder_10\",\"C:/Folder_2/Subfolder_3\",\"C:/Folder_2\",\"C:/Folder_1/Subfolder_0\",\"C:/Folder_2/Subfolder_4\",\"C:/Folder_1\",\"C:/Folder_2/Subfolder_2\",\"C:/Folder_2/Subfolder_5\",\"C:/Folder_2\",\"C:/Folder_0/Subfolder_3\",\"C:/Folder_2/Subfolder_0\",\"C:/Folder_0/Subfolder_3\",\"C:/Folder_2/Subfolder_6\",\"C:/Folder_2/Subfolder_6\",\"C:/Folder_1/Subfolder_12\",\"C:/Folder_0/Subfolder_5\",\"C:/Folder_1\",\"C:/Folder_1/Subfolder_4\",\"C:/Folder_2/Subfolder_3\",\"C:/Folder_1\",\"C:/Folder_1\",\"C:/Folder_0/Subfolder_0\",\"C:/Folder_1/Subfolder_10\",\"C:/Folder_1\",\"C:/Folder_0\",\"C:/Folder_2/Subfolder_8\",\"C:/Folder_1\",\"C:/Folder_1\",\"C:/Folder_0/Subfolder_0\",\"C:/Folder_1\",\"C:/Folder_1/Subfolder_3\",\"C:/Folder_1/Subfolder_5\",\"C:/Folder_2/Subfolder_0\",\"C:/Folder_1/Subfolder_3\",\"C:/Folder_1\",\"C:/Folder_1/Subfolder_5\",\"C:/Folder_1\",\"C:/Folder_0/Subfolder_1\",\"C:/Folder_0\",\"C:/Folder_2/Subfolder_4\",\"C:/Folder_1\",\"C:/Folder_0/Subfolder_1\",\"C:/Folder_1/Subfolder_13\",\"C:/Folder_0/Subfolder_3\",\"C:/Folder_1\",\"C:/Folder_1\",\"C:/Folder_1/Subfolder_12\",\"C:/Folder_2\",\"C:/Folder_0/Subfolder_4\",\"C:/Folder_1/Subfolder_8\",\"C:/Folder_2/Subfolder_2\",\"C:/Folder_2/Subfolder_2\",\"C:/Folder_1/Subfolder_8\",\"C:/Folder_2/Subfolder_4\",\"C:/Folder_1\",\"C:/Folder_1/Subfolder_12\",\"C:/Folder_1\",\"C:/Folder_2/Subfolder_0\",\"C:/Folder_0\",\"C:/Folder_1/Subfolder_10\",\"C:/Folder_2/Subfolder_2\",\"C:/Folder_1\",\"C:/Folder_1/Subfolder_12\",\"C:/Folder_1\",\"C:/Folder_0/Subfolder_3\",\"C:/Folder_2/Subfolder_5\",\"C:/Folder_0\",\"C:/Folder_2/Subfolder_5\",\"C:/Folder_1\",\"C:/Folder_1/Subfolder_11\",\"C:/Folder_1\",\"C:/Folder_1/Subfolder_2\",\"C:/Folder_1/Subfolder_1\",\"C:/Folder_0/Subfolder_5\",\"C:/Folder_1\",\"C:/Folder_0\",\"C:/Folder_2/Subfolder_7\",\"C:/Folder_2/Subfolder_1\",\"C:/Folder_0\",\"C:/Folder_0/Subfolder_2\",\"C:/Folder_2/Subfolder_7\",\"C:/Folder_1/Subfolder_13\",\"C:/Folder_2/Subfolder_5\",\"C:/Folder_0/Subfolder_2\",\"C:/Folder_1/Subfolder_4\",\"C:/Folder_1/Subfolder_12\",\"C:/Folder_2/Subfolder_3\",\"C:/Folder_1/Subfolder_5\",\"C:/Folder_1/Subfolder_4\",\"C:/Folder_2/Subfolder_3\",\"C:/Folder_1/Subfolder_9\",\"C:/Folder_1\",\"C:/Folder_2/Subfolder_1\",\"C:/Folder_2/Subfolder_1\",\"C:/Folder_1\",\"C:/Folder_2\",\"C:/Folder_0/Subfolder_5\",\"C:/Folder_0\",\"C:/Folder_0\",\"C:/Folder_1/Subfolder_1\",\"C:/Folder_1\",\"C:/Folder_1\",\"C:/Folder_1\",\"C:/Folder_1/Subfolder_13\",\"C:/Folder_1/Subfolder_5\",\"C:/Folder_0/Subfolder_0\",\"C:/Folder_0/Subfolder_5\",\"C:/Folder_2/Subfolder_8\",\"C:/Folder_1/Subfolder_6\",\"C:/Folder_2\",\"C:/Folder_1\",\"C:/Folder_2/Subfolder_4\",\"C:/Folder_2/Subfolder_0\",\"C:/Folder_2\",\"C:/Folder_2\",\"C:/Folder_1\",\"C:/Folder_1\",\"C:/Folder_0\",\"C:/Folder_2\",\"C:/Folder_1\",\"C:/Folder_0\",\"C:/Folder_1\",\"C:/Folder_1\",\"C:/Folder_1\",\"C:/Folder_1\",\"C:/Folder_1/Subfolder_10\",\"C:/Folder_0\",\"C:/Folder_2/Subfolder_4\",\"C:/Folder_0\",\"C:/Folder_2\",\"C:/Folder_2\",\"C:/Folder_0/Subfolder_3\",\"C:/Folder_1/Subfolder_8\",\"C:/Folder_1\",\"C:/Folder_2\",\"C:/Folder_1\",\"C:/Folder_0\",\"C:/Folder_0\",\"C:/Folder_2\",\"C:/Folder_1\",\"C:/Folder_1\",\"C:/Folder_0/Subfolder_5\",\"C:/Folder_2\",\"C:/Folder_1\",\"C:/Folder_2\",\"C:/Folder_2\",\"C:/Folder_1/Subfolder_4\",\"C:/Folder_1/Subfolder_0\",\"C:/Folder_1\",\"C:/Folder_2\",\"C:/Folder_2/Subfolder_4\",\"C:/Folder_2/Subfolder_1\",\"C:/Folder_1\",\"C:/Folder_0\",\"C:/Folder_0\",\"C:/Folder_1\",\"C:/Folder_0/Subfolder_5\",\"C:/Folder_2/Subfolder_6\",\"C:/Folder_0\",\"C:/Folder_1/Subfolder_4\",\"C:/Folder_2\",\"C:/Folder_0\",\"C:/Folder_2\",\"C:/Folder_1/Subfolder_5\",\"C:/Folder_2\",\"C:/Folder_0\",\"C:/Folder_0\",\"C:/Folder_0\",\"C:/Folder_0\",\"C:/Folder_2\",\"C:/Folder_2\",\"C:/Folder_2\",\"C:/Folder_2\",\"C:/Folder_2\",\"C:/Folder_0\",\"C:/Folder_1/Subfolder_5\",\"C:/Folder_2/Subfolder_8\",\"C:/Folder_2/Subfolder_7\",\"C:/Folder_2/Subfolder_6\",\"C:/Folder_0/Subfolder_3\",\"C:/Folder_0/Subfolder_2\",\"C:/Folder_1/Subfolder_11\",\"C:/Folder_1/Subfolder_9\",\"C:/Folder_2/Subfolder_1\",\"C:/Folder_2/Subfolder_5\",\"C:/Folder_1/Subfolder_9\",\"C:/Folder_2/Subfolder_1\",\"C:/Folder_1/Subfolder_6\",\"C:/Folder_2/Subfolder_1\",\"C:/Folder_0/Subfolder_5\",\"C:/Folder_2/Subfolder_1\",\"C:/Folder_2/Subfolder_3\",\"C:/Folder_1/Subfolder_7\",\"C:/Folder_0/Subfolder_2\",\"C:/Folder_0/Subfolder_0\",\"C:/Folder_1/Subfolder_4\",\"C:/Folder_2/Subfolder_4\",\"C:/Folder_1/Subfolder_7\",\"C:/Folder_0/Subfolder_3\",\"C:/Folder_0/Subfolder_0\",\"C:/Folder_0/Subfolder_5\",\"C:/Folder_2/Subfolder_6\",\"C:/Folder_1/Subfolder_5\",\"C:/Folder_1/Subfolder_6\",\"C:/Folder_0/Subfolder_0\",\"C:/Folder_2/Subfolder_7\",\"C:/Folder_0/Subfolder_2\",\"C:/Folder_0/Subfolder_2\",\"C:/Folder_1/Subfolder_5\",\"C:/Folder_1/Subfolder_2\",\"C:/Folder_0/Subfolder_4\",\"C:/Folder_2/Subfolder_1\",\"C:/Folder_1/Subfolder_5\",\"C:/Folder_2/Subfolder_3\",\"C:/Folder_2/Subfolder_0\",\"C:/Folder_0/Subfolder_1\",\"C:/Folder_2/Subfolder_4\",\"C:/Folder_2/Subfolder_5\",\"C:/Folder_2/Subfolder_7\",\"C:/Folder_1/Subfolder_12\",\"C:/Folder_0/Subfolder_2\",\"C:/Folder_2/Subfolder_8\",\"C:/Folder_0/Subfolder_3\",\"C:/Folder_0/Subfolder_3\",\"C:/Folder_1/Subfolder_1\",\"C:/Folder_1/Subfolder_8\",\"C:/Folder_0/Subfolder_1\",\"C:/Folder_0/Subfolder_1\",\"C:/Folder_2/Subfolder_8\",\"C:/Folder_1/Subfolder_12\",\"C:/Folder_0/Subfolder_1\",\"C:/Folder_0/Subfolder_3\",\"C:/Folder_1/Subfolder_9\",\"C:/Folder_2/Subfolder_6\",\"C:/Folder_1/Subfolder_12\",\"C:/Folder_1/Subfolder_13\",\"C:/Folder_0/Subfolder_1\",\"C:/Folder_0/Subfolder_5\",\"C:/Folder_0/Subfolder_5\",\"C:/Folder_1/Subfolder_5\",\"C:/Folder_2/Subfolder_3\",\"C:/Folder_2/Subfolder_8\",\"C:/Folder_0/Subfolder_3\",\"C:/Folder_2/Subfolder_7\",\"C:/Folder_1/Subfolder_10\",\"C:/Folder_1/Subfolder_9\",\"C:/Folder_1/Subfolder_2\",\"C:/Folder_0/Subfolder_0\",\"C:/Folder_1/Subfolder_2\",\"C:/Folder_1/Subfolder_10\",\"C:/Folder_0/Subfolder_1\",\"C:/Folder_1/Subfolder_8\",\"C:/Folder_0/Subfolder_0\",\"C:/Folder_2/Subfolder_3\",\"C:/Folder_1/Subfolder_3\",\"C:/Folder_2/Subfolder_0\",\"C:/Folder_2/Subfolder_3\",\"C:/Folder_2/Subfolder_0\",\"C:/Folder_0/Subfolder_3\",\"C:/Folder_0\",\"C:/Folder_2\",\"C:/Folder_1/Subfolder_13\",\"C:/Folder_2/Subfolder_4\",\"C:/Folder_0/Subfolder_4\",\"C:/Folder_2/Subfolder_2\",\"C:/Folder_0/Subfolder_4\",\"C:/Folder_0\",\"C:/Folder_1\",\"C:/Folder_2/Subfolder_0\",\"C:/Folder_2\",\"C:/Folder_1\",\"C:/Folder_2/Subfolder_6\",\"C:/Folder_0\",\"C:/Folder_1\",\"C:/Folder_1/Subfolder_3\",\"C:/Folder_0/Subfolder_5\",\"C:/Folder_1/Subfolder_11\",\"C:/Folder_2/Subfolder_6\",\"C:/Folder_2/Subfolder_1\",\"C:/Folder_1/Subfolder_5\",\"C:/Folder_1/Subfolder_1\",\"C:/Folder_2\",\"C:/Folder_2/Subfolder_5\",\"C:/Folder_1/Subfolder_13\",\"C:/Folder_0\",\"C:/Folder_1/Subfolder_7\",\"C:/Folder_1/Subfolder_4\",\"C:/Folder_1/Subfolder_9\",\"C:/Folder_1/Subfolder_12\",\"C:/Folder_2\",\"C:/Folder_0/Subfolder_5\",\"C:/Folder_0\",\"C:/Folder_0/Subfolder_4\",\"C:/Folder_1\",\"C:/Folder_1/Subfolder_5\",\"C:/Folder_1\",\"C:/Folder_1/Subfolder_2\",\"C:/Folder_1/Subfolder_12\",\"C:/Folder_1/Subfolder_4\",\"C:/Folder_1/Subfolder_11\",\"C:/Folder_0\",\"C:/Folder_1/Subfolder_6\",\"C:/Folder_1\",\"C:/Folder_2\",\"C:/Folder_2/Subfolder_6\",\"C:/Folder_1/Subfolder_9\",\"C:/Folder_0/Subfolder_2\",\"C:/Folder_1/Subfolder_9\",\"C:/Folder_2/Subfolder_8\",\"C:/Folder_0\",\"C:/Folder_0/Subfolder_5\",\"C:/Folder_1/Subfolder_0\",\"C:/Folder_1/Subfolder_9\",\"C:/Folder_2/Subfolder_8\",\"C:/Folder_0/Subfolder_1\",\"C:/Folder_1\",\"C:/Folder_1/Subfolder_8\",\"C:/Folder_0/Subfolder_5\",\"C:/Folder_2/Subfolder_6\",\"C:/Folder_2\",\"C:/Folder_2/Subfolder_2\",\"C:/Folder_1/Subfolder_0\",\"C:/Folder_1/Subfolder_11\",\"C:/Folder_2/Subfolder_3\",\"C:/Folder_2/Subfolder_6\",\"C:/Folder_0/Subfolder_1\",\"C:/Folder_0\",\"C:/Folder_0/Subfolder_3\",\"C:/Folder_1/Subfolder_2\",\"C:/Folder_2\",\"C:/Folder_1/Subfolder_6\",\"C:/Folder_0/Subfolder_1\",\"C:/Folder_2\",\"C:/Folder_0/Subfolder_2\",\"C:/Folder_1\",\"C:/Folder_1/Subfolder_13\",\"C:/Folder_0/Subfolder_0\",\"C:/Folder_1/Subfolder_12\",\"C:/Folder_1/Subfolder_0\",\"C:/Folder_1\",\"C:/Folder_1\",\"C:/Folder_0/Subfolder_1\",\"C:/Folder_2/Subfolder_6\",\"C:/Folder_1/Subfolder_2\",\"C:/Folder_1\",\"C:/Folder_2\",\"C:/Folder_1\",\"C:/Folder_2/Subfolder_0\",\"C:/Folder_1/Subfolder_2\",\"C:/Folder_2/Subfolder_6\",\"C:/Folder_2\",\"C:/Folder_2/Subfolder_6\",\"C:/Folder_2/Subfolder_7\",\"C:/Folder_1/Subfolder_9\",\"C:/Folder_1/Subfolder_6\",\"C:/Folder_2\",\"C:/Folder_1/Subfolder_9\",\"C:/Folder_2\",\"C:/Folder_1/Subfolder_10\",\"C:/Folder_0/Subfolder_3\",\"C:/Folder_0/Subfolder_0\",\"C:/Folder_2/Subfolder_3\",\"C:/Folder_2/Subfolder_6\",\"C:/Folder_1\",\"C:/Folder_2/Subfolder_1\",\"C:/Folder_1/Subfolder_13\",\"C:/Folder_2\",\"C:/Folder_2/Subfolder_0\",\"C:/Folder_2\",\"C:/Folder_1\",\"C:/Folder_0/Subfolder_5\",\"C:/Folder_1\",\"C:/Folder_1\",\"C:/Folder_2/Subfolder_8\",\"C:/Folder_0/Subfolder_2\",\"C:/Folder_2\",\"C:/Folder_1\",\"C:/Folder_2/Subfolder_7\",\"C:/Folder_0/Subfolder_5\",\"C:/Folder_0/Subfolder_4\",\"C:/Folder_2/Subfolder_6\",\"C:/Folder_1\",\"C:/Folder_1/Subfolder_0\",\"C:/Folder_0\",\"C:/Folder_1/Subfolder_10\",\"C:/Folder_1\",\"C:/Folder_2/Subfolder_7\",\"C:/Folder_0/Subfolder_0\",\"C:/Folder_0/Subfolder_3\",\"C:/Folder_1/Subfolder_8\",\"C:/Folder_1\",\"C:/Folder_0\",\"C:/Folder_0/Subfolder_0\",\"C:/Folder_2/Subfolder_4\",\"C:/Folder_0/Subfolder_3\",\"C:/Folder_2/Subfolder_7\",\"C:/Folder_1/Subfolder_11\",\"C:/Folder_1\",\"C:/Folder_1\",\"C:/Folder_2/Subfolder_7\",\"C:/Folder_1\",\"C:/Folder_1\",\"C:/Folder_1/Subfolder_4\",\"C:/Folder_1/Subfolder_10\",\"C:/Folder_1/Subfolder_4\",\"C:/Folder_2/Subfolder_6\",\"C:/Folder_1/Subfolder_9\",\"C:/Folder_2/Subfolder_3\",\"C:/Folder_1/Subfolder_5\",\"C:/Folder_1/Subfolder_2\",\"C:/Folder_2\",\"C:/Folder_2\",\"C:/Folder_2/Subfolder_8\",\"C:/Folder_2/Subfolder_8\",\"C:/Folder_0/Subfolder_3\",\"C:/Folder_1/Subfolder_3\",\"C:/Folder_1\",\"C:/Folder_2/Subfolder_1\",\"C:/Folder_1/Subfolder_3\",\"C:/Folder_2/Subfolder_8\",\"C:/Folder_1/Subfolder_0\",\"C:/Folder_0/Subfolder_3\",\"C:/Folder_2/Subfolder_2\",\"C:/Folder_2/Subfolder_1\",\"C:/Folder_1\",\"C:/Folder_0/Subfolder_4\",\"C:/Folder_1/Subfolder_1\",\"C:/Folder_0/Subfolder_0\",\"C:/Folder_2\",\"C:/Folder_2/Subfolder_1\",\"C:/Folder_1/Subfolder_7\",\"C:/Folder_0/Subfolder_1\",\"C:/Folder_2/Subfolder_5\",\"C:/Folder_2/Subfolder_2\",\"C:/Folder_2\",\"C:/Folder_1\",\"C:/Folder_1/Subfolder_13\",\"C:/Folder_2/Subfolder_7\",\"C:/Folder_2\",\"C:/Folder_1/Subfolder_8\",\"C:/Folder_1\",\"C:/Folder_0/Subfolder_5\",\"C:/Folder_1/Subfolder_9\",\"C:/Folder_1/Subfolder_8\",\"C:/Folder_1\",\"C:/Folder_0\",\"C:/Folder_1/Subfolder_1\",\"C:/Folder_2/Subfolder_0\",\"C:/Folder_1/Subfolder_7\",\"C:/Folder_1/Subfolder_10\",\"C:/Folder_1\",\"C:/Folder_2/Subfolder_3\",\"C:/Folder_2/Subfolder_4\",\"C:/Folder_1/Subfolder_1\",\"C:/Folder_2/Subfolder_4\",\"C:/Folder_0/Subfolder_0\",\"C:/Folder_1\",\"C:/Folder_0/Subfolder_5\",\"C:/Folder_1\",\"C:/Folder_0/Subfolder_0\",\"C:/Folder_1/Subfolder_10\",\"C:/Folder_2\",\"C:/Folder_1/Subfolder_4\",\"C:/Folder_1/Subfolder_1\",\"C:/Folder_1/Subfolder_12\",\"C:/Folder_2\",\"C:/Folder_2/Subfolder_4\",\"C:/Folder_0/Subfolder_5\",\"C:/Folder_1/Subfolder_8\",\"C:/Folder_2/Subfolder_8\",\"C:/Folder_2/Subfolder_7\",\"C:/Folder_1/Subfolder_4\",\"C:/Folder_1/Subfolder_10\",\"C:/Folder_2/Subfolder_0\",\"C:/Folder_2/Subfolder_4\",\"C:/Folder_0/Subfolder_0\",\"C:/Folder_2/Subfolder_4\",\"C:/Folder_1/Subfolder_2\",\"C:/Folder_0/Subfolder_4\",\"C:/Folder_1/Subfolder_7\",\"C:/Folder_2\",\"C:/Folder_1\",\"C:/Folder_2\",\"C:/Folder_2/Subfolder_8\",\"C:/Folder_0/Subfolder_4\",\"C:/Folder_1/Subfolder_12\",\"C:/Folder_2/Subfolder_8\",\"C:/Folder_0/Subfolder_5\",\"C:/Folder_1/Subfolder_0\",\"C:/Folder_2/Subfolder_1\",\"C:/Folder_2\",\"C:/Folder_2/Subfolder_6\",\"C:/Folder_2/Subfolder_2\",\"C:/Folder_2/Subfolder_2\",\"C:/Folder_1\",\"C:/Folder_2/Subfolder_7\",\"C:/Folder_1\",\"C:/Folder_2\",\"C:/Folder_1/Subfolder_2\",\"C:/Folder_1\",\"C:/Folder_2/Subfolder_3\",\"C:/Folder_1/Subfolder_7\",\"C:/Folder_1\",\"C:/Folder_0\",\"C:/Folder_1\",\"C:/Folder_0/Subfolder_4\",\"C:/Folder_2/Subfolder_3\",\"C:/Folder_1/Subfolder_4\",\"C:/Folder_2/Subfolder_8\",\"C:/Folder_2/Subfolder_1\",\"C:/Folder_1/Subfolder_6\",\"C:/Folder_0/Subfolder_2\",\"C:/Folder_2\",\"C:/Folder_1\",\"C:/Folder_2/Subfolder_7\",\"C:/Folder_1/Subfolder_4\",\"C:/Folder_1\",\"C:/Folder_1/Subfolder_8\",\"C:/Folder_1\",\"C:/Folder_2/Subfolder_0\",\"C:/Folder_2/Subfolder_0\",\"C:/Folder_0/Subfolder_5\",\"C:/Folder_1\",\"C:/Folder_2/Subfolder_2\",\"C:/Folder_1/Subfolder_1\",\"C:/Folder_2\",\"C:/Folder_2/Subfolder_6\",\"C:/Folder_1\",\"C:/Folder_0\",\"C:/Folder_1/Subfolder_0\",\"C:/Folder_1/Subfolder_0\",\"C:/Folder_0/Subfolder_3\",\"C:/Folder_1/Subfolder_1\",\"C:/Folder_0\",\"C:/Folder_1/Subfolder_1\",\"C:/Folder_2/Subfolder_5\",\"C:/Folder_0/Subfolder_0\",\"C:/Folder_2/Subfolder_7\",\"C:/Folder_1\",\"C:/Folder_0/Subfolder_4\",\"C:/Folder_2/Subfolder_5\",\"C:/Folder_0/Subfolder_0\",\"C:/Folder_1\",\"C:/Folder_2/Subfolder_4\",\"C:/Folder_2/Subfolder_3\",\"C:/Folder_1\",\"C:/Folder_2/Subfolder_1\",\"C:/Folder_0\",\"C:/Folder_2/Subfolder_2\",\"C:/Folder_1/Subfolder_2\",\"C:/Folder_0/Subfolder_2\",\"C:/Folder_2/Subfolder_4\",\"C:/Folder_1/Subfolder_5\",\"C:/Folder_0\",\"C:/Folder_0/Subfolder_0\",\"C:/Folder_1/Subfolder_8\",\"C:/Folder_1/Subfolder_13\",\"C:/Folder_1/Subfolder_11\",\"C:/Folder_1/Subfolder_1\",\"C:/Folder_1\",\"C:/Folder_2/Subfolder_4\",\"C:/Folder_1/Subfolder_0\",\"C:/Folder_0/Subfolder_4\",\"C:/Folder_0\",\"C:/Folder_1/Subfolder_6\",\"C:/Folder_1/Subfolder_7\",\"C:/Folder_1\",\"C:/Folder_0/Subfolder_2\",\"C:/Folder_0/Subfolder_0\",\"C:/Folder_2\",\"C:/Folder_0/Subfolder_0\",\"C:/Folder_1/Subfolder_10\",\"C:/Folder_0/Subfolder_4\",\"C:/Folder_2/Subfolder_5\",\"C:/Folder_2\",\"C:/Folder_0/Subfolder_2\",\"C:/Folder_0\",\"C:/Folder_2\",\"C:/Folder_0/Subfolder_2\",\"C:/Folder_2\",\"C:/Folder_1/Subfolder_11\",\"C:/Folder_1/Subfolder_1\",\"C:/Folder_2\",\"C:/Folder_1\",\"C:/Folder_0/Subfolder_4\",\"C:/Folder_2/Subfolder_8\",\"C:/Folder_0\",\"C:/Folder_2/Subfolder_8\",\"C:/Folder_2/Subfolder_7\",\"C:/Folder_1\",\"C:/Folder_1\",\"C:/Folder_1/Subfolder_12\",\"C:/Folder_0/Subfolder_2\",\"C:/Folder_2\",\"C:/Folder_2\",\"C:/Folder_1\",\"C:/Folder_1/Subfolder_8\",\"C:/Folder_2/Subfolder_2\",\"C:/Folder_2/Subfolder_1\",\"C:/Folder_2\",\"C:/Folder_2\",\"C:/Folder_1\",\"C:/Folder_2/Subfolder_2\",\"C:/Folder_1/Subfolder_1\",\"C:/Folder_0\",\"C:/Folder_0/Subfolder_3\",\"C:/Folder_1/Subfolder_3\",\"C:/Folder_0\",\"C:/Folder_1/Subfolder_0\",\"C:/Folder_0/Subfolder_2\",\"C:/Folder_2/Subfolder_6\",\"C:/Folder_0\",\"C:/Folder_1\",\"C:/Folder_2\",\"C:/Folder_1\",\"C:/Folder_1\",\"C:/Folder_2\",\"C:/Folder_2\",\"C:/Folder_1\",\"C:/Folder_1\",\"C:/Folder_1\",\"C:/Folder_2\",\"C:/Folder_2\",\"C:/Folder_0\",\"C:/Folder_2\",\"C:/Folder_2\",\"C:/Folder_1\",\"C:/Folder_2\",\"C:/Folder_1\",\"C:/Folder_2\",\"C:/Folder_0\",\"C:/Folder_1\",\"C:/Folder_2\",\"C:/Folder_1\",\"C:/Folder_1\",\"C:/Folder_1\",\"C:/Folder_2\",\"C:/Folder_2\",\"C:/Folder_0\",\"C:/Folder_2\",\"C:\",\"C:\",\"C:\",\"\"],\"values\":[28.116831422619715,166.5482736073668,248.38330832477925,289.6559455421741,227.20477110056373,60.98480220397057,53.58542431270229,443.0035668890096,395.0451134599072,408.4678616194623,13.137045573733296,353.8213603438144,60.11952231517356,241.0111233595048,180.53392300155608,473.5881089854796,489.86545336046936,300.6724054201048,397.9020574194683,475.1982050358545,422.22684437501033,388.47937223675655,47.520840908293934,452.4932594853965,356.70535463613686,378.6366081211629,221.14574412879023,246.8624863189533,464.54522877514864,482.643186225314,356.5974379700879,277.0640289109497,238.25707307537465,205.18169077714992,218.63899526297965,48.81946252937173,449.5509677495693,135.91654774603478,135.65141750779762,50.0800882994012,282.1426441649034,273.82434362522935,370.6831279521477,285.70759032726863,131.73592610736722,49.19482562140569,17.91068206589171,233.71625982937096,403.8605392791095,407.7559868829297,467.9414138418824,84.60582644313332,187.60231445078844,97.51435326570572,466.4149938291717,338.368981865738,181.06115364343736,308.85835075575966,440.2423996905946,380.8315277043287,230.7489321445751,302.30930821445696,76.41930900501771,400.131796306856,295.1983394042944,483.034410376128,470.9492542262323,74.10541795509639,244.5949477446107,267.43210507180123,423.88061022991553,173.12702991041965,329.8410889033825,330.10385228807337,67.09379577377027,458.7962555941692,492.2310850117212,471.7432148777781,58.83307692221578,98.3415837146798,312.9594545568583,232.4563780233692,349.05709808537574,66.65595642526196,9157.981254490816,11070.247472790375,5978.504393575258,68.95711086184953,384.29562642344496,66.17256771006348,40.55425423205299,344.15725583150896,207.72206675204023,302.23220923240973,461.0803818164357,303.6220465783339,373.4467238707501,11.03978196052478,227.975493813038,475.7379428711594,171.1942112848949,61.62313047578974,213.2970133774277,85.57900835871054,183.1649392275112,357.27011650302853,390.22737086286594,96.37428973815707,60.74645462715628,334.4511343501809,461.5259068746772,363.0962626936935,127.20208050083492,118.31443425939824,380.1201834250059,67.90943700971212,389.09726466222565,57.75466010368684,126.50971532034164,438.2027343448696,253.86901980276104,213.7025110613827,9.281419487974444,457.3474323181061,22.57942046426586,480.27738311424673,316.8119396514538,116.5030067667393,449.92990211179,125.44747981448926,445.5550060720583,253.9503529872051,307.0517189009521,445.6162970670958,60.11842542184699,498.0376817106473,299.20037736767915,219.0814015607198,322.0935174228156,198.42521764776023,422.6918918280634,309.8063688048068,487.0398111585421,252.6334262204525,123.79862451825412,86.2343247971554,409.2160319093184,14.065849289848192,448.54438174764846,260.0861041762709,76.44100357379583,368.5798004186343,147.81865810060182,176.6514820984877,32.275702357120785,404.9855112248933,275.44163787980256,274.839507766299,284.9199669504857,35.93298974280309,255.03668519632745,103.1689457140386,467.27896120460616,477.69786228828514,77.19735688429176,167.4383945994239,26.68720876719641,110.75903380207836,127.92496354017158,314.57075244441234,372.1551715187136,370.82138162541145,66.58198383948195,239.70588914109237,86.51294896122081,102.1001826209775,54.49533343637646,91.09479791707196,186.80542830318197,231.77876702537756,212.7401127196876,230.02972148147867,131.44156307653634,233.10425182141276,406.1990707846483,256.52761387908106,375.4414138166181,209.5568206917118,453.2633923691682,212.7476147767963,419.1144618062304,126.64930071914932,191.96510221589,117.78157937210464,179.9681122078982,338.729180237008,329.67035738409794,75.48914979120664,76.58065233801491,287.4290807413803,465.0529639194166,203.8690926610899,476.91245692248185,443.0444453237288,119.78707540599768,326.09251267821304,359.0497339781979,21.38751852093926,120.4254366078505,26.95123497561307,93.42314398453402,50.93216781556056,452.6617697622244,280.57649194705937,82.21103486513105,169.36628865981993,155.47142852375922,165.00302922811997,191.7611479022098,330.7696194945433,382.2477188519458,480.3675450895183,336.88829051677214,328.1425552943124,74.2180634835751,130.1574111401667,404.6669903298063,23.783345004896173,499.06157127025097,271.8746209587459,415.35046159915225,389.9293035985309,8.560897079107773,198.17937652366268,317.47441830467585,367.2092234471604,78.76712259292223,181.59302406295316,467.31561000406833,239.68276319180384,75.80661575586845,475.2900748397205,173.7928371077493,449.4568103660204,27.60597552700205,81.35822018861151,433.5656074947481,334.16717204737586,338.7357756792154,87.53048625798434,440.5247434754302,255.33780499199048,410.3882928440225,340.71483793097707,486.90725858192855,425.1446495672032,12.74123030673062,129.96079806163334,81.67461557923288,38.26489228971476,165.53807689466169,466.22052276837024,406.152438429683,122.21485221618966,296.8092325490373,307.3382465811696,185.76550213516967,133.60287121938504,412.2444951236933,109.56027984993914,270.7923176250312,12.760021216368733,372.4111798454688,188.1823278591045,32.85197225628556,112.9200201736566,494.2110527642005,379.7850488543072,197.2208610929868,116.1238192091835,221.95878370678443,90.49590570972734,405.9740255294829,196.29190635933983,384.8879114407786,210.49732987479703,291.59598887714867,9.829210329500324,289.6741677982329,194.5133974250542,432.6869968657835,125.70725263366192,126.78984934764873,47.00649701544271,9.115326889719377,349.6101812842524,298.5772454941799,304.07700237797417,355.3041449538102,243.1406639103269,286.725610956979,276.727701269577,124.15053033589793,408.61022592652216,399.30252268204646,250.9295232526544,302.23686705102244,456.7021307479328,349.95466850467056,381.1100290122804,222.73321977789797,451.64671230135696,47.44656647067544,100.5265252755482,373.6410070329279,427.809679363045,380.6907754744743,433.4206610467176,239.824331558718,86.39268147671665,35.41347434700701,453.447314033974,473.55711477103546,23.320990698637715,70.16306392880365,108.42086473723188,371.799496692426,168.70293457941727,216.11115756356915,254.68187734790337,407.6689804031174,43.06823612267984,122.24275724089648,475.16635459724006,229.67148205701145,126.83956790590906,364.7977500101888,221.9913986273024,312.8901200787727,371.3387390510169,430.4338298938464,321.44832700584305,7842.207320668334,9666.1935320497,278.07300062178814,145.99595274456624,10409.799942126134,5626.437251400751,494.797382978396,5927.448395208864,290.5060822217532,6898.144317194785,94.63425752212552,255.8840395428214,425.7039326097376,409.3858066357577,344.88549353514964,83.81170399143288,405.4990129405386,18.71904842117937,21.669347092762447,360.6671569983114,156.27038453935634,493.05462282966727,24.373061921159984,313.4375065759108,469.1821746603098,79.29379344990325,78.89766674478672,351.6837422907879,108.89865004145196,251.83653274186256,449.05121671311485,54.64489092588857,177.3393972506425,153.64850028993203,105.5454989402692,22.19299565871277,362.4536934883399,44.40028790432153,33.94107830751079,214.1360142306842,346.3441936339651,19.31060597515204,407.0883912441872,269.3067418179859,218.3285180806069,374.3622992010713,290.4058319335924,364.8298972089764,110.02507616407232,303.7227189932303,147.09942756054136,433.9844099893359,10132.376130981582,351.534540152705,352.8046012754723,365.9731064801728,298.9600077227121,225.85634369484447,434.8665357075934,71.97421601176484,475.9586606729352,166.91295810901076,118.74835435149312,243.31323405048545,327.99770582666326,274.055249079986,7055.484271700861,210.5505090672576,92.48951783263932,322.46397053711235,69.12720279697028,7.18848079332956,387.3308378293619,82.97879135639536,127.5282873610605,319.6772589400045,451.247700640237,68.01409475221101,270.7507449690215,185.11138474741568,366.7559404150426,73.27171030956166,245.68121814635484,393.6990397652293,314.93625386264574,34.704232196561925,226.41703441661664,124.74965383160232,81.63015284962633,485.69144232714086,290.9547303191445,273.1512818679562,369.62866242643975,131.75787180078677,186.05212458777424,158.02274098472736,5.433826341026954,437.83364436129193,96.15301291915868,116.32428078589788,493.7540561368605,34.85422748353078,455.27612157593865,132.7189227050116,209.93122680391767,235.4014907317511,178.89452276126357,123.37317321257927,356.43965272494074,456.8401190010399,26.332771929696342,57.10385722684219,225.59449998357684,133.3028844634263,144.33448606717886,342.8797305492955,33.4979947398965,286.3313237515718,420.3055270600228,214.66502943642317,219.201476857435,66.21844653866216,454.0004203037487,76.17537948168159,489.96817214811546,168.3597614114142,227.7202686290885,238.2711695903442,300.95174902585745,68.82547257226301,337.20839319983975,417.7742079693028,422.2171106196855,22.85710658009728,187.02566936568812,104.31829739211538,357.8285010130677,335.1871160908373,191.5288504691881,253.57976108288256,330.4726190219816,272.35973070473835,473.2508434326556,104.32744171085903,65.03965089543752,395.26274494575534,300.044423242857,173.48103309231095,479.9345016703495,349.27280334827225,294.06541291100075,179.30987583145557,164.2211021281635,173.08643205917403,249.31543145308584,324.5864697790236,68.7730513996412,25.698234701631364,98.9979336764593,474.93723990470335,295.4254249347873,456.3731893014946,129.8404970620118,389.9244279964877,189.5748556516207,269.6354944316181,341.80100578529465,222.2179054883181,337.4428072261484,216.15143102358985,105.87521173581308,493.8340600420283,220.35194819197733,213.52005386870135,228.8308141987838,408.0575951684207,153.96463315475296,122.44719330053768,166.5413047884604,30.660711831476725,266.02647478960216,275.60230227862274,472.7402549120838,465.4504203283612,179.97109686164865,325.2194129549882,339.93191820590386,386.4904156337556,152.19969554284066,26.79113563567618,300.8164536413939,81.62594573895615,298.9041678257553,113.30576309563752,111.4166325599648,46.90620091062608,418.49911540579245,381.2617728300349,58.61938365269679,41.77689942464684,204.56373544709257,268.59792320459894,182.0791767654533,144.8087863968391,32.34806674439146,204.27213322736216,277.21066864775884,450.01553031535934,337.0435272286154,11.103382585118844,26.84442808613364,491.7999365292905,74.7707923671911,228.81700737808964,88.21311025438744,89.46834750279648,480.9937211903308,274.91358008067647,419.1684356339898,262.6533844677584,388.3898302973348,54.95070467963164,148.0164819309639,266.50621531790665,207.5629586192084,454.4823238497946,389.066409520535,206.005662363932,394.7387476579792,137.65144374874907,273.42699216426524,457.2329430473575,28.829889403117317,186.2344327637045,144.8679227056207,293.82641899013544,198.78198270452512,466.519999993968,97.30742567479304,196.8366674097654,11.438776141154984,259.22965084476766,452.6974418999936,10326.432266491342,103.1881636126149,403.1772484838418,82.97724579852874,10849.679249859702,220.44367471754853,165.01542558182862,9331.595591510715,429.9336865739472,9179.53714576802,6112.510964824672,420.3628819512068,36.29214671774324,13.191897736033097,447.42666723443415,397.206585917078,10140.486612982046,459.53582070030455,6046.378517682224,369.3272082496138,197.303185061285,496.8426165460852,363.93498388356926,377.1433830783448,179.0111397423464,466.2482465956759,133.56155709931238,430.5678926708541,299.5167079313832,13.621077788883582,474.869354488702,253.51980061747665,44.92443840531797,78.74134809915805,127.9767167426221,175.63770199603152,321.45595239715215,387.0020211948069,326.53224594700646,56.119004140893736,127.74929619951564,320.23605053790305,14.92002743728866,223.8179484795627,244.83418988531895,290.779152305758,31.150724906541303,107.39984342386624,263.120769953062,452.07743998912025,100.8578204321338,422.24623079545006,115.67895675669467,398.6489866522677,32.70504535712108,341.70957282617,345.9002916825225,73.01726070026692,42.59080376001165,133.0519512435143,205.47548126834684,218.8335325120887,247.28778256938276,217.04747357202717,483.7696869986565,442.24234751755296,129.63450520540516,113.3536713819664,142.38743526854034,62.77480393021469,29.81717945934512,119.24986275452916,36.22227571133264,184.5774811198514,270.703329177861,123.04155967366336,381.8931249815929,402.6303889520811,53.21665885238428,203.99944727602937,107.8167251172975,372.7785216458348,113.12382520138428,188.746463916128,19.352332582265955,424.1570859862625,498.1591540506099,381.2695047601541,139.32320200667397,9.473566971376515,138.6905207847031,150.91857317593065,294.1039208550195,421.90533399072825,495.6510241269502,121.8006704069443,420.69172001765975,300.5048119362665,401.6633758253116,140.9134490232785,316.2102496901669,307.5517912751001,371.4879665957792,320.1199607531523,253.1117497649627,292.56457939219695,292.4224823369134,243.1690542384269,148.13629274287564,47.29993656591698,435.930421198966,95.9372017653798,43.43029800119946,407.75544005772144,96.53565500031884,337.1664965310785,461.7346801975382,398.728404125614,468.631916284886,32.441349489676895,357.84931464111395,357.6318466709542,193.60326289411287,456.9544200640923,6.252270049903148,297.9800428981429,446.5390847561565,383.4575226697248,355.96445092725486,380.6077393335954,431.98797529861343,419.0069059562608,209.9345534774923,214.3166800910052,282.1968381392634,453.3825630973216,70.07144466035652,245.84102251317495,365.88689878701535,309.5290250049558,484.0294800975969,254.30061062860912,430.5862461501408,207.15950150816604,148.67847321517016,389.4338831271125,396.6420390078805,450.7828130986115,67.11297358616929,88.14599215229305,356.7270524224896,285.898335546033,480.68699234024064,71.9621638036982,91.21866398138116,169.51023929727614,488.2269258614944,452.6336909341534,359.7029468326219,9099.249973748763,486.6431890369104,198.79558727772175,267.38614160599667,210.68826325137988,479.5465170391147,483.173641173197,447.2285069388831,291.08259057258846,106.76989302114696,7715.738387043586,16.388533369201056,469.2180234548711,16.645985349814207,69.18457056473956,166.01087348986016,433.26378759481855,110.45215983605236,326.41140715747554,484.83014513299065,217.39233292225285,243.7094664434432,499.7026264786531,8.911082371110336,11.688087225179894,138.3825098626978,482.3355860183272,58.86945352285976,229.2732827708939,405.14267692607535,498.7325227896684,119.50821723190616,377.7689588619496,328.5492635361865,396.4765142510298,96.97154540096022,450.3617808963404,253.37824644476112,451.854018052598,34.39018307080572,90.06849535705518,12.894617927242646,370.2833166287879,61.636529316134784,217.84762861948363,334.54070630115893,419.59670833330944,94.9772145929884,399.56898652448064,285.84832428902007,176.5717901229638,35.71835994927751,461.45935895345735,328.6172173265789,411.6292356939911,149.88972981783084,284.51159617382274,17.687721019348782,23.79925945114513,434.1476295941696,394.2940802686323,317.25208310782574,95.3724372428057,343.6964088007392,406.80008023014375,461.1090916563378,309.8504508341347,361.6453620988184,350.59841854342324,274.9850344535967,194.22372383397573,127.57810464832492,187.29392487769675,371.8129215682402,493.10241986565,23.35806866230422,213.20395858736427,447.5766741615751,81.84344647997779,168.1468581800929,101.9628777096137,84.55805897271601,378.6212235533509,177.56807911442343,365.73761882098427,11.426454467191943,373.5386306256781,373.1905010886007,493.4033060302356,121.0050519662977,79.02444103810822,392.5467943402626,257.99114953422963,456.2836091709935,312.29070339426244,20.2456139546345,185.5908231712288,447.1311754955767,184.0311947784106,198.05800706508208,379.2446614114107,456.6034241903664,158.4477490263811,112.52425686936614,494.3488229622939,189.720507745038,374.91685692208375,95.2003735616444,341.4408114786061,7.205377910030141,473.7071847615479,113.53295702100658,314.78594895676474,8.182660759764572,288.954694738522,498.0042755520061,151.21585609446214,96.01582241791536,110.89728237905872,317.1075881067122,34.823006898267764,464.23308781728025,460.434148874541,240.3156120104813,141.33987543349917,263.68577791150443,490.93973385343537,305.1543479953702,493.5153016857586,493.4870074976994,338.55409708942506,227.3559768235914,90.25237792066906,238.25099604207065,400.4312521978456,426.9561093424144,180.0051044192527,438.8190695322033,349.067303590126,27.21451716407389,458.1725825826484,9.390138231680943,196.17803029978188,9952.526161042273,379.7642379845509,297.35786825978306,7293.432496819037,104.53493120241892,140.25048461056727,206.9850223504158,414.6997058447678,196.17957676878947,300.62388116972534,340.0750212296301,493.3333320224107,6443.08919603511,283.3135350089452,361.190211874948,330.19495718398827,8344.791297357078,72.2873863019554,307.11343351146843,17.043940866686725,126.92794935248412,380.6209728185134,366.443359481906,450.99335279232776,394.6413388549243,494.2778224475074,303.8373875093232,333.2301902355836,149.54707320384955,310.9577700069543,98.1710035687859,25.93087097377755,276.9730144280219,45.9930523159673,149.13915409458764,363.87716731280887,288.4244643933988,180.61787663487877,359.2299919056021,202.1234880506776,321.15887422856133,398.5267280505935,99.5562969796334,121.48168692427518,39.51261469494271,176.59498608856373,220.1265112760728,28.80571050575477,128.72827835669614,360.03288487202013,140.82626486855904,370.1368779986903,15.730206859475125,443.8846397470288,80.9434445470916,189.97939948879173,241.8420842194596,150.2755447893687,191.0181132943625,274.7443714558819,302.3596045084664,83.2579043942422,230.897239711166,483.3137317893009,196.9699112381105,218.43984765838357,33.41707066192268,167.5090667318376,322.0927333707113,225.7382148877535,450.1115715299852,76.8935439531969,380.0207391489264,405.205593699132,498.8012180380289,292.8482110628711,475.0868514701528,118.9733198558044,181.25570185854005,133.60339467413797,48.86542938016575,342.9294125587651,390.0203042700164,257.1252887306407,5.659791928122,404.863008639082,261.48220232228465,167.42745865285283,380.0482100212328,424.5634068564574,244.0995273598127,478.5440858208335,390.3504669098805,179.76401977634862,27.514962569553997,494.8441577186782,191.34501004492824,312.8676713910773,464.11709302194254,392.2897529134186,484.01256678109087,189.5005733092974,284.07077800033863,265.0946188506968,120.8324043427776,309.5076685090596,294.6531253432831,307.8683794125792,33.160335227387705,470.8861503072671,331.63805168884545,367.3961672950134,440.939617508904,396.88317982059255,450.509799727219,285.4293367875591,149.48893983556178,48.96519622918488,384.6478861772495,252.4405706152675,447.8767564766085,77.60379681390528,296.39799037826646,311.9865065495636,162.07753085236132,384.9470593756332,67.26910388538403,447.5649704657831,283.5853251577179,256.80279548532417,266.7317421371557,141.3802679594641,67.7821871447888,355.583373752724,194.06367315565436,92.71534810303142,375.4637511384208,377.65223503874864,35.17968999958595,319.32938358924315,124.38586562915778,11.161156526471007,282.4304521427944,345.1629340546647,444.34555446796776,436.0838660457025,346.4582361915973,417.8392873573331,15.880868566279265,66.85702967586187,158.70739986734867,131.46222095277776,104.977076115816,485.54485687233534,343.8306096671063,220.71049038013808,9.752844244801024,232.89363831000097,328.2359625045019,369.74924238055047,147.9958673200253,57.542601396818846,286.0372939277547,311.55326712353855,317.8915215620624,272.5502358547493,267.072044595162,174.19694460627895,365.12019191371786,120.03605327844824,76.54876091489106,293.6534868539692,292.498316286426,90.6333465464408,54.87097069124106,429.979380122488,220.7707946579576,262.6196537896563,348.4239659005212,336.44023627867125,23.329119637372543,232.21215843813545,431.2292308539512,21.16038170392381,278.08761755164727,471.0596015651085,320.4704036730812,463.51015601754665,422.8091193509941,382.607819067319,81.13475013886644,17.480197863067264,242.4880993988888,300.89582376891286,334.1974820239369,66.83297305997466,292.4487968752987,251.5964354500984,301.9445089297957,221.8723290703448,245.47664110067683,153.3670819195931,472.3529873406372,489.1882315227849,137.31727355132452,405.3930351436322,368.0612052033892,428.4407293308241,60.44707408310775,19.31568280926075,132.34856062262023,52.35571163988021,285.25767991402745,481.3789642159877,219.42878291857045,403.86770971702725,203.0273480024343,226.4632140208422,219.6845066621846,353.36270886309313,154.7559261350581,183.27059362901645,199.0638144706105,194.58966499263371,157.31466385441314,33.24031211126899,266.3272417392164,18.56723525858322,40.00703437167908,5.056137057254568,462.2510380901186,186.56823880833204,231.18966350226088,287.0063654470343,373.4112039476941,430.2140587142417,243.4155158382,121.5355624139192,26.338698656045704,348.50846012612493,498.8219857289537,264.3983492846785,449.7268435495735,465.296987534398,216.20591571373996,26.09577334394871,100.37709229335871,351.79288253987744,453.7176367469211,152.13071468105505,387.6783408410523,460.3220710007749,287.50846356555166,228.4553028079133,259.1728568402755,392.9575225036889,447.7840296229074,288.9602642229061,188.839910075833,11.317271812670125,98.37319873534898,427.9574915756343,29.14740596304858,392.6668345564946,38.53220362807978,491.81021472936095,153.779359035108,497.0180093038038,465.7089013062516,213.0530826877401,410.0447465761752,80.2456687752222,264.9645909829135,434.6490360738136,300.5984285910812,249.19412999516032,259.4845052144452,116.27097293486872,259.5220753136234,356.40915412755686,114.17307760035068,361.433709460638,466.2247539079858,94.44639789299065,18.067642276859825,354.913262459562,60.01403440937644,294.1841769730029,139.49655652468846,80.39198988354956,47.18960061626693,360.0257026483894,484.1651057886877,421.4090235000439,409.4287232767472,167.7018801523614,280.65236995797216,270.6737571097939,13.968891974412667,334.3149541485814,59.2108354010216,318.1349508893349,309.505761889542,11646.615745839816,287.57448696530884,323.6090880199155,369.3446153834946,138.38582726159757,129.79904045639464,205.9328561071744,170.18282608922323,120.11777765786184,304.89510260623695,408.3400087602541,72.78875418690059,197.71464820695013,383.2866933100598,106.32416565569903,238.62841494614247,51.90966716073285,38.200332752786096,61.710835193590704,171.62143241930542,144.63465610114102,109.9716163555354,384.2592491673515,319.6410883003616,236.97179184719656,104.58474924961298,291.6164056986331,328.34667628832364,233.79676068682627,446.0564906750321,22.89753347884092,164.65366573069946,461.650237442299,271.5780109877323,113.0834362862448,363.7526482831379,474.9077759682235,306.2507387870352,91.4414155081671,491.5389274721507,230.3158131271695,165.74162591897445,176.55132858074316,142.07218559698055,342.06955573497874,479.57640278130015,338.74326892308727,8.621466792050345,329.88068766835863,63.79031037206384,85.34944565695612,266.83951993114545,228.365054680068,194.31821765777613,31.87950462916921,203.0463887746589,381.2909568387344,434.9287402888394,298.8126044169279,96.52502527992765,325.378289318774,209.00262200989732,53.64803984316918,464.5562224647106,202.3878065168657,300.8616131063751,346.45704539414663,218.4825151855852,137.65046383843583,7.6865669358935715,214.6001160195685,309.0107907197263,63.15106652133541,322.2280131006064,428.0547509527812,88.73526790858025,312.5987931940219,166.92276336042252,133.46684989297916,72.39065869301548,166.44413397595633,354.2202904913251,10955.94541647687,200.3723176523304,471.5004537447804,23.971474178556853,75.17856867600646,341.8815656212817,8.081429748100316,251.48439231814277,10070.475676171318,33.193825701370024,175.81841679455462,27.753549713405896,6877.631042439147,185.82402234898373,6850.467870652637,11.637971041047797,123.24246486050188,68.98687729525719,173.25511832286216,214.32691281577348,33.89403882671141,435.4893415349688,22.82663496714033,291.4439692394492,403.89357845331085,47.75026922283577,274.2619976603682,257.24515467905013,113.44606657017296,137.5112825401245,439.71329340044514,325.3358272105768,311.7408361395186,400.10668575887047,73.4045314947925,233.0320827046243,491.1141416647422,353.63013304505523,297.6401307198488,281.1605208063688,196.3654307892521,81.75172808039362,266.7642875792166,107.61010118255196,81.9148275302352,282.99638379231783,416.0817770824532,145.41476896499438,453.9260078182381,429.5252370571547,319.17219353346024,43.4038322540414,260.7454987148027,132.44797409780074,104.85369395545209,285.5537876129842,186.8713578256494,41.90402028489302,330.30318128898534,427.40395859708417,171.72812689420516,149.47061102173367,431.6743811388335,115.66925695607176,275.1965773235999,78.66528616837722,409.4563692219416,287.3254348907621,326.4964615732689,295.03718408999293,49.03655312807975,476.0842651863106,241.75445582419115,267.815962910269,6.805779622745541,8.71389301816508,179.78329386710374,314.08209621489965,363.25395153368777,484.692632816318,402.707879495967,394.2204309197005,466.9319470495957,86.6941362892412,54.10245100351181,183.5519481214218,160.39060790909417,328.24284374266244,14.518602899369284,38.950018710122,383.43444513853024,259.9031685956854,325.6224759801552,467.034038645889,465.9055838683248,103.23877102016117,357.6972051328541,131.4753440495835,486.61159838226536,115.98908093042428,279.77589651861143,254.64908564409387,364.5582879100017,22.28129167348533,23.52342111418815,455.118497362866,261.91568699269783,488.6097192162037,324.3783193012973,248.22853033645384,353.7468437749297,314.1231964604438,120.04051957466206,483.39424079869593,223.0106224980483,493.543461954338,216.1852830719377,452.67167891660375,329.34490683972933,105.5415617311534,404.0823257723631,8.557767761727426,350.8445401943103,262.3222069515063,417.7514191152176,74.53379657435073,411.20693819789136,95.06528618366092,415.6580237241567,257.84808062637296,151.90190907412676,59.53002537346742,26.132024922607165,82.70120590823502,427.6677221681485,341.61842051338584,179.3509859012227,103.69159386986816,292.4157280717154,302.3785317644761,168.8419053230093,214.70719509273417,198.1269425363168,179.34720329905747,46.41396940187972,498.7578503704571,17.816830391881535,40.71985525965077,118.63656109529204,476.2847593560207,262.33702001892027,133.11526342218167,135.22977925153157,83.49360159157023,271.29976641266654,176.5826154837781,254.6432455002626,126.72093080412996,81333.00679066732,154071.94911673563,114805.71844605225,350210.6743534552],\"type\":\"treemap\"}],                        {\"template\":{\"data\":{\"histogram2dcontour\":[{\"type\":\"histogram2dcontour\",\"colorbar\":{\"outlinewidth\":0,\"ticks\":\"\"},\"colorscale\":[[0.0,\"#0d0887\"],[0.1111111111111111,\"#46039f\"],[0.2222222222222222,\"#7201a8\"],[0.3333333333333333,\"#9c179e\"],[0.4444444444444444,\"#bd3786\"],[0.5555555555555556,\"#d8576b\"],[0.6666666666666666,\"#ed7953\"],[0.7777777777777778,\"#fb9f3a\"],[0.8888888888888888,\"#fdca26\"],[1.0,\"#f0f921\"]]}],\"choropleth\":[{\"type\":\"choropleth\",\"colorbar\":{\"outlinewidth\":0,\"ticks\":\"\"}}],\"histogram2d\":[{\"type\":\"histogram2d\",\"colorbar\":{\"outlinewidth\":0,\"ticks\":\"\"},\"colorscale\":[[0.0,\"#0d0887\"],[0.1111111111111111,\"#46039f\"],[0.2222222222222222,\"#7201a8\"],[0.3333333333333333,\"#9c179e\"],[0.4444444444444444,\"#bd3786\"],[0.5555555555555556,\"#d8576b\"],[0.6666666666666666,\"#ed7953\"],[0.7777777777777778,\"#fb9f3a\"],[0.8888888888888888,\"#fdca26\"],[1.0,\"#f0f921\"]]}],\"heatmap\":[{\"type\":\"heatmap\",\"colorbar\":{\"outlinewidth\":0,\"ticks\":\"\"},\"colorscale\":[[0.0,\"#0d0887\"],[0.1111111111111111,\"#46039f\"],[0.2222222222222222,\"#7201a8\"],[0.3333333333333333,\"#9c179e\"],[0.4444444444444444,\"#bd3786\"],[0.5555555555555556,\"#d8576b\"],[0.6666666666666666,\"#ed7953\"],[0.7777777777777778,\"#fb9f3a\"],[0.8888888888888888,\"#fdca26\"],[1.0,\"#f0f921\"]]}],\"heatmapgl\":[{\"type\":\"heatmapgl\",\"colorbar\":{\"outlinewidth\":0,\"ticks\":\"\"},\"colorscale\":[[0.0,\"#0d0887\"],[0.1111111111111111,\"#46039f\"],[0.2222222222222222,\"#7201a8\"],[0.3333333333333333,\"#9c179e\"],[0.4444444444444444,\"#bd3786\"],[0.5555555555555556,\"#d8576b\"],[0.6666666666666666,\"#ed7953\"],[0.7777777777777778,\"#fb9f3a\"],[0.8888888888888888,\"#fdca26\"],[1.0,\"#f0f921\"]]}],\"contourcarpet\":[{\"type\":\"contourcarpet\",\"colorbar\":{\"outlinewidth\":0,\"ticks\":\"\"}}],\"contour\":[{\"type\":\"contour\",\"colorbar\":{\"outlinewidth\":0,\"ticks\":\"\"},\"colorscale\":[[0.0,\"#0d0887\"],[0.1111111111111111,\"#46039f\"],[0.2222222222222222,\"#7201a8\"],[0.3333333333333333,\"#9c179e\"],[0.4444444444444444,\"#bd3786\"],[0.5555555555555556,\"#d8576b\"],[0.6666666666666666,\"#ed7953\"],[0.7777777777777778,\"#fb9f3a\"],[0.8888888888888888,\"#fdca26\"],[1.0,\"#f0f921\"]]}],\"surface\":[{\"type\":\"surface\",\"colorbar\":{\"outlinewidth\":0,\"ticks\":\"\"},\"colorscale\":[[0.0,\"#0d0887\"],[0.1111111111111111,\"#46039f\"],[0.2222222222222222,\"#7201a8\"],[0.3333333333333333,\"#9c179e\"],[0.4444444444444444,\"#bd3786\"],[0.5555555555555556,\"#d8576b\"],[0.6666666666666666,\"#ed7953\"],[0.7777777777777778,\"#fb9f3a\"],[0.8888888888888888,\"#fdca26\"],[1.0,\"#f0f921\"]]}],\"mesh3d\":[{\"type\":\"mesh3d\",\"colorbar\":{\"outlinewidth\":0,\"ticks\":\"\"}}],\"scatter\":[{\"fillpattern\":{\"fillmode\":\"overlay\",\"size\":10,\"solidity\":0.2},\"type\":\"scatter\"}],\"parcoords\":[{\"type\":\"parcoords\",\"line\":{\"colorbar\":{\"outlinewidth\":0,\"ticks\":\"\"}}}],\"scatterpolargl\":[{\"type\":\"scatterpolargl\",\"marker\":{\"colorbar\":{\"outlinewidth\":0,\"ticks\":\"\"}}}],\"bar\":[{\"error_x\":{\"color\":\"#2a3f5f\"},\"error_y\":{\"color\":\"#2a3f5f\"},\"marker\":{\"line\":{\"color\":\"#E5ECF6\",\"width\":0.5},\"pattern\":{\"fillmode\":\"overlay\",\"size\":10,\"solidity\":0.2}},\"type\":\"bar\"}],\"scattergeo\":[{\"type\":\"scattergeo\",\"marker\":{\"colorbar\":{\"outlinewidth\":0,\"ticks\":\"\"}}}],\"scatterpolar\":[{\"type\":\"scatterpolar\",\"marker\":{\"colorbar\":{\"outlinewidth\":0,\"ticks\":\"\"}}}],\"histogram\":[{\"marker\":{\"pattern\":{\"fillmode\":\"overlay\",\"size\":10,\"solidity\":0.2}},\"type\":\"histogram\"}],\"scattergl\":[{\"type\":\"scattergl\",\"marker\":{\"colorbar\":{\"outlinewidth\":0,\"ticks\":\"\"}}}],\"scatter3d\":[{\"type\":\"scatter3d\",\"line\":{\"colorbar\":{\"outlinewidth\":0,\"ticks\":\"\"}},\"marker\":{\"colorbar\":{\"outlinewidth\":0,\"ticks\":\"\"}}}],\"scattermapbox\":[{\"type\":\"scattermapbox\",\"marker\":{\"colorbar\":{\"outlinewidth\":0,\"ticks\":\"\"}}}],\"scatterternary\":[{\"type\":\"scatterternary\",\"marker\":{\"colorbar\":{\"outlinewidth\":0,\"ticks\":\"\"}}}],\"scattercarpet\":[{\"type\":\"scattercarpet\",\"marker\":{\"colorbar\":{\"outlinewidth\":0,\"ticks\":\"\"}}}],\"carpet\":[{\"aaxis\":{\"endlinecolor\":\"#2a3f5f\",\"gridcolor\":\"white\",\"linecolor\":\"white\",\"minorgridcolor\":\"white\",\"startlinecolor\":\"#2a3f5f\"},\"baxis\":{\"endlinecolor\":\"#2a3f5f\",\"gridcolor\":\"white\",\"linecolor\":\"white\",\"minorgridcolor\":\"white\",\"startlinecolor\":\"#2a3f5f\"},\"type\":\"carpet\"}],\"table\":[{\"cells\":{\"fill\":{\"color\":\"#EBF0F8\"},\"line\":{\"color\":\"white\"}},\"header\":{\"fill\":{\"color\":\"#C8D4E3\"},\"line\":{\"color\":\"white\"}},\"type\":\"table\"}],\"barpolar\":[{\"marker\":{\"line\":{\"color\":\"#E5ECF6\",\"width\":0.5},\"pattern\":{\"fillmode\":\"overlay\",\"size\":10,\"solidity\":0.2}},\"type\":\"barpolar\"}],\"pie\":[{\"automargin\":true,\"type\":\"pie\"}]},\"layout\":{\"autotypenumbers\":\"strict\",\"colorway\":[\"#636efa\",\"#EF553B\",\"#00cc96\",\"#ab63fa\",\"#FFA15A\",\"#19d3f3\",\"#FF6692\",\"#B6E880\",\"#FF97FF\",\"#FECB52\"],\"font\":{\"color\":\"#2a3f5f\"},\"hovermode\":\"closest\",\"hoverlabel\":{\"align\":\"left\"},\"paper_bgcolor\":\"white\",\"plot_bgcolor\":\"#E5ECF6\",\"polar\":{\"bgcolor\":\"#E5ECF6\",\"angularaxis\":{\"gridcolor\":\"white\",\"linecolor\":\"white\",\"ticks\":\"\"},\"radialaxis\":{\"gridcolor\":\"white\",\"linecolor\":\"white\",\"ticks\":\"\"}},\"ternary\":{\"bgcolor\":\"#E5ECF6\",\"aaxis\":{\"gridcolor\":\"white\",\"linecolor\":\"white\",\"ticks\":\"\"},\"baxis\":{\"gridcolor\":\"white\",\"linecolor\":\"white\",\"ticks\":\"\"},\"caxis\":{\"gridcolor\":\"white\",\"linecolor\":\"white\",\"ticks\":\"\"}},\"coloraxis\":{\"colorbar\":{\"outlinewidth\":0,\"ticks\":\"\"}},\"colorscale\":{\"sequential\":[[0.0,\"#0d0887\"],[0.1111111111111111,\"#46039f\"],[0.2222222222222222,\"#7201a8\"],[0.3333333333333333,\"#9c179e\"],[0.4444444444444444,\"#bd3786\"],[0.5555555555555556,\"#d8576b\"],[0.6666666666666666,\"#ed7953\"],[0.7777777777777778,\"#fb9f3a\"],[0.8888888888888888,\"#fdca26\"],[1.0,\"#f0f921\"]],\"sequentialminus\":[[0.0,\"#0d0887\"],[0.1111111111111111,\"#46039f\"],[0.2222222222222222,\"#7201a8\"],[0.3333333333333333,\"#9c179e\"],[0.4444444444444444,\"#bd3786\"],[0.5555555555555556,\"#d8576b\"],[0.6666666666666666,\"#ed7953\"],[0.7777777777777778,\"#fb9f3a\"],[0.8888888888888888,\"#fdca26\"],[1.0,\"#f0f921\"]],\"diverging\":[[0,\"#8e0152\"],[0.1,\"#c51b7d\"],[0.2,\"#de77ae\"],[0.3,\"#f1b6da\"],[0.4,\"#fde0ef\"],[0.5,\"#f7f7f7\"],[0.6,\"#e6f5d0\"],[0.7,\"#b8e186\"],[0.8,\"#7fbc41\"],[0.9,\"#4d9221\"],[1,\"#276419\"]]},\"xaxis\":{\"gridcolor\":\"white\",\"linecolor\":\"white\",\"ticks\":\"\",\"title\":{\"standoff\":15},\"zerolinecolor\":\"white\",\"automargin\":true,\"zerolinewidth\":2},\"yaxis\":{\"gridcolor\":\"white\",\"linecolor\":\"white\",\"ticks\":\"\",\"title\":{\"standoff\":15},\"zerolinecolor\":\"white\",\"automargin\":true,\"zerolinewidth\":2},\"scene\":{\"xaxis\":{\"backgroundcolor\":\"#E5ECF6\",\"gridcolor\":\"white\",\"linecolor\":\"white\",\"showbackground\":true,\"ticks\":\"\",\"zerolinecolor\":\"white\",\"gridwidth\":2},\"yaxis\":{\"backgroundcolor\":\"#E5ECF6\",\"gridcolor\":\"white\",\"linecolor\":\"white\",\"showbackground\":true,\"ticks\":\"\",\"zerolinecolor\":\"white\",\"gridwidth\":2},\"zaxis\":{\"backgroundcolor\":\"#E5ECF6\",\"gridcolor\":\"white\",\"linecolor\":\"white\",\"showbackground\":true,\"ticks\":\"\",\"zerolinecolor\":\"white\",\"gridwidth\":2}},\"shapedefaults\":{\"line\":{\"color\":\"#2a3f5f\"}},\"annotationdefaults\":{\"arrowcolor\":\"#2a3f5f\",\"arrowhead\":0,\"arrowwidth\":1},\"geo\":{\"bgcolor\":\"white\",\"landcolor\":\"#E5ECF6\",\"subunitcolor\":\"white\",\"showland\":true,\"showlakes\":true,\"lakecolor\":\"white\"},\"title\":{\"x\":0.05},\"mapbox\":{\"style\":\"light\"}}},\"legend\":{\"tracegroupgap\":0},\"margin\":{\"t\":60}},                        {\"responsive\": true}                    ).then(function(){\n",
              "                            \n",
              "var gd = document.getElementById('b68a2ebf-85b2-4653-9fbe-7f2e918d14fd');\n",
              "var x = new MutationObserver(function (mutations, observer) {{\n",
              "        var display = window.getComputedStyle(gd).display;\n",
              "        if (!display || display === 'none') {{\n",
              "            console.log([gd, 'removed!']);\n",
              "            Plotly.purge(gd);\n",
              "            observer.disconnect();\n",
              "        }}\n",
              "}});\n",
              "\n",
              "// Listen for the removal of the full notebook cells\n",
              "var notebookContainer = gd.closest('#notebook-container');\n",
              "if (notebookContainer) {{\n",
              "    x.observe(notebookContainer, {childList: true});\n",
              "}}\n",
              "\n",
              "// Listen for the clearing of the current output cell\n",
              "var outputEl = gd.closest('.output');\n",
              "if (outputEl) {{\n",
              "    x.observe(outputEl, {childList: true});\n",
              "}}\n",
              "\n",
              "                        })                };                            </script>        </div>\n",
              "</body>\n",
              "</html>"
            ]
          },
          "metadata": {}
        }
      ]
    },
    {
      "cell_type": "markdown",
      "source": [
        "# ChatGPT helping with understanding our data and generating test data"
      ],
      "metadata": {
        "id": "ztUb3t7yUv2G"
      }
    },
    {
      "cell_type": "markdown",
      "source": [
        "## 1 The first prompt\n",
        "\n",
        "I'm a python programmer and need some assistance with analysing and visualising data that is coded in a csv file. Here is are the first rows of the file:\n",
        "Attributes\tCreated\tLastMod\tLastAcc\tSize\tName\tPath\tFolder\tExt\tMd5\n",
        "---A----\t05/01/2021 19:19\t05/01/2021 19:19\t12/08/2021 20:58\t22.639\taksdrvsetup.log\tC:\\Windows\\aksdrvsetup.log\tC:\\Windows\\\tlog\t50D08E904772E94EB4B16817EB5BE4F1\n",
        "NAAM?\t22/04/2021 19:57\t22/04/2021 19:57\t12/08/2021 20:58\t77.824\tbfsvc.exe\tC:\\Windows\\bfsvc.exe\tC:\\Windows\\\texe\t862251351EC170BB3BD59CB219491811\n",
        "---A----\t18/08/2020 10:52\t18/08/2020 10:54\t12/08/2021 20:58\t3.145.782\tBGInfo.bmp\tC:\\Windows\\BGInfo.bmp\tC:\\Windows\\\tbmp\tEC80E9F3112F716063C273FC1F75F552"
      ],
      "metadata": {
        "id": "tfWza6ElYtN5"
      }
    },
    {
      "cell_type": "markdown",
      "source": [
        "## Response from ChatGPT\n",
        "\n",
        "Sure, I can assist you in analyzing and visualizing the data from the CSV file you provided. Based on the provided data, it seems like you're dealing with file attributes, creation dates, modification dates, access dates, sizes, names, paths, folders, extensions, and MD5 hashes.\n",
        "\n",
        "Here's what you can do to start analyzing this data using Python:\n",
        "\n",
        "### Step 1: Load the Data\n",
        "You can use the pandas library to load the CSV data into a DataFrame. You might need to handle the `#NAAM?` value as well, as it appears to be an error or placeholder.\n",
        "\n",
        "```python\n",
        "import pandas as pd\n",
        "\n",
        "# Read the CSV file\n",
        "file_path = 'your_file.csv'\n",
        "df = pd.read_csv(file_path, na_values=['#NAAM?'])\n",
        "\n",
        "# Preview the first few rows\n",
        "print(df.head())\n",
        "```\n",
        "\n",
        "### Step 2: Data Cleaning\n",
        "If necessary, you may need to perform some cleaning on the data, such as converting date strings to datetime objects, handling missing values, etc.\n",
        "\n",
        "```python\n",
        "# Convert date columns to datetime\n",
        "date_columns = ['Created', 'LastMod', 'LastAcc']\n",
        "for col in date_columns:\n",
        "    df[col] = pd.to_datetime(df[col])\n",
        "\n",
        "# Handle any other cleaning as needed\n",
        "```\n",
        "\n",
        "### Step 3: Data Analysis\n",
        "Now you can perform various analyses on the data. Here's an example that calculates basic statistics for the 'Size' column:\n",
        "\n",
        "```python\n",
        "size_stats = df['Size'].describe()\n",
        "print(size_stats)\n",
        "```\n",
        "\n",
        "### Step 4: Visualization\n",
        "You can create various visualizations using libraries like matplotlib or seaborn. For example, you might want to create a histogram of the file sizes.\n",
        "\n",
        "```python\n",
        "import matplotlib.pyplot as plt\n",
        "\n",
        "# Create a histogram for the 'Size' column\n",
        "plt.hist(df['Size'], bins=20, edgecolor='black')\n",
        "plt.title('Distribution of File Sizes')\n",
        "plt.xlabel('Size')\n",
        "plt.ylabel('Frequency')\n",
        "plt.show()\n",
        "```\n",
        "\n",
        "Please let me know what specific analyses or visualizations you'd like to create, and I'll provide more tailored guidance!"
      ],
      "metadata": {
        "id": "5hcQyolSY9w-"
      }
    },
    {
      "cell_type": "markdown",
      "source": [
        "## 2 Prompt asking ChatGPT to guess the data types of columns\n",
        "\n",
        "What are the columns in the example I gave and can you guess their data types?"
      ],
      "metadata": {
        "id": "LXD0-d11ZEsK"
      }
    },
    {
      "cell_type": "markdown",
      "source": [
        "## Response from ChatGPT\n",
        "\n",
        "Sure! Based on the provided example, here are the columns and their likely data types:\n",
        "\n",
        "1. **Attributes**: Describes file attributes, likely a string.\n",
        "2. **Created**: The creation date and time of the file, likely a datetime object.\n",
        "3. **LastMod**: The last modification date and time of the file, likely a datetime object.\n",
        "4. **LastAcc**: The last accessed date and time of the file, likely a datetime object.\n",
        "5. **Size**: The size of the file, likely a float (given the presence of a decimal point in the values).\n",
        "6. **Name**: The name of the file, likely a string.\n",
        "7. **Path**: The full path of the file, likely a string.\n",
        "8. **Folder**: The folder in which the file resides, likely a string.\n",
        "9. **Ext**: The file extension, likely a string.\n",
        "10. **Md5**: The MD5 hash of the file, likely a string (since MD5 hashes are typically represented as hexadecimal strings).\n",
        "\n",
        "When loading this data with pandas, you might want to explicitly set the data types for some columns, but pandas will often correctly infer these types automatically. If you want to be explicit, you can use the `dtype` parameter in `pd.read_csv()` to specify the types for each column. Here's an example that sets the data types as described above:\n",
        "\n",
        "```python\n",
        "date_columns = ['Created', 'LastMod', 'LastAcc']\n",
        "\n",
        "# Read the CSV file with explicit data types\n",
        "df = pd.read_csv(file_path, parse_dates=date_columns, na_values=['#NAAM?'], dtype={\n",
        "    'Attributes': str,\n",
        "    'Size': float,\n",
        "    'Name': str,\n",
        "    'Path': str,\n",
        "    'Folder': str,\n",
        "    'Ext': str,\n",
        "    'Md5': str,\n",
        "})\n",
        "```\n",
        "\n",
        "Note that the `parse_dates` parameter can be used to automatically parse the date columns as datetime objects."
      ],
      "metadata": {
        "id": "dVmB1YhPZQ-b"
      }
    },
    {
      "cell_type": "markdown",
      "source": [
        "## 3 Prompt ChatGPT asking for a script that generates similar testdata\n",
        "\n",
        "Can you generate a csv file based on this example resembling a folder structure of files and folders on a C:\\ drive with 3 folders in the root and about 10 files, each folder has 5-15 subfolders and 10-20 files of various types including MsOffice, pictures, exe, video, audio etc. The subfolders have 20-50 files of various types. Use random sizes between 5Kb and 500Kb."
      ],
      "metadata": {
        "id": "awlahpgQZWDN"
      }
    },
    {
      "cell_type": "markdown",
      "source": [
        "## Response from ChatGPT\n",
        "\n",
        "Certainly! Below is a Python script to generate a CSV file that resembles a folder structure on the C:\\ drive, with the specifications you mentioned. It will include 3 folders in the root, and each folder will have 5-15 subfolders and 10-20 files. The subfolders will have 20-50 files of various types, with random sizes between 5KB and 500KB.\n",
        "\n",
        "The script creates a pandas DataFrame and fills it with random data that follows the structure you described. Finally, it writes the DataFrame to a CSV file.\n",
        "\n",
        "```python\n",
        "import pandas as pd\n",
        "import random\n",
        "from datetime import datetime\n",
        "\n",
        "# Function to create a file row\n",
        "def create_file(folder, ext, size):\n",
        "    name = f'file_{random.randint(1, 1000000)}.{ext}'\n",
        "    path = f'{folder}\\\\{name}'\n",
        "    created = datetime.now().strftime(\"%d/%m/%Y %H:%M\")\n",
        "    return ['---A----', created, created, created, size, name, path, folder, ext, '']\n",
        "\n",
        "# File extensions for various types\n",
        "file_types = ['docx', 'xlsx', 'pptx', 'jpg', 'png', 'exe', 'mp4', 'mp3']\n",
        "\n",
        "# Create an empty DataFrame\n",
        "columns = ['Attributes', 'Created', 'LastMod', 'LastAcc', 'Size', 'Name', 'Path', 'Folder', 'Ext', 'Md5']\n",
        "df = pd.DataFrame(columns=columns)\n",
        "\n",
        "# Create root folders\n",
        "for i in range(3):\n",
        "    root_folder = f'C:\\\\Folder_{i}'\n",
        "    \n",
        "    # Create subfolders\n",
        "    for j in range(random.randint(5, 15)):\n",
        "        subfolder = f'{root_folder}\\\\Subfolder_{j}'\n",
        "        \n",
        "        # Create files in subfolder\n",
        "        for _ in range(random.randint(20, 50)):\n",
        "            ext = random.choice(file_types)\n",
        "            size = random.uniform(5, 500) # Size in KB\n",
        "            file_row = create_file(subfolder, ext, size)\n",
        "            df.loc[len(df)] = file_row\n",
        "        \n",
        "        # Create files in the root folder\n",
        "        for _ in range(random.randint(10, 20)):\n",
        "            ext = random.choice(file_types)\n",
        "            size = random.uniform(5, 500) # Size in KB\n",
        "            file_row = create_file(root_folder, ext, size)\n",
        "            df.loc[len(df)] = file_row\n",
        "\n",
        "# Write to CSV\n",
        "df.to_csv('folder_structure.csv', index=False)\n",
        "```\n",
        "\n",
        "This script will create a CSV file named `folder_structure.csv` in the current working directory. It will include the structure of folders, subfolders, and files as you described. Feel free to modify the script to fit any additional requirements you may have!"
      ],
      "metadata": {
        "id": "TiCUEvzyaC7U"
      }
    },
    {
      "cell_type": "markdown",
      "source": [
        "## Conclusion\n",
        "\n",
        "We showed ChatGPT the first three rows of our data and it was making suggestions what we can do with the data and it could also accurately guess the type of data in our columns. Finally it was able to write a script that generates a test csv with the same columns and random content."
      ],
      "metadata": {
        "id": "JUGf0llLaPjL"
      }
    },
    {
      "cell_type": "markdown",
      "source": [
        "# ChatGPT helping with treemap visualisation"
      ],
      "metadata": {
        "id": "ivswcguzYn3w"
      }
    },
    {
      "cell_type": "markdown",
      "source": [
        "##1 The first prompt\n",
        "\n",
        "Can you recommend a python library to produce a hierarchical treemap and give a simple example how it works?"
      ],
      "metadata": {
        "id": "4AvQzRLjU2yL"
      }
    },
    {
      "cell_type": "markdown",
      "source": [
        "## Response from ChatGPT\n",
        "\n",
        "A hierarchical treemap is a great way to represent a nested structure like a file system. In Python, you can use the Plotly library to create interactive treemaps.\n",
        "\n",
        "Here's a simple example to create a treemap using Plotly, based on a hypothetical folder structure.\n",
        "\n",
        "### Step 1: Install Plotly\n",
        "First, you'll need to install the Plotly library if you haven't already:\n",
        "\n",
        "```bash\n",
        "pip install plotly\n",
        "```\n",
        "\n",
        "### Step 2: Create a Hierarchical Treemap\n",
        "You can use the `plotly.express` module to create a treemap easily. Here's an example using a hypothetical DataFrame representing a folder structure:\n",
        "\n",
        "```python\n",
        "import plotly.express as px\n",
        "import pandas as pd\n",
        "\n",
        "# Create a DataFrame with hierarchical data\n",
        "data = {\n",
        "    'path': [\n",
        "        'Root/Folder 1',\n",
        "        'Root/Folder 1/Subfolder 1',\n",
        "        'Root/Folder 1/Subfolder 1/File 1',\n",
        "        'Root/Folder 1/Subfolder 2',\n",
        "        'Root/Folder 1/Subfolder 2/File 2',\n",
        "        'Root/Folder 2',\n",
        "        'Root/Folder 2/Subfolder 3',\n",
        "        'Root/Folder 2/Subfolder 3/File 3'\n",
        "    ],\n",
        "    'size': [0, 0, 500, 0, 300, 0, 0, 200] # Sizes are for the files only\n",
        "}\n",
        "\n",
        "df = pd.DataFrame(data)\n",
        "\n",
        "# Create a treemap\n",
        "fig = px.treemap(df, path=['path'], values='size')\n",
        "\n",
        "# Show the treemap\n",
        "fig.show()\n",
        "```\n",
        "\n",
        "In this example, the `path` column represents the folder structure and is split into levels by the `/` character. The `size` column gives the size of the files.\n",
        "\n",
        "You'll need to adapt the code to match your specific data structure and needs, but this example should give you a good starting point for creating a hierarchical treemap with Plotly."
      ],
      "metadata": {
        "id": "4M2Mon3LVXT0"
      }
    },
    {
      "cell_type": "markdown",
      "source": [
        "##2 Next prompt: Leading step by step (Chain-of-thought)\n",
        "\n",
        "This treemap expects a path that identifies column names in the dataframe df. In the example you provide path=['path']. Let's say I want to have 3 levels, so path=['level1','level2','level3']. The in df I would need to add columns 'level1','level2' and 'level3' with values where the 'path' value is separated as level1 is the first segment in the path, level2 is the second segment and level3 is the third segment. Can you do that?"
      ],
      "metadata": {
        "id": "QYjECd3XVvI2"
      }
    },
    {
      "cell_type": "markdown",
      "source": [
        "## Response from ChatGPT\n",
        "\n",
        "Certainly! You'll need to split the 'path' column into separate levels and then create the treemap using those levels as the path. Here's how you can do it:\n",
        "\n",
        "```python\n",
        "import plotly.express as px\n",
        "import pandas as pd\n",
        "\n",
        "# Create a DataFrame with hierarchical data\n",
        "data = {\n",
        "    'path': [\n",
        "        'Root/Folder 1/Subfolder 1',\n",
        "        'Root/Folder 1/Subfolder 1/File 1',\n",
        "        'Root/Folder 1/Subfolder 2/File 2',\n",
        "        'Root/Folder 2/Subfolder 3/File 3'\n",
        "    ],\n",
        "    'size': [0, 500, 300, 200]\n",
        "}\n",
        "\n",
        "df = pd.DataFrame(data)\n",
        "\n",
        "# Split the path column into separate levels\n",
        "df[['level1', 'level2', 'level3']] = df['path'].str.split('/', expand=True)\n",
        "\n",
        "# Create a treemap\n",
        "fig = px.treemap(df, path=['level1', 'level2', 'level3'], values='size')\n",
        "\n",
        "# Show the treemap\n",
        "fig.show()\n",
        "```\n",
        "\n",
        "Here, we used the `str.split` method with the `expand=True` argument to split the 'path' column into separate columns for each level. Then, we used those levels as the path in the `px.treemap` function to create the treemap.\n",
        "\n",
        "The resulting treemap will have three levels, corresponding to the 'level1', 'level2', and 'level3' columns in the DataFrame. You can adjust the code to match your specific data and folder structure."
      ],
      "metadata": {
        "id": "5nNq0tJVWF7Y"
      }
    },
    {
      "cell_type": "markdown",
      "source": [
        "## 3 Getting ChatGPT to do this with the real dataset\n",
        "\n",
        "Looks good. Can you modify this so that the script will read the test csv file we created earlier? The size of a row is based on the file size. The color of the tile in the treemap is based on the file extension."
      ],
      "metadata": {
        "id": "RFcGkWCJWPED"
      }
    },
    {
      "cell_type": "markdown",
      "source": [
        "## Response from ChatGPT\n",
        "\n",
        "Certainly! The modified script below reads the CSV file we created earlier, extracts the necessary levels for the treemap, and creates a treemap where the size of each tile is based on the file size, and the color of the tile is based on the file extension.\n",
        "\n",
        "```python\n",
        "import plotly.express as px\n",
        "import pandas as pd\n",
        "\n",
        "# Read the CSV file created earlier\n",
        "df = pd.read_csv('folder_structure.csv')\n",
        "\n",
        "# Create a 'path' column by combining 'Folder' and 'Name'\n",
        "df['path'] = df['Folder'] + '\\\\' + df['Name']\n",
        "\n",
        "# Split the 'path' column into separate levels\n",
        "df[['level1', 'level2', 'level3', 'level4', 'level5']] = df['path'].str.split('\\\\', expand=True)\n",
        "\n",
        "# Fill NaN values in 'level2', 'level3', 'level4', 'level5' columns with folder names\n",
        "for col in ['level2', 'level3', 'level4', 'level5']:\n",
        "    df[col] = df[col].fillna(df['Folder'])\n",
        "\n",
        "# Create a treemap, with size based on 'Size' and color based on 'Ext'\n",
        "fig = px.treemap(df, path=['level1', 'level2', 'level3', 'level4', 'level5'], values='Size', color='Ext')\n",
        "\n",
        "# Show the treemap\n",
        "fig.show()\n",
        "```\n",
        "\n",
        "Here's a brief explanation of the changes:\n",
        "- We create a new 'path' column by combining the 'Folder' and 'Name' columns with a backslash.\n",
        "- We then split this 'path' column into separate levels.\n",
        "- We use the `fillna` method to fill any NaN values in the 'level2', 'level3', 'level4', 'level5' columns with the folder names, since these levels may be missing for some rows.\n",
        "- In the `px.treemap` call, we use the 'Size' column for the `values` parameter and the 'Ext' column for the `color` parameter, as requested.\n",
        "\n",
        "This script will create a treemap visualization based on the structure and file sizes in the CSV file, with colors corresponding to different file extensions."
      ],
      "metadata": {
        "id": "v43G6v27WhOd"
      }
    },
    {
      "cell_type": "markdown",
      "source": [
        "##4 Prompt ChatGPT to make a correction\n",
        "\n",
        "The csv file already has a column called path that you can use I believe."
      ],
      "metadata": {
        "id": "WV63D41FWpRD"
      }
    },
    {
      "cell_type": "markdown",
      "source": [
        "## Response from ChatGPT\n",
        "\n",
        "You're right; my apologies for missing that detail. Since the CSV file already contains a 'Path' column, we can use it directly and avoid creating a new 'path' column.\n",
        "\n",
        "Here's the modified script:\n",
        "\n",
        "```python\n",
        "import plotly.express as px\n",
        "import pandas as pd\n",
        "\n",
        "# Read the CSV file created earlier\n",
        "df = pd.read_csv('folder_structure.csv')\n",
        "\n",
        "# Split the 'Path' column into separate levels\n",
        "df[['level1', 'level2', 'level3', 'level4', 'level5', 'level6']] = df['Path'].str.split('\\\\', expand=True)\n",
        "\n",
        "# Fill NaN values in 'level3', 'level4', 'level5', 'level6' columns with folder names\n",
        "for col in ['level3', 'level4', 'level5', 'level6']:\n",
        "    df[col] = df[col].fillna(df['Folder'])\n",
        "\n",
        "# Create a treemap, with size based on 'Size' and color based on 'Ext'\n",
        "fig = px.treemap(df, path=['level1', 'level2', 'level3', 'level4', 'level5', 'level6'], values='Size', color='Ext')\n",
        "\n",
        "# Show the treemap\n",
        "fig.show()\n",
        "```\n",
        "\n",
        "In this version of the script, we directly split the 'Path' column from the CSV file into the separate levels for the treemap. The rest of the script remains the same, creating a treemap where the size of each tile is based on the file size, and the color is based on the file extension."
      ],
      "metadata": {
        "id": "0KXgn0CJW3BC"
      }
    },
    {
      "cell_type": "markdown",
      "source": [
        "##5 Prompt with ChatGPT a Python error message\n",
        "\n",
        "There is a problem with line 8 when splitting the path column:\n",
        "  File \"d:/OneDrive/Documenten/Office/2023/Projecten/HS Leiden/Bern Data Analytics/ChatGPT copilot/data_visualisation.py\", line 8, in <module>\n",
        "    df[['level1', 'level2', 'level3', 'level4', 'level5', 'level6']] = df['Path'].str.split('\\\\', expand=True)\n",
        "  File \"C:\\Users\\hans\\AppData\\Local\\Packages\\PythonSoftwareFoundation.Python.3.8_qbz5n2kfra8p0\\LocalCache\\local-packages\\Python38\\site-packages\\pandas\\core\\frame.py\", line 3968, in __setitem__\n",
        "    self._setitem_array(key, value)\n",
        "  File \"C:\\Users\\hans\\AppData\\Local\\Packages\\PythonSoftwareFoundation.Python.3.8_qbz5n2kfra8p0\\LocalCache\\local-packages\\Python38\\site-packages\\pandas\\core\\frame.py\", line 4010, in _setitem_array\n",
        "    check_key_length(self.columns, key, value)\n",
        "  File \"C:\\Users\\hans\\AppData\\Local\\Packages\\PythonSoftwareFoundation.Python.3.8_qbz5n2kfra8p0\\LocalCache\\local-packages\\Python38\\site-packages\\pandas\\core\\indexers\\utils.py\", line 401, in check_key_length\n",
        "    raise ValueError(\"Columns must be same length as key\")\n",
        "ValueError: Columns must be same length as key\n",
        "\n"
      ],
      "metadata": {
        "id": "qWU-AVDkW9l7"
      }
    },
    {
      "cell_type": "markdown",
      "source": [
        "## Response from ChatGPT\n",
        "\n",
        "My apologies for the confusion. The error is happening because I pre-defined the number of levels in the split operation. The number of levels might not be consistent across all rows, so it's better to first split the paths into a list and then expand it into columns.\n",
        "\n",
        "Here's a revised code snippet:\n",
        "\n",
        "```python\n",
        "import plotly.express as px\n",
        "import pandas as pd\n",
        "\n",
        "# Read the CSV file created earlier\n",
        "df = pd.read_csv('folder_structure.csv')\n",
        "\n",
        "# Split the 'Path' column into a list\n",
        "df['path_list'] = df['Path'].str.split('\\\\')\n",
        "\n",
        "# Determine the maximum number of levels\n",
        "max_levels = df['path_list'].apply(len).max()\n",
        "\n",
        "# Expand the list into separate columns\n",
        "for i in range(max_levels):\n",
        "    df[f'level{i}'] = df['path_list'].apply(lambda x: x[i] if i < len(x) else None)\n",
        "\n",
        "# Create a treemap, with size based on 'Size' and color based on 'Ext'\n",
        "fig = px.treemap(df, path=[f'level{i}' for i in range(max_levels)], values='Size', color='Ext')\n",
        "\n",
        "# Show the treemap\n",
        "fig.show()\n",
        "```\n",
        "\n",
        "Here, we first split the 'Path' column into a list and store it in a new 'path_list' column. Then, we determine the maximum number of levels by finding the length of the longest list. Finally, we expand the list into separate columns, creating a column for each level.\n",
        "\n",
        "This approach should work with any number of levels in the path, and it avoids the error you encountered earlier."
      ],
      "metadata": {
        "id": "4Kxi4mZRXROR"
      }
    },
    {
      "cell_type": "markdown",
      "source": [
        "## 6 Prompt to refine the code\n",
        "\n",
        "The csv file I have is very large and seems to contain many levels. Can I limit the number of levels and is there a call back function in plotly that I can configure so that it will upload additional levels when necessary?"
      ],
      "metadata": {
        "id": "51OT6TmAXeLA"
      }
    },
    {
      "cell_type": "markdown",
      "source": [
        "## Response from ChatGPT\n",
        "\n",
        "Plotly itself does not inherently support a callback function to upload additional levels dynamically when necessary. However, you can still create a visual representation that limits the number of levels displayed, and if you're working within a web framework like Dash (by Plotly), you can create interactive components to load more levels as needed.\n",
        "\n",
        "Here's a two-part approach you can follow:\n",
        "\n",
        "### 1. Limit the Number of Levels in the Treemap\n",
        "\n",
        "You can adjust the code to limit the number of levels you include in the treemap. Here's an example:\n",
        "\n",
        "```python\n",
        "import plotly.express as px\n",
        "import pandas as pd\n",
        "\n",
        "# Read the CSV file\n",
        "df = pd.read_csv('folder_structure.csv')\n",
        "\n",
        "# Split the 'Path' column into a list\n",
        "df['path_list'] = df['Path'].str.split('\\\\')\n",
        "\n",
        "# Limit to a specific number of levels\n",
        "max_display_levels = 3\n",
        "\n",
        "# Create columns for the limited levels\n",
        "for i in range(max_display_levels):\n",
        "    df[f'level{i}'] = df['path_list'].apply(lambda x: x[i] if i < len(x) else None)\n",
        "\n",
        "# Create a treemap, with size based on 'Size' and color based on 'Ext'\n",
        "fig = px.treemap(df, path=[f'level{i}' for i in range(max_display_levels)], values='Size', color='Ext')\n",
        "\n",
        "# Show the treemap\n",
        "fig.show()\n",
        "```\n",
        "\n",
        "This code limits the treemap to display only the first `max_display_levels` levels.\n",
        "\n",
        "### 2. Use Dash to Create Interactive Components (Optional)\n",
        "\n",
        "If you need to create an interactive component to allow users to drill down into additional levels, you might consider using the Dash framework. Dash allows you to create web applications with Plotly visualizations, and it supports callbacks that can react to user input.\n",
        "\n",
        "Here's a high-level idea of how you might create a button to load more levels:\n",
        "\n",
        "1. **Create a Dash app with a Plotly treemap and a button to load more levels.**\n",
        "2. **Define a callback that responds to the button press, loading additional levels into the treemap.**\n",
        "\n",
        "You can refer to the [Dash documentation](https://dash.plotly.com/) for more information on creating interactive components with callbacks.\n",
        "\n",
        "Keep in mind that loading additional levels in a very large dataset might have performance implications. You'll want to carefully consider the user experience and potentially implement additional optimizations, such as loading data incrementally, depending on the specific needs of your application."
      ],
      "metadata": {
        "id": "GO4AqbqiXlNG"
      }
    },
    {
      "cell_type": "markdown",
      "source": [
        "## Conclusion\n",
        "\n",
        "As you can see we end up with the scsript that allows us to read the csv file an present it as a treemap. Interestingly, we need to lead ChatGPT step by step so that it would split the path segments accross different columns in the dataframe by presenting it an example in step 2."
      ],
      "metadata": {
        "id": "tnXZxrj1XuPn"
      }
    },
    {
      "cell_type": "markdown",
      "source": [
        "# ChatGPT assisting with generating ascii art mazes"
      ],
      "metadata": {
        "id": "a16Rnzqdy0pk"
      }
    },
    {
      "cell_type": "markdown",
      "source": [
        "##1 The first prompt\n",
        "\n",
        "Write a python script that prints a maze using ascii characters in 10 x 10 cells. Each row is printed on a single line. You can enter the maze at the top and you have to find your way to the center. Use characters _ and | to make walls. Entrance at the top. Goal at the centre. You don't need to solve the maze. I will print and let my son solve it."
      ],
      "metadata": {
        "id": "ZRH56wxrzQYj"
      }
    },
    {
      "cell_type": "markdown",
      "source": [
        "## Response from ChatGPT\n",
        "\n",
        "Here's a simple Python script to generate a maze in 10x10 cells. I'll generate a simple spiral-like pattern which starts at the top and leads to the center, ensuring that the path is solvable for your son.\n",
        "\n",
        "```python\n",
        "def generate_maze(size):\n",
        "    maze = [[' ' for _ in range(size)] for _ in range(size)]\n",
        "\n",
        "    # Create outer boundary\n",
        "    for i in range(size):\n",
        "        maze[i][0] = '|'\n",
        "        maze[i][size-1] = '|'\n",
        "        maze[0][i] = '_'\n",
        "        maze[size-1][i] = '_'\n",
        "\n",
        "    # Create entrance\n",
        "    maze[0][1] = ' '\n",
        "\n",
        "    # Spiral pattern to reach the center\n",
        "    x, y = 1, 1\n",
        "    while x < size // 2 and y < size // 2:\n",
        "        # Right movement\n",
        "        for i in range(y, size - y):\n",
        "            maze[x][i] = '_'\n",
        "        \n",
        "        # Downward movement\n",
        "        for i in range(x, size - x):\n",
        "            maze[i][size - y - 1] = '|'\n",
        "        \n",
        "        # Left movement\n",
        "        for i in range(y + 1, size - y):\n",
        "            maze[size - x - 1][i] = '_'\n",
        "        \n",
        "        # Upward movement\n",
        "        for i in range(x + 1, size - x - 1):\n",
        "            maze[i][y] = '|'\n",
        "        \n",
        "        x += 2\n",
        "        y += 2\n",
        "\n",
        "    # Print the maze\n",
        "    for row in maze:\n",
        "        print(\"\".join(row))\n",
        "\n",
        "size = 10\n",
        "generate_maze(size)\n",
        "```\n",
        "\n",
        "This will generate a simple maze that spirals inward. Your son should enter from the top and make his way to the center. Have fun!"
      ],
      "metadata": {
        "id": "PBVTUwdszc1q"
      }
    },
    {
      "cell_type": "markdown",
      "source": [
        "## 2 Showing an exististing ascii art maze\n",
        "\n",
        "Nice but not exactly what I meant. Here is an example that use other ascii art. Can you generate something like this but bigger and random with challenging ways to find? My son is very smart!\n",
        "\n",
        "```\n",
        "___________________________________  \n",
        "| _____ |   | ___ | ___ ___ | |   | |\n",
        "| |   | |_| |__ | |_| __|____ | | | |\n",
        "| | | |_________|__ |______ |___|_| |\n",
        "| |_|   | _______ |______ |   | ____|\n",
        "| ___ | |____ | |______ | |_| |____ |\n",
        "|___|_|____ | |   ___ | |________ | |\n",
        "|   ________| | |__ | |______ | | | |\n",
        "| | | ________| | __|____ | | | __| |\n",
        "|_| |__ |   | __|__ | ____| | |_| __|\n",
        "|   ____| | |____ | |__ |   |__ |__ |\n",
        "| |_______|_______|___|___|___|_____|\n",
        "```\n",
        "\n"
      ],
      "metadata": {
        "id": "QMj5sGhlzySz"
      }
    },
    {
      "cell_type": "markdown",
      "source": [
        "## Response from ChatGPT\n",
        "\n",
        "Creating a random maze is a more complex task. The most common algorithm for generating random mazes is the recursive backtracking algorithm. Here's a basic description of the algorithm:\n",
        "\n",
        "1. Start at a random cell.\n",
        "2. Mark the current cell as visited, and get a list of its neighbors. For each neighbor, starting with a randomly selected neighbor:\n",
        "   1. If that neighbor hasn't been visited, remove the wall between this cell and the neighbor, and then recurse with that neighbor as the current cell.\n",
        "\n",
        "Now, let's implement the maze generation using this algorithm:\n",
        "\n",
        "```python\n",
        "import random\n",
        "\n",
        "WIDTH, HEIGHT = 10, 10\n",
        "VISITED = 2\n",
        "\n",
        "# Directions for moving\n",
        "N, S, E, W = 1, 2, 4, 8\n",
        "DX = { E: 1, W: -1, N: 0, S: 0 }\n",
        "DY = { E: 0, W: 0, N: -1, S: 1 }\n",
        "OPPOSITE = { E: W, W: E, N: S, S: N }\n",
        "\n",
        "def generate_maze():\n",
        "    maze = [[0 for _ in range(WIDTH)] for _ in range(HEIGHT)]\n",
        "    stack = [(random.randint(0, WIDTH-1), random.randint(0, HEIGHT-1))]\n",
        "\n",
        "    while len(stack) > 0:\n",
        "        x, y = stack[-1]\n",
        "        maze[y][x] |= VISITED\n",
        "\n",
        "        # Get unvisited neighbors\n",
        "        neighbors = []\n",
        "        for dir in [N, S, E, W]:\n",
        "            nx, ny = x + DX[dir], y + DY[dir]\n",
        "            if 0 <= nx < WIDTH and 0 <= ny < HEIGHT:\n",
        "                if not maze[ny][nx] & VISITED:\n",
        "                    neighbors.append(dir)\n",
        "\n",
        "        if len(neighbors) == 0:\n",
        "            # No neighbors, backtrack\n",
        "            stack.pop()\n",
        "        else:\n",
        "            # Pick a random direction and move\n",
        "            dir = random.choice(neighbors)\n",
        "            nx, ny = x + DX[dir], y + DY[dir]\n",
        "            maze[y][x] |= dir\n",
        "            maze[ny][nx] |= OPPOSITE[dir]\n",
        "            stack.append((nx, ny))\n",
        "\n",
        "    display_maze(maze)\n",
        "\n",
        "\n",
        "def display_maze(maze):\n",
        "    # Top border\n",
        "    print('_' * (2 * WIDTH))\n",
        "\n",
        "    # Display maze rows\n",
        "    for y in range(HEIGHT):\n",
        "        row = ['|']\n",
        "        for x in range(WIDTH):\n",
        "            if maze[y][x] & S != 0:\n",
        "                row.append(' ')\n",
        "            else:\n",
        "                row.append('_')\n",
        "            \n",
        "            if maze[y][x] & E != 0:\n",
        "                if maze[y][x] | maze[y][x+1] & S != 0:\n",
        "                    row.append(' ')\n",
        "                else:\n",
        "                    row.append('_')\n",
        "            else:\n",
        "                row.append('|')\n",
        "\n",
        "        print(''.join(row))\n",
        "\n",
        "\n",
        "generate_maze()\n",
        "```\n",
        "\n",
        "This will create a random maze of 10x10 cells using the recursive backtracking algorithm. The maze will be displayed using ASCII characters. The entrance will be at the top-left and the exit will be at the bottom-right, but you can move the entrance and exit to your preferred locations."
      ],
      "metadata": {
        "id": "eL6DdnFP0pxC"
      }
    },
    {
      "cell_type": "markdown",
      "source": [
        "##3 Prompts resolving errors\n",
        "\n",
        "3. I see a problem. Only top of the maze has a horizontal border. Otherwise only | occur. There are no _ characters. Did you make a mistake?\n",
        "\n",
        "4. Still not showing. If you are doing a bitwise AND operator and compare to zero (eg maze[y][x] & S != 0), shouldn't you use brackets? I believe the != takes precedence over the the & operator.\n",
        "\n",
        "5. Still not working. I believe there may be a problem with the maze generation as well. I have set the parameters to generate a 10x10 maze. This gives the following:\n",
        "\n",
        "```\n",
        " _ _ _ _ _ _ _ _ _ _\n",
        "|   |       |       |\n",
        "|   | | | | |     | |\n",
        "| | |   | |       | |\n",
        "|   |   |   |     | |\n",
        "|   |   |     | | | |\n",
        "| |   | |   |   | | |\n",
        "| | | |     | | |   |\n",
        "| | |       | | |   |\n",
        "| | | | | |   |   | |\n",
        "|       |           |\n",
        "The maze that was generate looks like this if I print(maze):\n",
        "[[6, 14, 14, 14, 10, 6, 14, 14, 14, 10], [3, 7, 10, 6, 15, 14, 11, 3, 6, 10], [7, 10, 3, 3, 6, 10, 3, 6, 11, 3], [6, 11, 3, 3, 3, 7, 10, 3, 6, 11], [3, 6, 11, 6, 11, 6, 11, 3, 6, 10], [3, 3, 3, 3, 2, 3, 3, 7, 10, 3], [6, 11, 3, 7, 11, 3, 7, 10, 7, 11], [3, 2, 3, 6, 11, 7, 14, 14, 10, 3], [3, 7, 11, 7, 10, 6, 10, 7, 14, 11], [7, 14, 14, 14, 15, 14, 15, 14, 14, 10]]\n",
        "\n",
        "```\n",
        "Can you see what is going wrong?"
      ],
      "metadata": {
        "id": "dEW2unRY1cMS"
      }
    },
    {
      "cell_type": "markdown",
      "source": [
        "## Response from ChatGPT\n",
        "\n",
        "(leaving out the intermediate responses)\n",
        "\n",
        "Alright, let's break it down. First, let's understand what's happening with the maze generation.\n",
        "\n",
        "The numbers in the generated maze are based on bitwise representation:\n",
        "\n",
        "1. `N` is represented by 1 (`0b0001`)\n",
        "2. `S` is represented by 2 (`0b0010`)\n",
        "3. `E` is represented by 4 (`0b0100`)\n",
        "4. `W` is represented by 8 (`0b1000`)\n",
        "5. `VISITED` is represented by 2 (`0b0010`), but it's the same as `S`. This won't affect the maze generation, but it's a potential source of confusion.\n",
        "\n",
        "The sum of these values for each cell denotes the paths available from that cell and whether the cell has been visited.\n",
        "\n",
        "Let's address the issue:\n",
        "\n",
        "1. The `VISITED` flag should not conflict with our direction flags. Let's change its value.\n",
        "2. Let's make sure our maze carving (i.e., removing walls) is done correctly.\n",
        "3. Lastly, we'll ensure that our maze display logic accurately reflects the maze data.\n",
        "\n",
        "Here's the updated and corrected code:\n",
        "\n",
        "```python\n",
        "import random\n",
        "\n",
        "WIDTH, HEIGHT = 10, 10\n",
        "VISITED = 16  # Changed the VISITED flag\n",
        "\n",
        "# Directions for moving\n",
        "N, S, E, W = 1, 2, 4, 8\n",
        "DX = { E: 1, W: -1, N: 0, S: 0 }\n",
        "DY = { E: 0, W: 0, N: -1, S: 1 }\n",
        "OPPOSITE = { E: W, W: E, N: S, S: N }\n",
        "\n",
        "def generate_maze():\n",
        "    maze = [[0 for _ in range(WIDTH)] for _ in range(HEIGHT)]\n",
        "    stack = [(random.randint(0, WIDTH-1), random.randint(0, HEIGHT-1))]\n",
        "\n",
        "    while len(stack) > 0:\n",
        "        x, y = stack[-1]\n",
        "        maze[y][x] |= VISITED\n",
        "\n",
        "        # Get unvisited neighbors\n",
        "        neighbors = []\n",
        "        for dir in [N, S, E, W]:\n",
        "            nx, ny = x + DX[dir], y + DY[dir]\n",
        "            if 0 <= nx < WIDTH and 0 <= ny < HEIGHT:\n",
        "                if not maze[ny][nx] & VISITED:\n",
        "                    neighbors.append(dir)\n",
        "\n",
        "        if len(neighbors) == 0:\n",
        "            # No neighbors, backtrack\n",
        "            stack.pop()\n",
        "        else:\n",
        "            # Pick a random direction and move\n",
        "            dir = random.choice(neighbors)\n",
        "            nx, ny = x + DX[dir], y + DY[dir]\n",
        "            maze[y][x] |= dir\n",
        "            maze[ny][nx] |= OPPOSITE[dir]\n",
        "            stack.append((nx, ny))\n",
        "\n",
        "    display_maze(maze)\n",
        "    return maze\n",
        "\n",
        "def display_maze(maze):\n",
        "    # Top border\n",
        "    print(' _' * WIDTH)\n",
        "\n",
        "    # Display maze rows\n",
        "    for y in range(HEIGHT):\n",
        "        row = ['|']\n",
        "        for x in range(WIDTH):\n",
        "            if (maze[y][x] & S) != 0:\n",
        "                row.append(' ')\n",
        "            else:\n",
        "                row.append('_')\n",
        "            \n",
        "            if (maze[y][x] & E) != 0:\n",
        "                if ((x+1) < WIDTH and (maze[y][x+1] & S) != 0) or (maze[y][x] & S) != 0:\n",
        "                    row.append(' ')\n",
        "                else:\n",
        "                    row.append('_')\n",
        "            else:\n",
        "                row.append('|')\n",
        "        print(''.join(row))\n",
        "\n",
        "maze = generate_maze()\n",
        "print(maze)\n",
        "```\n",
        "\n",
        "With these corrections, the maze generation should work correctly, and you should be able to see a proper maze representation with both `|` and `_` characters."
      ],
      "metadata": {
        "id": "35Flt1ZK1-9q"
      }
    },
    {
      "cell_type": "markdown",
      "source": [
        "## 6 Prompts for fixing the entry and exit\n",
        "\n",
        "6. Nice. Here is the output:\n",
        "\n",
        "```\n",
        " _ _ _ _ _ _ _ _ _ _\n",
        "|  _______|  _____  |\n",
        "| |  _________|   | |\n",
        "| | |  _  |   | |___|\n",
        "| |___| | | | | |_  |\n",
        "|  _  |  _|_|___|  _|\n",
        "| |  _| |___    |   |\n",
        "| |_____|  ___| |_| |\n",
        "| |  _  | |  _|___  |\n",
        "| | | |___|   |  ___|\n",
        "|___|_______|_______|\n",
        "[[22, 28, 28, 28, 24, 22, 28, 28, 28, 26], [19, 22, 28, 28, 28, 29, 24, 22, 26, 19], [19, 19, 22, 28, 26, 22, 26, 19, 21, 25], [19, 21, 25, 18, 19, 19, 19, 19, 20, 26], [23, 28, 26, 23, 25, 17, 21, 25, 22, 25], [19, 22, 25, 19, 20, 28, 30, 26, 23, 26], [19, 21, 28, 25, 22, 28, 25, 19, 17, 19], [19, 22, 28, 26, 19, 22, 24, 21, 28, 27], [19, 19, 18, 21, 25, 23, 26, 22, 28, 25], [21, 25, 21, 28, 28, 25, 21, 29, 28, 24]]\n",
        "\n",
        "```\n",
        "But there is no entrance in the top left and not exit on the bottom right.\n",
        "\n",
        "7. I noticed that the northern wall isn't printed by checking N. So this fix doesn't work\n",
        "\n",
        "8. Hmmm. W isn't checked either"
      ],
      "metadata": {
        "id": "1R2UNlmQ2TGL"
      }
    },
    {
      "cell_type": "markdown",
      "source": [
        "## Response from ChatGPT\n",
        "\n",
        "My apologies for the oversight. You're right; the western walls are implicitly formed by the initial construction of the `row` with `'|'` and don't rely on checking the `W` direction flag.\n",
        "\n",
        "To ensure an entrance at the top-left and an exit at the bottom-right, we'll adjust the display logic.\n",
        "\n",
        "```python\n",
        "def display_maze(maze):\n",
        "    # Top border\n",
        "    print(' _' * WIDTH)\n",
        "\n",
        "    # Display maze rows\n",
        "    for y in range(HEIGHT):\n",
        "        if y == 0:  # for the entrance at top-left\n",
        "            row = [' ']\n",
        "        else:\n",
        "            row = ['|']\n",
        "\n",
        "        for x in range(WIDTH):\n",
        "            if (maze[y][x] & S) != 0:\n",
        "                row.append(' ')\n",
        "            else:\n",
        "                row.append('_')\n",
        "            \n",
        "            if x == WIDTH-1 and y == HEIGHT-1:  # for the exit at bottom-right\n",
        "                row.append(' ')\n",
        "            elif (maze[y][x] & E) != 0:\n",
        "                if ((x+1) < WIDTH and (maze[y][x+1] & S) != 0) or (maze[y][x] & S) != 0:\n",
        "                    row.append(' ')\n",
        "                else:\n",
        "                    row.append('_')\n",
        "            else:\n",
        "                row.append('|')\n",
        "        print(''.join(row))\n",
        "```\n",
        "\n",
        "With this change, the maze will have an entrance at the top-left (no western wall for the first cell) and an exit at the bottom-right (no eastern wall for the last cell)."
      ],
      "metadata": {
        "id": "65B4aZVw3JmU"
      }
    },
    {
      "cell_type": "markdown",
      "source": [
        "## 7 Prompt on finding the best path from entry to exit\n",
        "\n",
        "When you create the maze, can you keep track of the shortest path from the top left cell to the bottom right?"
      ],
      "metadata": {
        "id": "PznUTTs93hNT"
      }
    },
    {
      "cell_type": "markdown",
      "source": [
        "## Response from ChatGPT\n",
        "\n",
        "Yes, certainly! To track the shortest path, we can use a simple breadth-first search (BFS) once the maze is generated. Here's how to do it:\n",
        "\n",
        "1. From the start (top-left) position, queue it and begin the BFS. The queue will keep track of positions and their distance from the start.\n",
        "2. For each dequeued position, visit its unvisited neighboring cells and enqueue them with an incremented distance.\n",
        "3. Continue until the target position (bottom-right) is dequeued. This will give us the shortest path.\n",
        "\n",
        "Let's incorporate this into the existing maze generation code:\n",
        "\n",
        "```python\n",
        "from collections import deque\n",
        "\n",
        "# ... [rest of the previous code remains unchanged]\n",
        "\n",
        "def bfs_shortest_path(maze):\n",
        "    start = (0, 0)\n",
        "    target = (HEIGHT - 1, WIDTH - 1)\n",
        "\n",
        "    visited = set()\n",
        "    queue = deque([(start, [start])])  # each item in the queue is a tuple (position, path_so_far)\n",
        "\n",
        "    while queue:\n",
        "        (x, y), path = queue.popleft()\n",
        "\n",
        "        if (x, y) == target:\n",
        "            return path\n",
        "\n",
        "        for dir in [N, S, E, W]:\n",
        "            nx, ny = x + DX[dir], y + DY[dir]\n",
        "\n",
        "            if 0 <= nx < WIDTH and 0 <= ny < HEIGHT:\n",
        "                if (nx, ny) not in visited and (maze[y][x] & dir):\n",
        "                    visited.add((nx, ny))\n",
        "                    new_path = list(path)\n",
        "                    new_path.append((nx, ny))\n",
        "                    queue.append(((nx, ny), new_path))\n",
        "\n",
        "    return []\n",
        "\n",
        "# After generating the maze\n",
        "maze = generate_maze()\n",
        "shortest_path = bfs_shortest_path(maze)\n",
        "print(\"Shortest Path:\", shortest_path)\n",
        "```\n",
        "\n",
        "This BFS search will give you the list of positions forming the shortest path from the top-left to the bottom-right of the maze."
      ],
      "metadata": {
        "id": "isdP57Cv3ntD"
      }
    },
    {
      "cell_type": "markdown",
      "source": [
        "## 8 Prompt drawing shortest path\n",
        "\n",
        "Nice. Can you create a functinon draw_maze_solution taking the maze and the shortest path and that draws the maze, changing the background color of the cells that are visited in the shortest path to blue?"
      ],
      "metadata": {
        "id": "QUR1b32A3sIa"
      }
    },
    {
      "cell_type": "markdown",
      "source": [
        "## Response from ChatGPT\n",
        "\n",
        "summary: ChapGPT proposes to use colorama. Unfortunately that's not working in Google Colab. So we take a different approach. See next prompt"
      ],
      "metadata": {
        "id": "I07Vgwn433zr"
      }
    },
    {
      "cell_type": "markdown",
      "source": [
        "## 9 Prompt shortes path drawing with alternative ascii-art\n",
        "\n",
        "I'm  using Google colab an colorama isn't working. Can you suggest some alternative ascii art solution to visualise the shortest path using different characters to replace | and _ while still giving the impression they are still there but with a special effect indicating the shortest path?"
      ],
      "metadata": {
        "id": "diwmN_Q84Itz"
      }
    },
    {
      "cell_type": "markdown",
      "source": [
        "Certainly! Google Colab doesn't support ANSI escape codes for colored output in its cells, so using ASCII art is a practical approach.\n",
        "\n",
        "We can use a convention where characters along the shortest path can be represented with bold or standout characters.\n",
        "\n",
        "Here's one way to do it:\n",
        "\n",
        "1. Replace `|` with `!` and `_` with `=` if they are on the path.\n",
        "2. For spaces on the path, use a character like `·` to denote the path's presence.\n",
        "\n",
        "Let's adjust the `draw_maze_solution` function accordingly:\n",
        "\n",
        "```python\n",
        "def draw_maze_solution(maze, path):\n",
        "    # Top border\n",
        "    if (0, 0) in path:\n",
        "        print(' =' + ' _' * (WIDTH - 1))\n",
        "    else:\n",
        "        print(' _' * WIDTH)\n",
        "\n",
        "    # Display maze rows\n",
        "    for y in range(HEIGHT):\n",
        "        row = []\n",
        "\n",
        "        if y == 0:  # for the entrance at top-left\n",
        "            if (0, 0) in path:\n",
        "                row.append('·')\n",
        "            else:\n",
        "                row.append(' ')\n",
        "        else:\n",
        "            if (0, y) in path:\n",
        "                row.append('!')\n",
        "            else:\n",
        "                row.append('|')\n",
        "\n",
        "        for x in range(WIDTH):\n",
        "            on_path = (x, y) in path\n",
        "\n",
        "            if (maze[y][x] & S) != 0:\n",
        "                row.append('·' if on_path else ' ')\n",
        "            else:\n",
        "                row.append('=' if on_path else '_')\n",
        "            \n",
        "            if x == WIDTH - 1:  # Rightmost column\n",
        "                if y == HEIGHT - 1:  # Exit\n",
        "                    row.append('·' if on_path else ' ')\n",
        "                else:\n",
        "                    row.append('!' if on_path else '|')\n",
        "            else:\n",
        "                if (maze[y][x] & E) != 0:\n",
        "                    if ((x + 1) < WIDTH and (maze[y][x + 1] & S) != 0) or (maze[y][x] & S) != 0:\n",
        "                        row.append('·' if on_path else ' ')\n",
        "                    else:\n",
        "                        row.append('=' if on_path else '_')\n",
        "                else:\n",
        "                    row.append('!' if on_path else '|')\n",
        "\n",
        "        print(''.join(row))\n",
        "\n",
        "# ... Generate maze and get the shortest path...\n",
        "\n",
        "draw_maze_solution(maze, shortest_path)\n",
        "```\n",
        "\n",
        "This will use the characters `!`, `=`, and `·` to visualize the shortest path in the maze."
      ],
      "metadata": {
        "id": "QiZ_z8PK4R4r"
      }
    },
    {
      "cell_type": "markdown",
      "source": [
        "## Complete code for generating and drawing ascii-art mazes"
      ],
      "metadata": {
        "id": "DupN4xsC4btj"
      }
    },
    {
      "cell_type": "code",
      "source": [
        "import random\n",
        "\n",
        "WIDTH, HEIGHT = 40, 40\n",
        "VISITED = 16  # Changed the VISITED flag\n",
        "\n",
        "# Directions for moving\n",
        "N, S, E, W = 1, 2, 4, 8\n",
        "DX = { E: 1, W: -1, N: 0, S: 0 }\n",
        "DY = { E: 0, W: 0, N: -1, S: 1 }\n",
        "OPPOSITE = { E: W, W: E, N: S, S: N }\n",
        "\n",
        "def generate_maze():\n",
        "    maze = [[0 for _ in range(WIDTH)] for _ in range(HEIGHT)]\n",
        "    stack = [(random.randint(0, WIDTH-1), random.randint(0, HEIGHT-1))]\n",
        "\n",
        "    while len(stack) > 0:\n",
        "        x, y = stack[-1]\n",
        "        maze[y][x] |= VISITED\n",
        "\n",
        "        # Get unvisited neighbors\n",
        "        neighbors = []\n",
        "        for dir in [N, S, E, W]:\n",
        "            nx, ny = x + DX[dir], y + DY[dir]\n",
        "            if 0 <= nx < WIDTH and 0 <= ny < HEIGHT:\n",
        "                if not maze[ny][nx] & VISITED:\n",
        "                    neighbors.append(dir)\n",
        "\n",
        "        if len(neighbors) == 0:\n",
        "            # No neighbors, backtrack\n",
        "            stack.pop()\n",
        "        else:\n",
        "            # Pick a random direction and move\n",
        "            dir = random.choice(neighbors)\n",
        "            nx, ny = x + DX[dir], y + DY[dir]\n",
        "            maze[y][x] |= dir\n",
        "            maze[ny][nx] |= OPPOSITE[dir]\n",
        "            stack.append((nx, ny))\n",
        "\n",
        "    # Ensure entrance and exit\n",
        "    # Ensure entrance and exit\n",
        "    maze[0][0] &= ~W   # Clear the western wall of the top-left cell\n",
        "    maze[HEIGHT-1][WIDTH-1] &= ~E  # Clear the eastern wall of the bottom-right cell\n",
        "\n",
        "    display_maze(maze)\n",
        "    return maze\n",
        "\n",
        "def display_maze(maze):\n",
        "    # Top border\n",
        "    print(' _' * WIDTH)\n",
        "\n",
        "    # Display maze rows\n",
        "    for y in range(HEIGHT):\n",
        "        if y == 0:  # for the entrance at top-left\n",
        "            row = [' ']\n",
        "        else:\n",
        "            row = ['|']\n",
        "\n",
        "        for x in range(WIDTH):\n",
        "            if (maze[y][x] & S) != 0:\n",
        "                row.append(' ')\n",
        "            else:\n",
        "                row.append('_')\n",
        "\n",
        "            if x == WIDTH-1 and y == HEIGHT-1:  # for the exit at bottom-right\n",
        "                row.append(' ')\n",
        "            elif (maze[y][x] & E) != 0:\n",
        "                if ((x+1) < WIDTH and (maze[y][x+1] & S) != 0) or (maze[y][x] & S) != 0:\n",
        "                    row.append(' ')\n",
        "                else:\n",
        "                    row.append('_')\n",
        "            else:\n",
        "                row.append('|')\n",
        "        print(''.join(row))\n",
        "\n",
        "\n",
        "maze = generate_maze()\n"
      ],
      "metadata": {
        "colab": {
          "base_uri": "https://localhost:8080/"
        },
        "id": "ZVyY2ceWXFiL",
        "outputId": "2b14598b-e45b-4199-a20d-86e24a194f0e"
      },
      "execution_count": 3,
      "outputs": [
        {
          "output_type": "stream",
          "name": "stdout",
          "text": [
            " _ _ _ _ _ _ _ _ _ _ _ _ _ _ _ _ _ _ _ _ _ _ _ _ _ _ _ _ _ _ _ _ _ _ _ _ _ _ _ _\n",
            "   ___  |      ___|  _________   ___|  ___     _____  |   |   |   |___  |  ___  |\n",
            "| |  _  | | |_|  ___| |   |   |   |  _| |  _| |   |_____|___|___|___  |_  |  _| |\n",
            "| |_  | | |_  | |_______| | | |_| |  ___| |  _| |_____________  |  _|_  |_  |   |\n",
            "|_  | |_| | |___|  _  |   | |_  | | |  ___|_  | |_____    |_  | |  _____|___| | |\n",
            "| | |_____|_    | |  _| |_|_  |___| |_  | |  _| |  _  | | |   | |_   _________|_|\n",
            "|  _|  _______|___| |_      |_______| | | |  _|___| |___| | | | |___|  ___  |   |\n",
            "| |  _|_____    | |_  | | |_|    _____| | | |  _____  |  _| | |_______|_  | | | |\n",
            "|___|    _____| |  _| | |___  |_  |  ___|  _| | |  ___| |  _|___  |  _  | |___| |\n",
            "|  ___|_  |_______|  _|_|   |___| | |_  | |  _| | |   |___|_    | | | |_  |  ___|\n",
            "| |___  |_______   _|  ___|___  | |_  |___| |_  | | |_   _____| |_  |___  |___  |\n",
            "|_   ___|  ___  |_____|  ___  |_  | | |   |___  |_____|_____  |_|  _|   |_|  ___|\n",
            "| | |   | |  _| |    _| |  _|_  | | |___| |  ___|  _|  ___   _|  _|  _|_  |_    |\n",
            "| | | |___|  ___| |_____|_    |_____|   | | |_    |  _|   |_|  _| |_  |___  |_| |\n",
            "| | | |_   _|  ___|   |   | | |  _____| |___  |_| |_____|_____|_    |___  |___  |\n",
            "| | |_  | |  _|  ___|___|___| |_  |  _|_  |  _______  |   |  _  | | |  ___|   | |\n",
            "|  _|  _| | |_____  | |  _  |  _| |  _____|_|  _  |_____|___|___  |_| |   | | | |\n",
            "|_  | | | |_  |  ___| |_  |___|  _|_  |     | | | |  _  |  ___  |_|   | | | | |_|\n",
            "|  _| |  _| |___| |  _________| |_  | | | |___|  _|_  |___|  _| |  _|_| |___|_  |\n",
            "|___| | |_____  |  _|   | |  ___|   | |_| |_  | |   |_  |_  |  _|  _____|   |   |\n",
            "|   | |_____  |  _|_  | | |_  |   | |_  | |  _|___|_____|   | |_____  | | |___| |\n",
            "| | |_____  | | |   | |  ___| | | |  _|___|_  |  _______  | |___  |___  | | |  _|\n",
            "| |_  |   | | |___|___|_|    _|_| |_|  _   ___| |_____  | |_____|_  |_  | | |_  |\n",
            "|   |___|___|___  |  _  | |_|   |   | | | |   |_  |  _  |_  |  _  |_  |_| |  ___|\n",
            "| |_  |  ___________|_____|  _| |_| | | |___|___   _|_  | | | | |_________| |_  |\n",
            "| |   |___|  ___________  |_  |_  |_____|  ___  | |   |___|_   _____|   |  _|   |\n",
            "| | |_|  ___|     |_    | |  _| | |  _____|_  | |_| | |  _  |_|  ___  | |_____|_|\n",
            "| |_  | |  ___| | |  _| |___|   | |_________  |_____|___|   |  _|   |_|_  |  _  |\n",
            "|_  |___|___|  _|___|  _|_   _| |_____   _  | |___  |  ___|_|_  |_| |   | |  _| |\n",
            "| | |    _____|  _  | |  ___|___   ___| |___|___  | |___________| |___| |  _|  _|\n",
            "|  _|_| |   |_  | | |  _|  _  |___|    _|    ___|_______  |_   _|     | |_|  _| |\n",
            "|___  |_  |_  |___|___|  ___| |  ___| |  _| |  _   ___  |_  |_   _| | |_  | |   |\n",
            "|   |_  |___| |  _______|  _  | |   |_|_  |_____|___  | | |_  |___| |_  |___|_| |\n",
            "| |_  |___  |_____|  _____| | |___| |   | |_  |  _____| | |  _|  ___| |_____  | |\n",
            "| | |_    | |  _  |_  | |   |_  | |___|_______|_  |   |_  | |  _|_   ___  | | | |\n",
            "|_  |  _|_| | |_______|___| |  _|_   _  |  _______| |_|  _| | |  ___|_   _| | | |\n",
            "|  _| |  ___| |  _______  | |___  | |  _|_____  |   |  _| |___|_  |   |_   _|_  |\n",
            "| |   |___  |___  |   |  _|_    | |_|     |   | | |_|_  | |  _    | | |___|   | |\n",
            "| | |___  |___  |___|_|   |  _| |_  | | |_| | | |  _______|_  | | | |_______|___|\n",
            "| | |_____|   | |  _  |_| | |___|  _|_| |  _|___|_|  ___  |  _| |_|___  |   |_  |\n",
            "|_|_________|_____|_______|_____________|_______________|_____|___________|_____ \n"
          ]
        }
      ]
    },
    {
      "cell_type": "markdown",
      "source": [
        "## Finding the shortest path using a breadth-first-search"
      ],
      "metadata": {
        "id": "CDpQYLfl43TL"
      }
    },
    {
      "cell_type": "code",
      "source": [
        "from collections import deque\n",
        "\n",
        "# ... [rest of the previous code remains unchanged]\n",
        "\n",
        "def bfs_shortest_path(maze):\n",
        "    start = (0, 0)\n",
        "    target = (HEIGHT - 1, WIDTH - 1)\n",
        "\n",
        "    visited = set()\n",
        "    queue = deque([(start, [start])])  # each item in the queue is a tuple (position, path_so_far)\n",
        "\n",
        "    while queue:\n",
        "        (x, y), path = queue.popleft()\n",
        "\n",
        "        if (x, y) == target:\n",
        "            return path\n",
        "\n",
        "        for dir in [N, S, E, W]:\n",
        "            nx, ny = x + DX[dir], y + DY[dir]\n",
        "\n",
        "            if 0 <= nx < WIDTH and 0 <= ny < HEIGHT:\n",
        "                if (nx, ny) not in visited and (maze[y][x] & dir):\n",
        "                    visited.add((nx, ny))\n",
        "                    new_path = list(path)\n",
        "                    new_path.append((nx, ny))\n",
        "                    queue.append(((nx, ny), new_path))\n",
        "\n",
        "    return []\n",
        "\n",
        "shortest_path = bfs_shortest_path(maze)\n",
        "print(\"Shortest Path:\", shortest_path)\n"
      ],
      "metadata": {
        "id": "grKZGq8p48aR",
        "outputId": "65e2af35-6aca-46ff-ee4c-ea668fef66fa",
        "colab": {
          "base_uri": "https://localhost:8080/"
        }
      },
      "execution_count": 4,
      "outputs": [
        {
          "output_type": "stream",
          "name": "stdout",
          "text": [
            "Shortest Path: [(0, 0), (1, 0), (2, 0), (3, 0), (3, 1), (2, 1), (1, 1), (1, 2), (2, 2), (2, 3), (2, 4), (3, 4), (4, 4), (4, 3), (4, 2), (4, 1), (4, 0), (5, 0), (5, 1), (5, 2), (6, 2), (6, 3), (7, 3), (7, 2), (7, 1), (8, 1), (9, 1), (9, 0), (10, 0), (11, 0), (12, 0), (13, 0), (14, 0), (15, 0), (15, 1), (16, 1), (16, 2), (16, 3), (16, 4), (15, 4), (15, 3), (14, 3), (14, 2), (14, 1), (13, 1), (13, 2), (13, 3), (13, 4), (14, 4), (14, 5), (15, 5), (16, 5), (17, 5), (17, 4), (17, 3), (17, 2), (17, 1), (18, 1), (18, 0), (19, 0), (20, 0), (21, 0), (21, 1), (20, 1), (20, 2), (20, 3), (19, 3), (18, 3), (18, 4), (19, 4), (19, 5), (19, 6), (19, 7), (18, 7), (17, 7), (17, 8), (17, 9), (18, 9), (18, 10), (18, 11), (19, 11), (19, 10), (20, 10), (20, 11), (20, 12), (20, 13), (21, 13), (21, 12), (21, 11), (22, 11), (23, 11), (23, 10), (22, 10), (21, 10), (21, 9), (21, 8), (22, 8), (22, 7), (22, 6), (23, 6), (24, 6), (25, 6), (26, 6), (26, 7), (25, 7), (24, 7), (24, 8), (24, 9), (24, 10), (25, 10), (25, 9), (25, 8), (26, 8), (26, 9), (27, 9), (27, 10), (28, 10), (29, 10), (30, 10), (30, 11), (29, 11), (28, 11), (27, 11), (26, 11), (26, 12), (25, 12), (25, 13), (26, 13), (27, 13), (27, 12), (28, 12), (28, 13), (29, 13), (30, 13), (30, 12), (31, 12), (31, 11), (32, 11), (32, 10), (33, 10), (33, 9), (32, 9), (32, 8), (32, 7), (31, 7), (30, 7), (30, 6), (30, 5), (30, 4), (29, 4), (29, 5), (29, 6), (29, 7), (28, 7), (28, 8), (27, 8), (27, 7), (27, 6), (28, 6), (28, 5), (28, 4), (28, 3), (27, 3), (27, 4), (27, 5), (26, 5), (26, 4), (25, 4), (24, 4), (24, 5), (23, 5), (23, 4), (23, 3), (23, 2), (23, 1), (24, 1), (24, 2), (25, 2), (26, 2), (27, 2), (28, 2), (29, 2), (30, 2), (31, 2), (31, 3), (31, 4), (31, 5), (31, 6), (32, 6), (33, 6), (34, 6), (34, 5), (35, 5), (36, 5), (37, 5), (37, 6), (37, 7), (38, 7), (38, 6), (38, 5), (39, 5), (39, 6), (39, 7), (39, 8), (38, 8), (37, 8), (37, 9), (38, 9), (39, 9), (39, 10), (38, 10), (37, 10), (37, 11), (38, 11), (39, 11), (39, 12), (39, 13), (38, 13), (37, 13), (37, 12), (36, 12), (36, 11), (35, 11), (35, 10), (34, 10), (34, 11), (33, 11), (33, 12), (34, 12), (34, 13), (35, 13), (36, 13), (36, 14), (35, 14), (34, 14), (34, 15), (34, 16), (33, 16), (33, 17), (32, 17), (32, 18), (33, 18), (34, 18), (35, 18), (35, 17), (35, 16), (35, 15), (36, 15), (36, 16), (36, 17), (37, 17), (37, 16), (37, 15), (37, 14), (38, 14), (38, 15), (38, 16), (38, 17), (39, 17), (39, 18), (38, 18), (38, 19), (37, 19), (37, 18), (36, 18), (36, 19), (36, 20), (36, 21), (36, 22), (36, 23), (35, 23), (34, 23), (34, 22), (33, 22), (33, 21), (32, 21), (32, 20), (31, 20), (30, 20), (30, 19), (30, 18), (31, 18), (31, 17), (31, 16), (30, 16), (29, 16), (28, 16), (28, 17), (27, 17), (27, 16), (26, 16), (25, 16), (25, 17), (26, 17), (26, 18), (27, 18), (27, 19), (26, 19), (25, 19), (25, 18), (24, 18), (24, 19), (23, 19), (23, 18), (23, 17), (24, 17), (24, 16), (24, 15), (23, 15), (22, 15), (22, 16), (22, 17), (21, 17), (21, 16), (20, 16), (20, 17), (20, 18), (20, 19), (20, 20), (19, 20), (19, 19), (18, 19), (18, 18), (18, 17), (18, 16), (17, 16), (17, 15), (18, 15), (19, 15), (20, 15), (20, 14), (19, 14), (19, 13), (19, 12), (18, 12), (18, 13), (17, 13), (16, 13), (15, 13), (15, 14), (16, 14), (16, 15), (16, 16), (15, 16), (15, 17), (15, 18), (14, 18), (13, 18), (13, 19), (14, 19), (14, 20), (14, 21), (13, 21), (12, 21), (12, 22), (12, 23), (11, 23), (11, 22), (10, 22), (9, 22), (9, 23), (8, 23), (8, 22), (7, 22), (6, 22), (6, 21), (6, 20), (6, 19), (5, 19), (4, 19), (3, 19), (3, 18), (3, 17), (4, 17), (4, 16), (4, 15), (4, 14), (4, 13), (5, 13), (5, 12), (6, 12), (7, 12), (7, 11), (7, 10), (6, 10), (5, 10), (4, 10), (4, 11), (4, 12), (3, 12), (3, 11), (2, 11), (2, 12), (2, 13), (2, 14), (3, 14), (3, 15), (2, 15), (2, 16), (2, 17), (2, 18), (2, 19), (2, 20), (3, 20), (4, 20), (5, 20), (5, 21), (5, 22), (4, 22), (4, 21), (3, 21), (3, 22), (2, 22), (2, 21), (1, 21), (1, 20), (1, 19), (0, 19), (0, 20), (0, 21), (0, 22), (1, 22), (1, 23), (2, 23), (2, 24), (1, 24), (1, 25), (1, 26), (2, 26), (2, 27), (3, 27), (3, 26), (3, 25), (4, 25), (5, 25), (5, 24), (6, 24), (7, 24), (8, 24), (9, 24), (10, 24), (11, 24), (12, 24), (12, 25), (12, 26), (13, 26), (13, 25), (14, 25), (14, 24), (13, 24), (13, 23), (14, 23), (14, 22), (15, 22), (15, 23), (15, 24), (16, 24), (16, 25), (16, 26), (16, 27), (17, 27), (18, 27), (19, 27), (19, 28), (19, 29), (18, 29), (17, 29), (17, 30), (16, 30), (15, 30), (15, 31), (15, 32), (16, 32), (16, 31), (17, 31), (17, 32), (17, 33), (18, 33), (18, 32), (19, 32), (19, 33), (20, 33), (20, 32), (20, 31), (19, 31), (19, 30), (20, 30), (20, 29), (21, 29), (21, 30), (21, 31), (22, 31), (22, 30), (23, 30), (24, 30), (24, 31), (25, 31), (26, 31), (26, 32), (25, 32), (24, 32), (23, 32), (23, 33), (24, 33), (24, 34), (23, 34), (22, 34), (21, 34), (20, 34), (20, 35), (21, 35), (22, 35), (23, 35), (23, 36), (23, 37), (23, 38), (22, 38), (22, 37), (22, 36), (21, 36), (21, 37), (21, 38), (20, 38), (20, 39), (21, 39), (22, 39), (23, 39), (24, 39), (25, 39), (25, 38), (26, 38), (27, 38), (28, 38), (28, 39), (29, 39), (29, 38), (30, 38), (30, 37), (29, 37), (29, 36), (30, 36), (31, 36), (31, 37), (31, 38), (31, 39), (32, 39), (33, 39), (34, 39), (35, 39), (36, 39), (36, 38), (37, 38), (37, 39), (38, 39), (39, 39)]\n"
          ]
        }
      ]
    },
    {
      "cell_type": "markdown",
      "source": [
        "## Drawing the maze with shortest path in alternative ascii-art"
      ],
      "metadata": {
        "id": "iHl0NGq05VCi"
      }
    },
    {
      "cell_type": "code",
      "source": [
        "def draw_maze_solution(maze, path):\n",
        "    # Top border\n",
        "    if (0, 0) in path:\n",
        "        print(' =' + ' _' * (WIDTH - 1))\n",
        "    else:\n",
        "        print(' _' * WIDTH)\n",
        "\n",
        "    # Display maze rows\n",
        "    for y in range(HEIGHT):\n",
        "        row = []\n",
        "\n",
        "        if y == 0:  # for the entrance at top-left\n",
        "            if (0, 0) in path:\n",
        "                row.append('·')\n",
        "            else:\n",
        "                row.append(' ')\n",
        "        else:\n",
        "            if (0, y) in path:\n",
        "                row.append('!')\n",
        "            else:\n",
        "                row.append('|')\n",
        "\n",
        "        for x in range(WIDTH):\n",
        "            on_path = (x, y) in path\n",
        "\n",
        "            if (maze[y][x] & S) != 0:\n",
        "                row.append('·' if on_path else ' ')\n",
        "            else:\n",
        "                row.append('=' if on_path else '_')\n",
        "\n",
        "            if x == WIDTH - 1:  # Rightmost column\n",
        "                if y == HEIGHT - 1:  # Exit\n",
        "                    row.append('·' if on_path else ' ')\n",
        "                else:\n",
        "                    row.append('!' if on_path else '|')\n",
        "            else:\n",
        "                if (maze[y][x] & E) != 0:\n",
        "                    if ((x + 1) < WIDTH and (maze[y][x + 1] & S) != 0) or (maze[y][x] & S) != 0:\n",
        "                        row.append('·' if on_path else ' ')\n",
        "                    else:\n",
        "                        row.append('=' if on_path else '_')\n",
        "                else:\n",
        "                    row.append('!' if on_path else '|')\n",
        "\n",
        "        print(''.join(row))\n",
        "\n",
        "# ... Generate maze and get the shortest path...\n",
        "\n",
        "draw_maze_solution(maze, shortest_path)\n"
      ],
      "metadata": {
        "id": "mr8ru50j5Z4b",
        "outputId": "5ead5a9e-6764-4d67-c67b-8aa952ce470f",
        "colab": {
          "base_uri": "https://localhost:8080/"
        }
      },
      "execution_count": 5,
      "outputs": [
        {
          "output_type": "stream",
          "name": "stdout",
          "text": [
            " = _ _ _ _ _ _ _ _ _ _ _ _ _ _ _ _ _ _ _ _ _ _ _ _ _ _ _ _ _ _ _ _ _ _ _ _ _ _ _\n",
            "···===··!····  ___|··=========···___|··===···  _____  |   |   |   |___  |  ___  |\n",
            "| |··=··!·!·!_|··===! |   |···!···!··=! |··=! |···!_____|___|___|___  |_  |  _| |\n",
            "| |=··! |·!=··!·!_______| |·!·!_|·!··___|·!  _|·!=============··!  _|_  |_  |   |\n",
            "|_  |·!_|·! |===!  _  |   |·!=··!·!·!··===!_  |·!_____ ···!_  |·!  _____|___| | |\n",
            "| | |=====!_    | |  _| |_|=··!===!·!=··! |  _|·!··=··!·!·!···!·!_   _________|_|\n",
            "|  _|  _______|___| |_      |=======! |·! |  _|===! |===!·!·!·!·!___|··===··!···!\n",
            "| |  _|_____    | |_  | | |_|    _____|·! | |··=====··!··=!·!·!=======!_  |·!·!·!\n",
            "|___|    _____| |  _| | |___  |_  |··===!  _|·! |··===!·!··=!===··!  _  | |===!·!\n",
            "|  ___|_  |_______|  _|_|   |___| |·!_  | |··=! |·!···!===!_    |·! | |_  |··===!\n",
            "| |___  |_______   _|  ___|___  | |=··!___|·!_  |·!·!=···_____| |=··!___  |===··!\n",
            "|_   ___|··===··!_____|  ___  |_  | |·!···!===··!====_|=====··!_|··=!···!_|··===!\n",
            "| | |···!·!  _|·!    _| |  _|_  | | |===!·!··===!  _|··===···=!··=!··=!=··!=····!\n",
            "| | |·!===!··===! |_____|_    |_____|···!·!·!_    |··=!···!_|··=! |=··!__=··!_|·!\n",
            "| | |·!_ ··=!  ___|   |   | | |··=====!·!===· |_| |=====!=====!_    |===··!===··!\n",
            "| | |=··!·!  _|  ___|___|___| |=··!  _|=··!  _______  |   |  _  | | |··===!···! |\n",
            "|  _|··=!·! |_____  | |  _  |  _|·!··=====!_|··=··!_____|___|___  |_|·!···!·!·! |\n",
            "|_  |·! |·!_  |  ___| |_  |___|··=!=··!  ···!·! |·!··=··!··===··!_|···!·!·!·!·!_|\n",
            "|  _|·!··=! |___| |  _________|·!_  |·! |·!===!··=!=··!===!  _|·!··=!_|·!===!=··!\n",
            "|___|·!·!_____  |  _|   | |··===!   |·!_|·!_  |·!···!=··!_  |··=!··=====!···!···!\n",
            "!···!·!=====··!  _|_  | | |=··!   | |=··!·!  _|===!=====!   |·!_____  | |·!===! |\n",
            "!·!·!=====··!·! |   | |  ___|·! | |  _|===!_  |  _______  | |===··!___  |·! |  _|\n",
            "!·!=··!···!·!·!___|___|_|····=!_| |_|  _   ___| |_____  | |_____|=··!_  |·! |_  |\n",
            "!···!===!===!===··!··=··!·!_|···!   | | | |   |_  |  _  |_  |  _  |=··!_|·!  ___|\n",
            "| |=··!  ________===!__===!··=!·!_| | | |___|___   _|_  | | | | |____=====! |_  |\n",
            "| |···!___|··===========··!=··!=··!_____|  ___  | |   |___|_   _____|   |  _|   |\n",
            "| |·!_|··===!     |_    |·!··=! |·!  _____|_  | |_| | |  _  |_|  ___  | |_____|_|\n",
            "| |=··!·!  ___| | |  _| |===!   |·!_________  |_____|___|   |  _|   |_|_  |  _  |\n",
            "|_  |===!___|  _|___|  _|_   _| |=====···_  | |___  |  ___|_|_  |_| |   | |  _| |\n",
            "| | |    _____|  _  | |  ___|___   ___|·!___|___  | |___________| |___| |  _|  _|\n",
            "|  _|_| |   |_  | | |  _|  _  |___|····=!····___|_______  |_   _|     | |_|  _| |\n",
            "|___  |_  |_  |___|___|  ___| |··===! |··=!·!··=···___  |_  |_   _| | |_  | |   |\n",
            "|   |_  |___| |  _______|  _  |·!···!_|=··!====_|===··! | |_  |___| |_  |___|_| |\n",
            "| |_  |___  |_____|  _____| | |===!·!···!·!_  |··=====! | |  _|  ___| |_____  | |\n",
            "| | |_    | |  _  |_  | |   |_  | |===!====___|=··!   |_  | |  _|_   ___  | | | |\n",
            "|_  |  _|_| | |_______|___| |  _|_   _  |··=======! |_|  _| | |  ___|_   _| | | |\n",
            "|  _| |  ___| |  _______  | |___  | |  _|=====··!   |  _| |___|_  |   |_   _|_  |\n",
            "| |   |___  |___  |   |  _|_    | |_|     |···!·! |_|_  | |··=··· | | |___|   | |\n",
            "| | |___  |___  |___|_|   |  _| |_  | | |_|·!·!·!  _______|=··!·! | |_______|___|\n",
            "| | |_____|   | |  _  |_| | |___|  _|_| |··=!===!_|··===··!··=!·!_|___  |···!_  |\n",
            "|_|_________|_____|_______|_____________|============___|====_|===========!=====·\n"
          ]
        }
      ]
    }
  ]
}